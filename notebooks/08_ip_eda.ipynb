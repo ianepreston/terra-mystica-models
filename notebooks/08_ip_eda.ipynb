{
 "cells": [
  {
   "cell_type": "markdown",
   "metadata": {},
   "source": [
    "# More EDA"
   ]
  },
  {
   "cell_type": "markdown",
   "metadata": {},
   "source": [
    "Let's carry on from the last notebook, doing a preliminary investigation of the columns and potentially applying data fixes/filters that will be required prior to modeling "
   ]
  },
  {
   "cell_type": "code",
   "execution_count": 1,
   "metadata": {},
   "outputs": [],
   "source": [
    "%load_ext autoreload\n",
    "%autoreload 2"
   ]
  },
  {
   "cell_type": "code",
   "execution_count": 2,
   "metadata": {},
   "outputs": [],
   "source": [
    "from pathlib import Path\n",
    "import json\n",
    "import pandas as pd\n",
    "import altair as alt\n",
    "import seaborn as sns\n",
    "from terra_mystica_models.features import parse_interim\n",
    "from terra_mystica_models.data.make_dataset import TerraMysticaGame"
   ]
  },
  {
   "cell_type": "code",
   "execution_count": 3,
   "metadata": {},
   "outputs": [],
   "source": [
    "pd.options.display.max_rows = 999"
   ]
  },
  {
   "cell_type": "code",
   "execution_count": 4,
   "metadata": {},
   "outputs": [
    {
     "data": {
      "text/plain": [
       "RendererRegistry.enable('jupyterlab')"
      ]
     },
     "execution_count": 4,
     "metadata": {},
     "output_type": "execute_result"
    }
   ],
   "source": [
    "alt.renderers.enable(\"jupyterlab\")"
   ]
  },
  {
   "cell_type": "code",
   "execution_count": 5,
   "metadata": {},
   "outputs": [],
   "source": [
    "all_games_df = parse_interim.interim_full_pipe()"
   ]
  },
  {
   "cell_type": "markdown",
   "metadata": {},
   "source": [
    "### Scoring tile columns\n",
    "\n",
    "Last notebook I got caught up on the two games without scoring tiles and forgot to actually analyse their distribution"
   ]
  },
  {
   "cell_type": "code",
   "execution_count": 6,
   "metadata": {},
   "outputs": [
    {
     "data": {
      "text/html": [
       "<div>\n",
       "<style scoped>\n",
       "    .dataframe tbody tr th:only-of-type {\n",
       "        vertical-align: middle;\n",
       "    }\n",
       "\n",
       "    .dataframe tbody tr th {\n",
       "        vertical-align: top;\n",
       "    }\n",
       "\n",
       "    .dataframe thead th {\n",
       "        text-align: right;\n",
       "    }\n",
       "</style>\n",
       "<table border=\"1\" class=\"dataframe\">\n",
       "  <thead>\n",
       "    <tr style=\"text-align: right;\">\n",
       "      <th></th>\n",
       "      <th>score_tile</th>\n",
       "      <th>count</th>\n",
       "    </tr>\n",
       "  </thead>\n",
       "  <tbody>\n",
       "    <tr>\n",
       "      <th>0</th>\n",
       "      <td>1 CULT_P -&gt; 2 C | TE &gt;&gt; 4</td>\n",
       "      <td>58617</td>\n",
       "    </tr>\n",
       "    <tr>\n",
       "      <th>1</th>\n",
       "      <td>1 EARTH -&gt; 1 C | SPADE &gt;&gt; 2</td>\n",
       "      <td>88284</td>\n",
       "    </tr>\n",
       "    <tr>\n",
       "      <th>2</th>\n",
       "      <td>4 WATER -&gt; 1 SPADE | TP &gt;&gt; 3</td>\n",
       "      <td>102618</td>\n",
       "    </tr>\n",
       "    <tr>\n",
       "      <th>3</th>\n",
       "      <td>4 EARTH -&gt; 1 SPADE | TOWN &gt;&gt; 5</td>\n",
       "      <td>103001</td>\n",
       "    </tr>\n",
       "    <tr>\n",
       "      <th>4</th>\n",
       "      <td>4 FIRE -&gt; 4 PW | D &gt;&gt; 2</td>\n",
       "      <td>103020</td>\n",
       "    </tr>\n",
       "    <tr>\n",
       "      <th>5</th>\n",
       "      <td>2 FIRE -&gt; 1 W | SA/SH &gt;&gt; 5</td>\n",
       "      <td>103020</td>\n",
       "    </tr>\n",
       "    <tr>\n",
       "      <th>6</th>\n",
       "      <td>4 AIR -&gt; 1 SPADE | TP &gt;&gt; 3</td>\n",
       "      <td>103251</td>\n",
       "    </tr>\n",
       "    <tr>\n",
       "      <th>7</th>\n",
       "      <td>2 AIR -&gt; 1 W | SA/SH &gt;&gt; 5</td>\n",
       "      <td>103311</td>\n",
       "    </tr>\n",
       "    <tr>\n",
       "      <th>8</th>\n",
       "      <td>4 WATER -&gt; 1 P | D &gt;&gt; 2</td>\n",
       "      <td>103378</td>\n",
       "    </tr>\n",
       "  </tbody>\n",
       "</table>\n",
       "</div>"
      ],
      "text/plain": [
       "                       score_tile   count\n",
       "0       1 CULT_P -> 2 C | TE >> 4   58617\n",
       "1     1 EARTH -> 1 C | SPADE >> 2   88284\n",
       "2    4 WATER -> 1 SPADE | TP >> 3  102618\n",
       "3  4 EARTH -> 1 SPADE | TOWN >> 5  103001\n",
       "4         4 FIRE -> 4 PW | D >> 2  103020\n",
       "5      2 FIRE -> 1 W | SA/SH >> 5  103020\n",
       "6      4 AIR -> 1 SPADE | TP >> 3  103251\n",
       "7       2 AIR -> 1 W | SA/SH >> 5  103311\n",
       "8         4 WATER -> 1 P | D >> 2  103378"
      ]
     },
     "execution_count": 6,
     "metadata": {},
     "output_type": "execute_result"
    }
   ],
   "source": [
    "score_cols = [\n",
    "        col\n",
    "        for col in all_games_df.columns\n",
    "        if col.startswith(\"score_turn\")\n",
    "]\n",
    "all_scores = (\n",
    "    all_games_df\n",
    "    .melt(value_vars=score_cols)\n",
    "    [\"value\"]\n",
    "    .value_counts()\n",
    "    .sort_values()\n",
    "    .to_frame()\n",
    "    .reset_index()\n",
    "    .rename(columns={\"index\": \"score_tile\", \"value\": \"count\"})\n",
    ")\n",
    "all_scores"
   ]
  },
  {
   "cell_type": "code",
   "execution_count": 7,
   "metadata": {},
   "outputs": [
    {
     "data": {
      "application/vnd.vegalite.v4+json": {
       "$schema": "https://vega.github.io/schema/vega-lite/v4.0.2.json",
       "config": {
        "view": {
         "continuousHeight": 300,
         "continuousWidth": 400
        }
       },
       "data": {
        "name": "data-cdf2199f2d0781343d61203ca48047eb"
       },
       "datasets": {
        "data-cdf2199f2d0781343d61203ca48047eb": [
         {
          "count": 58617,
          "score_tile": "1 CULT_P -> 2 C | TE >> 4"
         },
         {
          "count": 88284,
          "score_tile": "1 EARTH -> 1 C | SPADE >> 2"
         },
         {
          "count": 102618,
          "score_tile": "4 WATER -> 1 SPADE | TP >> 3"
         },
         {
          "count": 103001,
          "score_tile": "4 EARTH -> 1 SPADE | TOWN >> 5"
         },
         {
          "count": 103020,
          "score_tile": "4 FIRE -> 4 PW | D >> 2"
         },
         {
          "count": 103020,
          "score_tile": "2 FIRE -> 1 W | SA/SH >> 5"
         },
         {
          "count": 103251,
          "score_tile": "4 AIR -> 1 SPADE | TP >> 3"
         },
         {
          "count": 103311,
          "score_tile": "2 AIR -> 1 W | SA/SH >> 5"
         },
         {
          "count": 103378,
          "score_tile": "4 WATER -> 1 P | D >> 2"
         }
        ]
       },
       "encoding": {
        "x": {
         "field": "score_tile",
         "type": "nominal"
        },
        "y": {
         "field": "count",
         "type": "quantitative"
        }
       },
       "mark": "bar"
      },
      "image/png": "[encoded data removed]",
      "text/plain": [
       "<VegaLite 4 object>\n",
       "\n",
       "If you see this message, it means the renderer has not been properly enabled\n",
       "for the frontend that you are using. For more information, see\n",
       "https://altair-viz.github.io/user_guide/troubleshooting.html\n"
      ]
     },
     "execution_count": 7,
     "metadata": {},
     "output_type": "execute_result"
    }
   ],
   "source": [
    "alt.Chart(all_scores).mark_bar().encode(x=\"score_tile\", y=\"count\")"
   ]
  },
  {
   "cell_type": "markdown",
   "metadata": {},
   "source": [
    "OK, again we have a pretty nice even distribution except for a couple tiles. Maybe expansions?"
   ]
  },
  {
   "cell_type": "markdown",
   "metadata": {},
   "source": [
    "## Victory points.\n",
    "Ok, this is where it all goes down. I want to analyze individual player stats before I get to feature engineering but let's finish off the basic game stats before moving on to that."
   ]
  },
  {
   "cell_type": "markdown",
   "metadata": {},
   "source": [
    "### Overall VP distribution\n",
    "\n",
    "I'm also going to stagger this by player order to see if there's a positional advantage, but let's just see what the general distribution of points and point margins is."
   ]
  },
  {
   "cell_type": "markdown",
   "metadata": {},
   "source": [
    "I'm going to switch to seaborn for distributional plotting. Altair will embed every data point that goes into the data visualization and blow up the size of my notebook (learned the hard way on an earlier project)"
   ]
  },
  {
   "cell_type": "code",
   "execution_count": 8,
   "metadata": {},
   "outputs": [
    {
     "data": {
      "image/png": "[encoded data removed]",
      "text/plain": [
       "<Figure size 432x288 with 1 Axes>"
      ]
     },
     "metadata": {
      "needs_background": "light"
     },
     "output_type": "display_data"
    }
   ],
   "source": [
    "vp_cols = [col for col in all_games_df.columns if col.endswith(\"vp\")]\n",
    "all_vps = (\n",
    "    all_games_df\n",
    "    .reset_index()\n",
    "    .melt(value_vars=vp_cols)\n",
    "    .dropna()\n",
    "    [\"value\"]\n",
    ")\n",
    "sns.distplot(all_vps);"
   ]
  },
  {
   "cell_type": "markdown",
   "metadata": {},
   "source": [
    "Ok, we have a weird left tail of low scoring games - maybe premature finishes or high player count? Can investigate more later. Overall It's a pretty symmetric distribution looking centered in the neighborhood of 125. I'll repeat this analysis on the subset of games that I actually want to model later and I'll be particularly interested in what happens with that left tail. Let's get a numerical summary of this same data"
   ]
  },
  {
   "cell_type": "code",
   "execution_count": 9,
   "metadata": {},
   "outputs": [
    {
     "data": {
      "text/plain": [
       "count    517413.000000\n",
       "mean        120.648841\n",
       "std          26.748005\n",
       "min           6.000000\n",
       "25%         107.000000\n",
       "50%         123.000000\n",
       "75%         138.000000\n",
       "max         352.000000\n",
       "Name: value, dtype: float64"
      ]
     },
     "execution_count": 9,
     "metadata": {},
     "output_type": "execute_result"
    }
   ],
   "source": [
    "all_vps.describe()"
   ]
  },
  {
   "cell_type": "markdown",
   "metadata": {},
   "source": [
    "Ok, so there's a very fat tail out to the right that was hard to see on the chart as well. would be interesting to see what happened with that game with 352 VP. Let's track that down"
   ]
  },
  {
   "cell_type": "code",
   "execution_count": 10,
   "metadata": {},
   "outputs": [
    {
     "data": {
      "text/html": [
       "<div>\n",
       "<style scoped>\n",
       "    .dataframe tbody tr th:only-of-type {\n",
       "        vertical-align: middle;\n",
       "    }\n",
       "\n",
       "    .dataframe tbody tr th {\n",
       "        vertical-align: top;\n",
       "    }\n",
       "\n",
       "    .dataframe thead th {\n",
       "        text-align: right;\n",
       "    }\n",
       "</style>\n",
       "<table border=\"1\" class=\"dataframe\">\n",
       "  <thead>\n",
       "    <tr style=\"text-align: right;\">\n",
       "      <th></th>\n",
       "      <th>MtLHiScoreEng1</th>\n",
       "    </tr>\n",
       "  </thead>\n",
       "  <tbody>\n",
       "    <tr>\n",
       "      <th>date</th>\n",
       "      <td>2017-06-24 21:07:08</td>\n",
       "    </tr>\n",
       "    <tr>\n",
       "      <th>map</th>\n",
       "      <td>126fe960806d587c78546b30f1a90853b1ada468</td>\n",
       "    </tr>\n",
       "    <tr>\n",
       "      <th>number_of_players</th>\n",
       "      <td>5</td>\n",
       "    </tr>\n",
       "    <tr>\n",
       "      <th>original_map</th>\n",
       "      <td>True</td>\n",
       "    </tr>\n",
       "    <tr>\n",
       "      <th>has_expansion_factions</th>\n",
       "      <td>False</td>\n",
       "    </tr>\n",
       "    <tr>\n",
       "      <th>has_dropped_faction</th>\n",
       "      <td>False</td>\n",
       "    </tr>\n",
       "    <tr>\n",
       "      <th>file</th>\n",
       "      <td>2017-06.json</td>\n",
       "    </tr>\n",
       "    <tr>\n",
       "      <th>score_turn_1</th>\n",
       "      <td>1 CULT_P -&gt; 2 C | TE &gt;&gt; 4</td>\n",
       "    </tr>\n",
       "    <tr>\n",
       "      <th>score_turn_2</th>\n",
       "      <td>4 FIRE -&gt; 4 PW | D &gt;&gt; 2</td>\n",
       "    </tr>\n",
       "    <tr>\n",
       "      <th>score_turn_3</th>\n",
       "      <td>4 WATER -&gt; 1 SPADE | TP &gt;&gt; 3</td>\n",
       "    </tr>\n",
       "    <tr>\n",
       "      <th>score_turn_4</th>\n",
       "      <td>2 FIRE -&gt; 1 W | SA/SH &gt;&gt; 5</td>\n",
       "    </tr>\n",
       "    <tr>\n",
       "      <th>score_turn_5</th>\n",
       "      <td>4 WATER -&gt; 1 P | D &gt;&gt; 2</td>\n",
       "    </tr>\n",
       "    <tr>\n",
       "      <th>score_turn_6</th>\n",
       "      <td>4 EARTH -&gt; 1 SPADE | TOWN &gt;&gt; 5</td>\n",
       "    </tr>\n",
       "    <tr>\n",
       "      <th>BON1</th>\n",
       "      <td>True</td>\n",
       "    </tr>\n",
       "    <tr>\n",
       "      <th>BON2</th>\n",
       "      <td>False</td>\n",
       "    </tr>\n",
       "    <tr>\n",
       "      <th>BON3</th>\n",
       "      <td>True</td>\n",
       "    </tr>\n",
       "    <tr>\n",
       "      <th>BON4</th>\n",
       "      <td>True</td>\n",
       "    </tr>\n",
       "    <tr>\n",
       "      <th>BON5</th>\n",
       "      <td>True</td>\n",
       "    </tr>\n",
       "    <tr>\n",
       "      <th>BON6</th>\n",
       "      <td>True</td>\n",
       "    </tr>\n",
       "    <tr>\n",
       "      <th>BON7</th>\n",
       "      <td>True</td>\n",
       "    </tr>\n",
       "    <tr>\n",
       "      <th>BON8</th>\n",
       "      <td>False</td>\n",
       "    </tr>\n",
       "    <tr>\n",
       "      <th>BON9</th>\n",
       "      <td>True</td>\n",
       "    </tr>\n",
       "    <tr>\n",
       "      <th>BON10</th>\n",
       "      <td>True</td>\n",
       "    </tr>\n",
       "    <tr>\n",
       "      <th>player_1_faction</th>\n",
       "      <td>halflings</td>\n",
       "    </tr>\n",
       "    <tr>\n",
       "      <th>player_2_faction</th>\n",
       "      <td>mermaids</td>\n",
       "    </tr>\n",
       "    <tr>\n",
       "      <th>player_3_faction</th>\n",
       "      <td>nomads</td>\n",
       "    </tr>\n",
       "    <tr>\n",
       "      <th>player_4_faction</th>\n",
       "      <td>darklings</td>\n",
       "    </tr>\n",
       "    <tr>\n",
       "      <th>player_5_faction</th>\n",
       "      <td>engineers</td>\n",
       "    </tr>\n",
       "    <tr>\n",
       "      <th>player_6_faction</th>\n",
       "      <td>NaN</td>\n",
       "    </tr>\n",
       "    <tr>\n",
       "      <th>player_7_faction</th>\n",
       "      <td>NaN</td>\n",
       "    </tr>\n",
       "    <tr>\n",
       "      <th>player_1_user</th>\n",
       "      <td>MtL_HS</td>\n",
       "    </tr>\n",
       "    <tr>\n",
       "      <th>player_2_user</th>\n",
       "      <td>MtL_HS</td>\n",
       "    </tr>\n",
       "    <tr>\n",
       "      <th>player_3_user</th>\n",
       "      <td>MtL_HS</td>\n",
       "    </tr>\n",
       "    <tr>\n",
       "      <th>player_4_user</th>\n",
       "      <td>MtL_HS</td>\n",
       "    </tr>\n",
       "    <tr>\n",
       "      <th>player_5_user</th>\n",
       "      <td>MtL_HS</td>\n",
       "    </tr>\n",
       "    <tr>\n",
       "      <th>player_6_user</th>\n",
       "      <td>NaN</td>\n",
       "    </tr>\n",
       "    <tr>\n",
       "      <th>player_7_user</th>\n",
       "      <td>NaN</td>\n",
       "    </tr>\n",
       "    <tr>\n",
       "      <th>player_1_vp</th>\n",
       "      <td>62</td>\n",
       "    </tr>\n",
       "    <tr>\n",
       "      <th>player_2_vp</th>\n",
       "      <td>61</td>\n",
       "    </tr>\n",
       "    <tr>\n",
       "      <th>player_3_vp</th>\n",
       "      <td>46</td>\n",
       "    </tr>\n",
       "    <tr>\n",
       "      <th>player_4_vp</th>\n",
       "      <td>59</td>\n",
       "    </tr>\n",
       "    <tr>\n",
       "      <th>player_5_vp</th>\n",
       "      <td>352</td>\n",
       "    </tr>\n",
       "    <tr>\n",
       "      <th>player_6_vp</th>\n",
       "      <td>NaN</td>\n",
       "    </tr>\n",
       "    <tr>\n",
       "      <th>player_7_vp</th>\n",
       "      <td>NaN</td>\n",
       "    </tr>\n",
       "    <tr>\n",
       "      <th>player_1_vp_margin</th>\n",
       "      <td>16</td>\n",
       "    </tr>\n",
       "    <tr>\n",
       "      <th>player_2_vp_margin</th>\n",
       "      <td>15</td>\n",
       "    </tr>\n",
       "    <tr>\n",
       "      <th>player_3_vp_margin</th>\n",
       "      <td>0</td>\n",
       "    </tr>\n",
       "    <tr>\n",
       "      <th>player_4_vp_margin</th>\n",
       "      <td>13</td>\n",
       "    </tr>\n",
       "    <tr>\n",
       "      <th>player_5_vp_margin</th>\n",
       "      <td>306</td>\n",
       "    </tr>\n",
       "    <tr>\n",
       "      <th>player_6_vp_margin</th>\n",
       "      <td>NaN</td>\n",
       "    </tr>\n",
       "    <tr>\n",
       "      <th>player_7_vp_margin</th>\n",
       "      <td>NaN</td>\n",
       "    </tr>\n",
       "  </tbody>\n",
       "</table>\n",
       "</div>"
      ],
      "text/plain": [
       "                                                  MtLHiScoreEng1\n",
       "date                                         2017-06-24 21:07:08\n",
       "map                     126fe960806d587c78546b30f1a90853b1ada468\n",
       "number_of_players                                              5\n",
       "original_map                                                True\n",
       "has_expansion_factions                                     False\n",
       "has_dropped_faction                                        False\n",
       "file                                                2017-06.json\n",
       "score_turn_1                           1 CULT_P -> 2 C | TE >> 4\n",
       "score_turn_2                             4 FIRE -> 4 PW | D >> 2\n",
       "score_turn_3                        4 WATER -> 1 SPADE | TP >> 3\n",
       "score_turn_4                          2 FIRE -> 1 W | SA/SH >> 5\n",
       "score_turn_5                             4 WATER -> 1 P | D >> 2\n",
       "score_turn_6                      4 EARTH -> 1 SPADE | TOWN >> 5\n",
       "BON1                                                        True\n",
       "BON2                                                       False\n",
       "BON3                                                        True\n",
       "BON4                                                        True\n",
       "BON5                                                        True\n",
       "BON6                                                        True\n",
       "BON7                                                        True\n",
       "BON8                                                       False\n",
       "BON9                                                        True\n",
       "BON10                                                       True\n",
       "player_1_faction                                       halflings\n",
       "player_2_faction                                        mermaids\n",
       "player_3_faction                                          nomads\n",
       "player_4_faction                                       darklings\n",
       "player_5_faction                                       engineers\n",
       "player_6_faction                                             NaN\n",
       "player_7_faction                                             NaN\n",
       "player_1_user                                             MtL_HS\n",
       "player_2_user                                             MtL_HS\n",
       "player_3_user                                             MtL_HS\n",
       "player_4_user                                             MtL_HS\n",
       "player_5_user                                             MtL_HS\n",
       "player_6_user                                                NaN\n",
       "player_7_user                                                NaN\n",
       "player_1_vp                                                   62\n",
       "player_2_vp                                                   61\n",
       "player_3_vp                                                   46\n",
       "player_4_vp                                                   59\n",
       "player_5_vp                                                  352\n",
       "player_6_vp                                                  NaN\n",
       "player_7_vp                                                  NaN\n",
       "player_1_vp_margin                                            16\n",
       "player_2_vp_margin                                            15\n",
       "player_3_vp_margin                                             0\n",
       "player_4_vp_margin                                            13\n",
       "player_5_vp_margin                                           306\n",
       "player_6_vp_margin                                           NaN\n",
       "player_7_vp_margin                                           NaN"
      ]
     },
     "execution_count": 10,
     "metadata": {},
     "output_type": "execute_result"
    }
   ],
   "source": [
    "mask = (all_games_df[vp_cols] == 352).any(axis=\"columns\")\n",
    "all_games_df.loc[mask].T"
   ]
  },
  {
   "cell_type": "markdown",
   "metadata": {},
   "source": [
    "Ok, so this is just some dude playing against himself specifically to get a high score. That brings up a good thing to filter for, I probably don't want games without unique users. Will have to code for that carefully so I don't accidentally drop games with an \"Other\" player or something"
   ]
  },
  {
   "cell_type": "markdown",
   "metadata": {},
   "source": [
    "Since that so quickly identified a data concern let's take a look at the 6 point game and see what's up with it"
   ]
  },
  {
   "cell_type": "code",
   "execution_count": 11,
   "metadata": {},
   "outputs": [
    {
     "data": {
      "text/html": [
       "<div>\n",
       "<style scoped>\n",
       "    .dataframe tbody tr th:only-of-type {\n",
       "        vertical-align: middle;\n",
       "    }\n",
       "\n",
       "    .dataframe tbody tr th {\n",
       "        vertical-align: top;\n",
       "    }\n",
       "\n",
       "    .dataframe thead th {\n",
       "        text-align: right;\n",
       "    }\n",
       "</style>\n",
       "<table border=\"1\" class=\"dataframe\">\n",
       "  <thead>\n",
       "    <tr style=\"text-align: right;\">\n",
       "      <th></th>\n",
       "      <th>Moon29</th>\n",
       "    </tr>\n",
       "  </thead>\n",
       "  <tbody>\n",
       "    <tr>\n",
       "      <th>date</th>\n",
       "      <td>2016-08-20 11:04:55</td>\n",
       "    </tr>\n",
       "    <tr>\n",
       "      <th>map</th>\n",
       "      <td>126fe960806d587c78546b30f1a90853b1ada468</td>\n",
       "    </tr>\n",
       "    <tr>\n",
       "      <th>number_of_players</th>\n",
       "      <td>5</td>\n",
       "    </tr>\n",
       "    <tr>\n",
       "      <th>original_map</th>\n",
       "      <td>True</td>\n",
       "    </tr>\n",
       "    <tr>\n",
       "      <th>has_expansion_factions</th>\n",
       "      <td>True</td>\n",
       "    </tr>\n",
       "    <tr>\n",
       "      <th>has_dropped_faction</th>\n",
       "      <td>False</td>\n",
       "    </tr>\n",
       "    <tr>\n",
       "      <th>file</th>\n",
       "      <td>2016-08.json</td>\n",
       "    </tr>\n",
       "    <tr>\n",
       "      <th>score_turn_1</th>\n",
       "      <td>4 WATER -&gt; 1 P | D &gt;&gt; 2</td>\n",
       "    </tr>\n",
       "    <tr>\n",
       "      <th>score_turn_2</th>\n",
       "      <td>4 WATER -&gt; 1 SPADE | TP &gt;&gt; 3</td>\n",
       "    </tr>\n",
       "    <tr>\n",
       "      <th>score_turn_3</th>\n",
       "      <td>4 AIR -&gt; 1 SPADE | TP &gt;&gt; 3</td>\n",
       "    </tr>\n",
       "    <tr>\n",
       "      <th>score_turn_4</th>\n",
       "      <td>1 CULT_P -&gt; 2 C | TE &gt;&gt; 4</td>\n",
       "    </tr>\n",
       "    <tr>\n",
       "      <th>score_turn_5</th>\n",
       "      <td>2 FIRE -&gt; 1 W | SA/SH &gt;&gt; 5</td>\n",
       "    </tr>\n",
       "    <tr>\n",
       "      <th>score_turn_6</th>\n",
       "      <td>2 AIR -&gt; 1 W | SA/SH &gt;&gt; 5</td>\n",
       "    </tr>\n",
       "    <tr>\n",
       "      <th>BON1</th>\n",
       "      <td>True</td>\n",
       "    </tr>\n",
       "    <tr>\n",
       "      <th>BON2</th>\n",
       "      <td>True</td>\n",
       "    </tr>\n",
       "    <tr>\n",
       "      <th>BON3</th>\n",
       "      <td>False</td>\n",
       "    </tr>\n",
       "    <tr>\n",
       "      <th>BON4</th>\n",
       "      <td>True</td>\n",
       "    </tr>\n",
       "    <tr>\n",
       "      <th>BON5</th>\n",
       "      <td>True</td>\n",
       "    </tr>\n",
       "    <tr>\n",
       "      <th>BON6</th>\n",
       "      <td>True</td>\n",
       "    </tr>\n",
       "    <tr>\n",
       "      <th>BON7</th>\n",
       "      <td>True</td>\n",
       "    </tr>\n",
       "    <tr>\n",
       "      <th>BON8</th>\n",
       "      <td>True</td>\n",
       "    </tr>\n",
       "    <tr>\n",
       "      <th>BON9</th>\n",
       "      <td>True</td>\n",
       "    </tr>\n",
       "    <tr>\n",
       "      <th>BON10</th>\n",
       "      <td>False</td>\n",
       "    </tr>\n",
       "    <tr>\n",
       "      <th>player_1_faction</th>\n",
       "      <td>chaosmagicians</td>\n",
       "    </tr>\n",
       "    <tr>\n",
       "      <th>player_2_faction</th>\n",
       "      <td>icemaidens</td>\n",
       "    </tr>\n",
       "    <tr>\n",
       "      <th>player_3_faction</th>\n",
       "      <td>nomads</td>\n",
       "    </tr>\n",
       "    <tr>\n",
       "      <th>player_4_faction</th>\n",
       "      <td>acolytes</td>\n",
       "    </tr>\n",
       "    <tr>\n",
       "      <th>player_5_faction</th>\n",
       "      <td>riverwalkers</td>\n",
       "    </tr>\n",
       "    <tr>\n",
       "      <th>player_6_faction</th>\n",
       "      <td>NaN</td>\n",
       "    </tr>\n",
       "    <tr>\n",
       "      <th>player_7_faction</th>\n",
       "      <td>NaN</td>\n",
       "    </tr>\n",
       "    <tr>\n",
       "      <th>player_1_user</th>\n",
       "      <td>nBoatZ</td>\n",
       "    </tr>\n",
       "    <tr>\n",
       "      <th>player_2_user</th>\n",
       "      <td>marcusesses</td>\n",
       "    </tr>\n",
       "    <tr>\n",
       "      <th>player_3_user</th>\n",
       "      <td>Muchacho</td>\n",
       "    </tr>\n",
       "    <tr>\n",
       "      <th>player_4_user</th>\n",
       "      <td>Sofus</td>\n",
       "    </tr>\n",
       "    <tr>\n",
       "      <th>player_5_user</th>\n",
       "      <td>Berci27</td>\n",
       "    </tr>\n",
       "    <tr>\n",
       "      <th>player_6_user</th>\n",
       "      <td>NaN</td>\n",
       "    </tr>\n",
       "    <tr>\n",
       "      <th>player_7_user</th>\n",
       "      <td>NaN</td>\n",
       "    </tr>\n",
       "    <tr>\n",
       "      <th>player_1_vp</th>\n",
       "      <td>72</td>\n",
       "    </tr>\n",
       "    <tr>\n",
       "      <th>player_2_vp</th>\n",
       "      <td>118</td>\n",
       "    </tr>\n",
       "    <tr>\n",
       "      <th>player_3_vp</th>\n",
       "      <td>112</td>\n",
       "    </tr>\n",
       "    <tr>\n",
       "      <th>player_4_vp</th>\n",
       "      <td>95</td>\n",
       "    </tr>\n",
       "    <tr>\n",
       "      <th>player_5_vp</th>\n",
       "      <td>6</td>\n",
       "    </tr>\n",
       "    <tr>\n",
       "      <th>player_6_vp</th>\n",
       "      <td>NaN</td>\n",
       "    </tr>\n",
       "    <tr>\n",
       "      <th>player_7_vp</th>\n",
       "      <td>NaN</td>\n",
       "    </tr>\n",
       "    <tr>\n",
       "      <th>player_1_vp_margin</th>\n",
       "      <td>66</td>\n",
       "    </tr>\n",
       "    <tr>\n",
       "      <th>player_2_vp_margin</th>\n",
       "      <td>112</td>\n",
       "    </tr>\n",
       "    <tr>\n",
       "      <th>player_3_vp_margin</th>\n",
       "      <td>106</td>\n",
       "    </tr>\n",
       "    <tr>\n",
       "      <th>player_4_vp_margin</th>\n",
       "      <td>89</td>\n",
       "    </tr>\n",
       "    <tr>\n",
       "      <th>player_5_vp_margin</th>\n",
       "      <td>0</td>\n",
       "    </tr>\n",
       "    <tr>\n",
       "      <th>player_6_vp_margin</th>\n",
       "      <td>NaN</td>\n",
       "    </tr>\n",
       "    <tr>\n",
       "      <th>player_7_vp_margin</th>\n",
       "      <td>NaN</td>\n",
       "    </tr>\n",
       "  </tbody>\n",
       "</table>\n",
       "</div>"
      ],
      "text/plain": [
       "                                                          Moon29\n",
       "date                                         2016-08-20 11:04:55\n",
       "map                     126fe960806d587c78546b30f1a90853b1ada468\n",
       "number_of_players                                              5\n",
       "original_map                                                True\n",
       "has_expansion_factions                                      True\n",
       "has_dropped_faction                                        False\n",
       "file                                                2016-08.json\n",
       "score_turn_1                             4 WATER -> 1 P | D >> 2\n",
       "score_turn_2                        4 WATER -> 1 SPADE | TP >> 3\n",
       "score_turn_3                          4 AIR -> 1 SPADE | TP >> 3\n",
       "score_turn_4                           1 CULT_P -> 2 C | TE >> 4\n",
       "score_turn_5                          2 FIRE -> 1 W | SA/SH >> 5\n",
       "score_turn_6                           2 AIR -> 1 W | SA/SH >> 5\n",
       "BON1                                                        True\n",
       "BON2                                                        True\n",
       "BON3                                                       False\n",
       "BON4                                                        True\n",
       "BON5                                                        True\n",
       "BON6                                                        True\n",
       "BON7                                                        True\n",
       "BON8                                                        True\n",
       "BON9                                                        True\n",
       "BON10                                                      False\n",
       "player_1_faction                                  chaosmagicians\n",
       "player_2_faction                                      icemaidens\n",
       "player_3_faction                                          nomads\n",
       "player_4_faction                                        acolytes\n",
       "player_5_faction                                    riverwalkers\n",
       "player_6_faction                                             NaN\n",
       "player_7_faction                                             NaN\n",
       "player_1_user                                             nBoatZ\n",
       "player_2_user                                        marcusesses\n",
       "player_3_user                                           Muchacho\n",
       "player_4_user                                              Sofus\n",
       "player_5_user                                            Berci27\n",
       "player_6_user                                                NaN\n",
       "player_7_user                                                NaN\n",
       "player_1_vp                                                   72\n",
       "player_2_vp                                                  118\n",
       "player_3_vp                                                  112\n",
       "player_4_vp                                                   95\n",
       "player_5_vp                                                    6\n",
       "player_6_vp                                                  NaN\n",
       "player_7_vp                                                  NaN\n",
       "player_1_vp_margin                                            66\n",
       "player_2_vp_margin                                           112\n",
       "player_3_vp_margin                                           106\n",
       "player_4_vp_margin                                            89\n",
       "player_5_vp_margin                                             0\n",
       "player_6_vp_margin                                           NaN\n",
       "player_7_vp_margin                                           NaN"
      ]
     },
     "execution_count": 11,
     "metadata": {},
     "output_type": "execute_result"
    }
   ],
   "source": [
    "mask = (all_games_df[vp_cols] == 6).any(axis=\"columns\")\n",
    "all_games_df.loc[mask].T"
   ]
  },
  {
   "cell_type": "markdown",
   "metadata": {},
   "source": [
    "Interesting, less obvious what happened there. I'd have guessed the 5th player quit early but \"has_dropped_faction\" is False, which I thought accounted for that. OK, I don't know what to do with that right now, will just have to keep it in mind."
   ]
  },
  {
   "cell_type": "markdown",
   "metadata": {},
   "source": [
    "### VP margin distribution\n",
    "\n",
    "Let's take a look at how much people are winning by"
   ]
  },
  {
   "cell_type": "code",
   "execution_count": 12,
   "metadata": {},
   "outputs": [
    {
     "data": {
      "image/png": "[encoded data removed]",
      "text/plain": [
       "<Figure size 432x288 with 1 Axes>"
      ]
     },
     "metadata": {
      "needs_background": "light"
     },
     "output_type": "display_data"
    }
   ],
   "source": [
    "vp_margin_cols = [col for col in all_games_df.columns if col.endswith(\"vp_margin\")]\n",
    "all_vp_margins = (\n",
    "    all_games_df\n",
    "    .reset_index()\n",
    "    .melt(value_vars=vp_margin_cols)\n",
    "    .dropna()\n",
    "    [\"value\"]\n",
    ")\n",
    "sns.distplot(all_vp_margins);"
   ]
  },
  {
   "cell_type": "code",
   "execution_count": 13,
   "metadata": {},
   "outputs": [
    {
     "data": {
      "text/plain": [
       "count    517413.000000\n",
       "mean         25.071738\n",
       "std          27.805489\n",
       "min           0.000000\n",
       "25%           0.000000\n",
       "50%          17.000000\n",
       "75%          39.000000\n",
       "max         306.000000\n",
       "Name: value, dtype: float64"
      ]
     },
     "execution_count": 13,
     "metadata": {},
     "output_type": "execute_result"
    }
   ],
   "source": [
    "all_vp_margins.describe()"
   ]
  },
  {
   "cell_type": "markdown",
   "metadata": {},
   "source": [
    "Oh, wait. I'm dumb. I got all concerned about how many 0s there are, but *by design* there's at least one zero in every game, since I calcuate the margin as how far above the lowest scoring player you are.\n",
    "\n",
    "Still, that distribution might be trouble for modelling. It might be safer to model total victory points. Either way we're just interested in the faction choice that gives you a marginal point advantage given your known parameters\n",
    "\n",
    "It would be interesting to see how many ties for first there are though."
   ]
  },
  {
   "cell_type": "code",
   "execution_count": 14,
   "metadata": {},
   "outputs": [
    {
     "data": {
      "text/plain": [
       "count    144750.000000\n",
       "mean          1.024636\n",
       "std           0.157488\n",
       "min           1.000000\n",
       "25%           1.000000\n",
       "50%           1.000000\n",
       "75%           1.000000\n",
       "max           4.000000\n",
       "Name: winning_vp_count, dtype: float64"
      ]
     },
     "execution_count": 14,
     "metadata": {},
     "output_type": "execute_result"
    }
   ],
   "source": [
    "# I don't need to redefine this but having it here makes it easier to follow the code\n",
    "# Although I'm immediately writing some pretty ugly code right below it so....\n",
    "vp_cols = [col for col in all_games_df.columns if col.endswith(\"vp\")]\n",
    "vp_testing_df = (\n",
    "    all_games_df\n",
    "    .reindex(columns=vp_cols)\n",
    "    .assign(winning_vp=lambda df: df[vp_cols].max(axis=\"columns\"))\n",
    ")\n",
    "tie_test_cols = []\n",
    "for player_num in range(1, 8):\n",
    "    player_col = f\"player_{player_num}_vp\"\n",
    "    calc_col = f\"player_{player_num}_has_high_score\"\n",
    "    tie_test_cols.append(calc_col)\n",
    "    vp_testing_df[calc_col] = vp_testing_df[player_col] == vp_testing_df[\"winning_vp\"]\n",
    "vp_testing_df[\"winning_vp_count\"] = vp_testing_df[tie_test_cols].sum(axis=\"columns\")\n",
    "num_winners = vp_testing_df[\"winning_vp_count\"]\n",
    "num_winners.describe()"
   ]
  },
  {
   "cell_type": "markdown",
   "metadata": {},
   "source": [
    "Ok, excellent. It looks like there's almost always a winner. That four way tie might be fun to check out though"
   ]
  },
  {
   "cell_type": "code",
   "execution_count": 15,
   "metadata": {},
   "outputs": [
    {
     "data": {
      "text/plain": [
       "Index(['4pLeague_S34_D6L1_G7'], dtype='object')"
      ]
     },
     "execution_count": 15,
     "metadata": {},
     "output_type": "execute_result"
    }
   ],
   "source": [
    "vp_testing_df.loc[vp_testing_df[\"winning_vp_count\"] == 4].index"
   ]
  },
  {
   "cell_type": "code",
   "execution_count": 16,
   "metadata": {},
   "outputs": [
    {
     "data": {
      "text/plain": [
       "date                                           2020-01-10 21:57:09\n",
       "map                       126fe960806d587c78546b30f1a90853b1ada468\n",
       "number_of_players                                                4\n",
       "original_map                                                  True\n",
       "has_expansion_factions                                       False\n",
       "has_dropped_faction                                          False\n",
       "file                                                  2020-01.json\n",
       "score_turn_1                          4 WATER -> 1 SPADE | TP >> 3\n",
       "score_turn_2                           1 EARTH -> 1 C | SPADE >> 2\n",
       "score_turn_3                        4 EARTH -> 1 SPADE | TOWN >> 5\n",
       "score_turn_4                             1 CULT_P -> 2 C | TE >> 4\n",
       "score_turn_5                               4 WATER -> 1 P | D >> 2\n",
       "score_turn_6                            2 FIRE -> 1 W | SA/SH >> 5\n",
       "BON1                                                          True\n",
       "BON2                                                          True\n",
       "BON3                                                          True\n",
       "BON4                                                          True\n",
       "BON5                                                         False\n",
       "BON6                                                          True\n",
       "BON7                                                         False\n",
       "BON8                                                          True\n",
       "BON9                                                         False\n",
       "BON10                                                         True\n",
       "player_1_faction                                         darklings\n",
       "player_2_faction                                         engineers\n",
       "player_3_faction                                          cultists\n",
       "player_4_faction                                        swarmlings\n",
       "player_5_faction                                               NaN\n",
       "player_6_faction                                               NaN\n",
       "player_7_faction                                               NaN\n",
       "player_1_user                                             Paolozek\n",
       "player_2_user                                         yagamihikari\n",
       "player_3_user                                                   Wy\n",
       "player_4_user                                           Strongfold\n",
       "player_5_user                                                  NaN\n",
       "player_6_user                                                  NaN\n",
       "player_7_user                                                  NaN\n",
       "player_1_vp                                                    132\n",
       "player_2_vp                                                    132\n",
       "player_3_vp                                                    132\n",
       "player_4_vp                                                    132\n",
       "player_5_vp                                                    NaN\n",
       "player_6_vp                                                    NaN\n",
       "player_7_vp                                                    NaN\n",
       "player_1_vp_margin                                               0\n",
       "player_2_vp_margin                                               0\n",
       "player_3_vp_margin                                               0\n",
       "player_4_vp_margin                                               0\n",
       "player_5_vp_margin                                             NaN\n",
       "player_6_vp_margin                                             NaN\n",
       "player_7_vp_margin                                             NaN\n",
       "Name: 4pLeague_S34_D6L1_G7, dtype: object"
      ]
     },
     "execution_count": 16,
     "metadata": {},
     "output_type": "execute_result"
    }
   ],
   "source": [
    "all_games_df.loc[\"4pLeague_S34_D6L1_G7\"].T"
   ]
  },
  {
   "cell_type": "markdown",
   "metadata": {},
   "source": [
    "Oh very interesting. All real players, judging by the index this is some sort of semi pro game and by the looks of it it's a legit 4 way tie. That's cool!"
   ]
  },
  {
   "cell_type": "markdown",
   "metadata": {},
   "source": [
    "## Players\n",
    "\n",
    "That's actually a perfect transition to looking at the players"
   ]
  },
  {
   "cell_type": "markdown",
   "metadata": {},
   "source": [
    "First quick step is to take a look at just first player users so I can understand how anonymous users are encoded"
   ]
  },
  {
   "cell_type": "code",
   "execution_count": 17,
   "metadata": {},
   "outputs": [
    {
     "data": {
      "text/html": [
       "<div>\n",
       "<style scoped>\n",
       "    .dataframe tbody tr th:only-of-type {\n",
       "        vertical-align: middle;\n",
       "    }\n",
       "\n",
       "    .dataframe tbody tr th {\n",
       "        vertical-align: top;\n",
       "    }\n",
       "\n",
       "    .dataframe thead th {\n",
       "        text-align: right;\n",
       "    }\n",
       "</style>\n",
       "<table border=\"1\" class=\"dataframe\">\n",
       "  <thead>\n",
       "    <tr style=\"text-align: right;\">\n",
       "      <th></th>\n",
       "      <th>player_1_user</th>\n",
       "      <th>player_2_user</th>\n",
       "      <th>player_3_user</th>\n",
       "      <th>player_4_user</th>\n",
       "      <th>player_5_user</th>\n",
       "      <th>player_6_user</th>\n",
       "      <th>player_7_user</th>\n",
       "    </tr>\n",
       "  </thead>\n",
       "  <tbody>\n",
       "    <tr>\n",
       "      <th>pbc3</th>\n",
       "      <td>NaN</td>\n",
       "      <td>NaN</td>\n",
       "      <td>NaN</td>\n",
       "      <td>NaN</td>\n",
       "      <td>NaN</td>\n",
       "      <td>NaN</td>\n",
       "      <td>NaN</td>\n",
       "    </tr>\n",
       "    <tr>\n",
       "      <th>10</th>\n",
       "      <td>NaN</td>\n",
       "      <td>NaN</td>\n",
       "      <td>NaN</td>\n",
       "      <td>NaN</td>\n",
       "      <td>NaN</td>\n",
       "      <td>NaN</td>\n",
       "      <td>NaN</td>\n",
       "    </tr>\n",
       "    <tr>\n",
       "      <th>5</th>\n",
       "      <td>NaN</td>\n",
       "      <td>NaN</td>\n",
       "      <td>NaN</td>\n",
       "      <td>NaN</td>\n",
       "      <td>NaN</td>\n",
       "      <td>NaN</td>\n",
       "      <td>NaN</td>\n",
       "    </tr>\n",
       "    <tr>\n",
       "      <th>8</th>\n",
       "      <td>NaN</td>\n",
       "      <td>NaN</td>\n",
       "      <td>NaN</td>\n",
       "      <td>NaN</td>\n",
       "      <td>NaN</td>\n",
       "      <td>NaN</td>\n",
       "      <td>NaN</td>\n",
       "    </tr>\n",
       "    <tr>\n",
       "      <th>9</th>\n",
       "      <td>NaN</td>\n",
       "      <td>NaN</td>\n",
       "      <td>NaN</td>\n",
       "      <td>NaN</td>\n",
       "      <td>NaN</td>\n",
       "      <td>NaN</td>\n",
       "      <td>NaN</td>\n",
       "    </tr>\n",
       "    <tr>\n",
       "      <th>gareth4</th>\n",
       "      <td>NaN</td>\n",
       "      <td>McRegnak</td>\n",
       "      <td>jsnell</td>\n",
       "      <td>Lachlan</td>\n",
       "      <td>NaN</td>\n",
       "      <td>NaN</td>\n",
       "      <td>NaN</td>\n",
       "    </tr>\n",
       "    <tr>\n",
       "      <th>gareth5</th>\n",
       "      <td>NaN</td>\n",
       "      <td>lode</td>\n",
       "      <td>Jan</td>\n",
       "      <td>Pri</td>\n",
       "      <td>Tobulogic</td>\n",
       "      <td>NaN</td>\n",
       "      <td>NaN</td>\n",
       "    </tr>\n",
       "    <tr>\n",
       "      <th>gareth6</th>\n",
       "      <td>NaN</td>\n",
       "      <td>menderico</td>\n",
       "      <td>NaN</td>\n",
       "      <td>giorgio.ugazio</td>\n",
       "      <td>magnusrk</td>\n",
       "      <td>NaN</td>\n",
       "      <td>NaN</td>\n",
       "    </tr>\n",
       "    <tr>\n",
       "      <th>pbc1</th>\n",
       "      <td>NaN</td>\n",
       "      <td>NaN</td>\n",
       "      <td>NaN</td>\n",
       "      <td>NaN</td>\n",
       "      <td>NaN</td>\n",
       "      <td>NaN</td>\n",
       "      <td>NaN</td>\n",
       "    </tr>\n",
       "    <tr>\n",
       "      <th>pbc2</th>\n",
       "      <td>NaN</td>\n",
       "      <td>NaN</td>\n",
       "      <td>NaN</td>\n",
       "      <td>NaN</td>\n",
       "      <td>NaN</td>\n",
       "      <td>NaN</td>\n",
       "      <td>NaN</td>\n",
       "    </tr>\n",
       "  </tbody>\n",
       "</table>\n",
       "</div>"
      ],
      "text/plain": [
       "        player_1_user player_2_user player_3_user   player_4_user  \\\n",
       "pbc3              NaN           NaN           NaN             NaN   \n",
       "10                NaN           NaN           NaN             NaN   \n",
       "5                 NaN           NaN           NaN             NaN   \n",
       "8                 NaN           NaN           NaN             NaN   \n",
       "9                 NaN           NaN           NaN             NaN   \n",
       "gareth4           NaN      McRegnak        jsnell         Lachlan   \n",
       "gareth5           NaN          lode           Jan             Pri   \n",
       "gareth6           NaN     menderico           NaN  giorgio.ugazio   \n",
       "pbc1              NaN           NaN           NaN             NaN   \n",
       "pbc2              NaN           NaN           NaN             NaN   \n",
       "\n",
       "        player_5_user player_6_user player_7_user  \n",
       "pbc3              NaN           NaN           NaN  \n",
       "10                NaN           NaN           NaN  \n",
       "5                 NaN           NaN           NaN  \n",
       "8                 NaN           NaN           NaN  \n",
       "9                 NaN           NaN           NaN  \n",
       "gareth4           NaN           NaN           NaN  \n",
       "gareth5     Tobulogic           NaN           NaN  \n",
       "gareth6      magnusrk           NaN           NaN  \n",
       "pbc1              NaN           NaN           NaN  \n",
       "pbc2              NaN           NaN           NaN  "
      ]
     },
     "execution_count": 17,
     "metadata": {},
     "output_type": "execute_result"
    }
   ],
   "source": [
    "user_cols = sorted([col for col in all_games_df.columns if col.endswith(\"user\")])\n",
    "mask = all_games_df[\"player_1_user\"].isna()\n",
    "all_games_df.loc[mask, user_cols].head(10)"
   ]
  },
  {
   "cell_type": "markdown",
   "metadata": {},
   "source": [
    "That's too bad. Ok, let's find an \"Anonymous\" user string that I can use that won't conflict with an actual user name"
   ]
  },
  {
   "cell_type": "code",
   "execution_count": 18,
   "metadata": {},
   "outputs": [],
   "source": [
    "anon_name = \"Anonymous Terra Mystica User\" # I bet spaces aren't allowed in real user names\n",
    "assert not (all_games_df[user_cols] == anon_name).any().any() #check by columns and index"
   ]
  },
  {
   "cell_type": "code",
   "execution_count": 19,
   "metadata": {},
   "outputs": [],
   "source": [
    "for player_num in range(1, 8):\n",
    "    user_col = f\"player_{player_num}_user\"\n",
    "    mask = all_games_df[\"number_of_players\"] >= player_num # only fill in for games that actually have that many players\n",
    "    all_games_df.loc[mask, user_col] = all_games_df.loc[mask, user_col].fillna(anon_name)"
   ]
  },
  {
   "cell_type": "code",
   "execution_count": 20,
   "metadata": {},
   "outputs": [
    {
     "data": {
      "text/html": [
       "<div>\n",
       "<style scoped>\n",
       "    .dataframe tbody tr th:only-of-type {\n",
       "        vertical-align: middle;\n",
       "    }\n",
       "\n",
       "    .dataframe tbody tr th {\n",
       "        vertical-align: top;\n",
       "    }\n",
       "\n",
       "    .dataframe thead th {\n",
       "        text-align: right;\n",
       "    }\n",
       "</style>\n",
       "<table border=\"1\" class=\"dataframe\">\n",
       "  <thead>\n",
       "    <tr style=\"text-align: right;\">\n",
       "      <th></th>\n",
       "      <th>player_1_user</th>\n",
       "      <th>player_2_user</th>\n",
       "      <th>player_3_user</th>\n",
       "      <th>player_4_user</th>\n",
       "      <th>player_5_user</th>\n",
       "      <th>player_6_user</th>\n",
       "      <th>player_7_user</th>\n",
       "    </tr>\n",
       "  </thead>\n",
       "  <tbody>\n",
       "  </tbody>\n",
       "</table>\n",
       "</div>"
      ],
      "text/plain": [
       "Empty DataFrame\n",
       "Columns: [player_1_user, player_2_user, player_3_user, player_4_user, player_5_user, player_6_user, player_7_user]\n",
       "Index: []"
      ]
     },
     "execution_count": 20,
     "metadata": {},
     "output_type": "execute_result"
    }
   ],
   "source": [
    "user_cols = sorted([col for col in all_games_df.columns if col.endswith(\"user\")])\n",
    "mask = all_games_df[\"player_1_user\"].isna()\n",
    "all_games_df.loc[mask, user_cols].head(10)"
   ]
  },
  {
   "cell_type": "markdown",
   "metadata": {},
   "source": [
    "Ok that seems to have worked. I'll refactor that out into a function later"
   ]
  },
  {
   "cell_type": "code",
   "execution_count": 21,
   "metadata": {},
   "outputs": [
    {
     "data": {
      "text/plain": [
       "hanktank         3065\n",
       "strongpoet       1828\n",
       "Fiitsch          1431\n",
       "OrionHegenomy    1367\n",
       "mcd13            1160\n",
       "                 ... \n",
       "projectzacra        1\n",
       "Kinrove             1\n",
       "Reini787            1\n",
       "pinkseachut         1\n",
       "Thorgrimm           1\n",
       "Name: value, Length: 11957, dtype: int64"
      ]
     },
     "execution_count": 21,
     "metadata": {},
     "output_type": "execute_result"
    }
   ],
   "source": [
    "# This should probably get turned into a function\n",
    "user_cols = [col for col in all_games_df.columns if col.endswith(\"user\")]\n",
    "player_df = (\n",
    "    all_games_df\n",
    "    .melt(value_vars=user_cols)\n",
    "    [\"value\"]\n",
    "    .dropna()\n",
    "    .value_counts()\n",
    ")\n",
    "player_df"
   ]
  },
  {
   "cell_type": "code",
   "execution_count": 22,
   "metadata": {},
   "outputs": [
    {
     "data": {
      "text/plain": [
       "306"
      ]
     },
     "execution_count": 22,
     "metadata": {},
     "output_type": "execute_result"
    }
   ],
   "source": [
    "player_df.loc[anon_name]"
   ]
  },
  {
   "cell_type": "markdown",
   "metadata": {},
   "source": [
    "Interesting, most people are playing with a username, even if they're only playing one game"
   ]
  },
  {
   "cell_type": "code",
   "execution_count": 23,
   "metadata": {},
   "outputs": [
    {
     "data": {
      "image/png": "[encoded data removed]",
      "text/plain": [
       "<Figure size 432x288 with 1 Axes>"
      ]
     },
     "metadata": {
      "needs_background": "light"
     },
     "output_type": "display_data"
    }
   ],
   "source": [
    "sns.distplot(player_df);"
   ]
  },
  {
   "cell_type": "markdown",
   "metadata": {},
   "source": [
    "Yeah, huge spike at 1 game and then a very long tail. hanktank has played an insane number of games."
   ]
  },
  {
   "cell_type": "markdown",
   "metadata": {},
   "source": [
    "### Clean way to do player stats\n",
    "\n",
    "Basically I want a way to account for, or at least look at the stats of users that have a lot of games under their belts relative to everyone else. \n",
    "As a first cut I think I'll treat anonymous players the same as players that have a very small number of games. I'm going to reload the game dataframe here because I want to turn this into a reproducible function to add these stats in after I've played around with it a bit"
   ]
  },
  {
   "cell_type": "code",
   "execution_count": 24,
   "metadata": {},
   "outputs": [],
   "source": [
    "all_games_df = parse_interim.interim_full_pipe()\n",
    "anon_name = \"Other Terra Mystica User\" # I bet spaces aren't allowed in real user names\n",
    "assert not (all_games_df[user_cols] == anon_name).any().any() #check by columns and index\n",
    "for player_num in range(1, 8):\n",
    "    user_col = f\"player_{player_num}_user\"\n",
    "    mask = all_games_df[\"number_of_players\"] >= player_num # only fill in for games that actually have that many players\n",
    "    all_games_df.loc[mask, user_col] = all_games_df.loc[mask, user_col].fillna(anon_name)"
   ]
  },
  {
   "cell_type": "code",
   "execution_count": 25,
   "metadata": {},
   "outputs": [
    {
     "data": {
      "text/html": [
       "<div>\n",
       "<style scoped>\n",
       "    .dataframe tbody tr th:only-of-type {\n",
       "        vertical-align: middle;\n",
       "    }\n",
       "\n",
       "    .dataframe tbody tr th {\n",
       "        vertical-align: top;\n",
       "    }\n",
       "\n",
       "    .dataframe thead th {\n",
       "        text-align: right;\n",
       "    }\n",
       "</style>\n",
       "<table border=\"1\" class=\"dataframe\">\n",
       "  <thead>\n",
       "    <tr style=\"text-align: right;\">\n",
       "      <th></th>\n",
       "      <th>number_of_players</th>\n",
       "      <th>player_1_user</th>\n",
       "      <th>player_2_user</th>\n",
       "      <th>player_3_user</th>\n",
       "      <th>player_4_user</th>\n",
       "      <th>player_5_user</th>\n",
       "      <th>player_6_user</th>\n",
       "      <th>player_7_user</th>\n",
       "    </tr>\n",
       "  </thead>\n",
       "  <tbody>\n",
       "    <tr>\n",
       "      <th>pbc3</th>\n",
       "      <td>3</td>\n",
       "      <td>Other Terra Mystica User</td>\n",
       "      <td>Other Terra Mystica User</td>\n",
       "      <td>Other Terra Mystica User</td>\n",
       "      <td>NaN</td>\n",
       "      <td>NaN</td>\n",
       "      <td>NaN</td>\n",
       "      <td>NaN</td>\n",
       "    </tr>\n",
       "    <tr>\n",
       "      <th>10</th>\n",
       "      <td>4</td>\n",
       "      <td>Other Terra Mystica User</td>\n",
       "      <td>Other Terra Mystica User</td>\n",
       "      <td>Other Terra Mystica User</td>\n",
       "      <td>Other Terra Mystica User</td>\n",
       "      <td>NaN</td>\n",
       "      <td>NaN</td>\n",
       "      <td>NaN</td>\n",
       "    </tr>\n",
       "    <tr>\n",
       "      <th>21</th>\n",
       "      <td>4</td>\n",
       "      <td>dkeisen</td>\n",
       "      <td>jsnell</td>\n",
       "      <td>Jan</td>\n",
       "      <td>Other Terra Mystica User</td>\n",
       "      <td>NaN</td>\n",
       "      <td>NaN</td>\n",
       "      <td>NaN</td>\n",
       "    </tr>\n",
       "    <tr>\n",
       "      <th>5</th>\n",
       "      <td>4</td>\n",
       "      <td>Other Terra Mystica User</td>\n",
       "      <td>Other Terra Mystica User</td>\n",
       "      <td>Other Terra Mystica User</td>\n",
       "      <td>Other Terra Mystica User</td>\n",
       "      <td>NaN</td>\n",
       "      <td>NaN</td>\n",
       "      <td>NaN</td>\n",
       "    </tr>\n",
       "    <tr>\n",
       "      <th>8</th>\n",
       "      <td>5</td>\n",
       "      <td>Other Terra Mystica User</td>\n",
       "      <td>Other Terra Mystica User</td>\n",
       "      <td>Other Terra Mystica User</td>\n",
       "      <td>Other Terra Mystica User</td>\n",
       "      <td>Other Terra Mystica User</td>\n",
       "      <td>NaN</td>\n",
       "      <td>NaN</td>\n",
       "    </tr>\n",
       "    <tr>\n",
       "      <th>...</th>\n",
       "      <td>...</td>\n",
       "      <td>...</td>\n",
       "      <td>...</td>\n",
       "      <td>...</td>\n",
       "      <td>...</td>\n",
       "      <td>...</td>\n",
       "      <td>...</td>\n",
       "      <td>...</td>\n",
       "    </tr>\n",
       "    <tr>\n",
       "      <th>ZGame301</th>\n",
       "      <td>4</td>\n",
       "      <td>ZeroCool2017</td>\n",
       "      <td>Romeister</td>\n",
       "      <td>r_ikiri</td>\n",
       "      <td>darreius</td>\n",
       "      <td>NaN</td>\n",
       "      <td>NaN</td>\n",
       "      <td>NaN</td>\n",
       "    </tr>\n",
       "    <tr>\n",
       "      <th>ZGame302</th>\n",
       "      <td>4</td>\n",
       "      <td>Weltmann</td>\n",
       "      <td>GilbertBourdin</td>\n",
       "      <td>Fironics</td>\n",
       "      <td>ZeroCool2017</td>\n",
       "      <td>NaN</td>\n",
       "      <td>NaN</td>\n",
       "      <td>NaN</td>\n",
       "    </tr>\n",
       "    <tr>\n",
       "      <th>ZGame303</th>\n",
       "      <td>4</td>\n",
       "      <td>Weltmann</td>\n",
       "      <td>GilbertBourdin</td>\n",
       "      <td>Fironics</td>\n",
       "      <td>ZeroCool2017</td>\n",
       "      <td>NaN</td>\n",
       "      <td>NaN</td>\n",
       "      <td>NaN</td>\n",
       "    </tr>\n",
       "    <tr>\n",
       "      <th>ZGame304</th>\n",
       "      <td>4</td>\n",
       "      <td>Snitz</td>\n",
       "      <td>zizzus</td>\n",
       "      <td>ZeroCool2017</td>\n",
       "      <td>Cthulhu</td>\n",
       "      <td>NaN</td>\n",
       "      <td>NaN</td>\n",
       "      <td>NaN</td>\n",
       "    </tr>\n",
       "    <tr>\n",
       "      <th>ZGame305</th>\n",
       "      <td>4</td>\n",
       "      <td>Fironics</td>\n",
       "      <td>ZeroCool2017</td>\n",
       "      <td>rotlin123</td>\n",
       "      <td>roflwafflexp</td>\n",
       "      <td>NaN</td>\n",
       "      <td>NaN</td>\n",
       "      <td>NaN</td>\n",
       "    </tr>\n",
       "  </tbody>\n",
       "</table>\n",
       "<p>144750 rows × 8 columns</p>\n",
       "</div>"
      ],
      "text/plain": [
       "          number_of_players             player_1_user  \\\n",
       "pbc3                      3  Other Terra Mystica User   \n",
       "10                        4  Other Terra Mystica User   \n",
       "21                        4                   dkeisen   \n",
       "5                         4  Other Terra Mystica User   \n",
       "8                         5  Other Terra Mystica User   \n",
       "...                     ...                       ...   \n",
       "ZGame301                  4              ZeroCool2017   \n",
       "ZGame302                  4                  Weltmann   \n",
       "ZGame303                  4                  Weltmann   \n",
       "ZGame304                  4                     Snitz   \n",
       "ZGame305                  4                  Fironics   \n",
       "\n",
       "                     player_2_user             player_3_user  \\\n",
       "pbc3      Other Terra Mystica User  Other Terra Mystica User   \n",
       "10        Other Terra Mystica User  Other Terra Mystica User   \n",
       "21                          jsnell                       Jan   \n",
       "5         Other Terra Mystica User  Other Terra Mystica User   \n",
       "8         Other Terra Mystica User  Other Terra Mystica User   \n",
       "...                            ...                       ...   \n",
       "ZGame301                 Romeister                   r_ikiri   \n",
       "ZGame302            GilbertBourdin                  Fironics   \n",
       "ZGame303            GilbertBourdin                  Fironics   \n",
       "ZGame304                    zizzus              ZeroCool2017   \n",
       "ZGame305              ZeroCool2017                 rotlin123   \n",
       "\n",
       "                     player_4_user             player_5_user player_6_user  \\\n",
       "pbc3                           NaN                       NaN           NaN   \n",
       "10        Other Terra Mystica User                       NaN           NaN   \n",
       "21        Other Terra Mystica User                       NaN           NaN   \n",
       "5         Other Terra Mystica User                       NaN           NaN   \n",
       "8         Other Terra Mystica User  Other Terra Mystica User           NaN   \n",
       "...                            ...                       ...           ...   \n",
       "ZGame301                  darreius                       NaN           NaN   \n",
       "ZGame302              ZeroCool2017                       NaN           NaN   \n",
       "ZGame303              ZeroCool2017                       NaN           NaN   \n",
       "ZGame304                   Cthulhu                       NaN           NaN   \n",
       "ZGame305              roflwafflexp                       NaN           NaN   \n",
       "\n",
       "         player_7_user  \n",
       "pbc3               NaN  \n",
       "10                 NaN  \n",
       "21                 NaN  \n",
       "5                  NaN  \n",
       "8                  NaN  \n",
       "...                ...  \n",
       "ZGame301           NaN  \n",
       "ZGame302           NaN  \n",
       "ZGame303           NaN  \n",
       "ZGame304           NaN  \n",
       "ZGame305           NaN  \n",
       "\n",
       "[144750 rows x 8 columns]"
      ]
     },
     "execution_count": 25,
     "metadata": {},
     "output_type": "execute_result"
    }
   ],
   "source": [
    "all_games_df[[\"number_of_players\"] + user_cols]"
   ]
  },
  {
   "cell_type": "code",
   "execution_count": 26,
   "metadata": {},
   "outputs": [
    {
     "data": {
      "text/plain": [
       "hanktank         3065\n",
       "strongpoet       1828\n",
       "Fiitsch          1431\n",
       "OrionHegenomy    1367\n",
       "mcd13            1160\n",
       "                 ... \n",
       "projectzacra        1\n",
       "Kinrove             1\n",
       "Reini787            1\n",
       "pinkseachut         1\n",
       "Thorgrimm           1\n",
       "Name: value, Length: 11956, dtype: int64"
      ]
     },
     "execution_count": 26,
     "metadata": {},
     "output_type": "execute_result"
    }
   ],
   "source": [
    "# This should probably get turned into a function\n",
    "user_cols = [col for col in all_games_df.columns if col.endswith(\"user\")]\n",
    "user_game_count = (\n",
    "    all_games_df\n",
    "    .melt(value_vars=user_cols)\n",
    "    [\"value\"]\n",
    "    .dropna()\n",
    "    .value_counts()\n",
    "    .drop(anon_name)\n",
    ")\n",
    "user_game_count"
   ]
  },
  {
   "cell_type": "markdown",
   "metadata": {},
   "source": [
    "Using a fun statistics rule of thumb let's say we can compute meaningful stats for anyone with at least 30 games. How many users does that get us?"
   ]
  },
  {
   "cell_type": "code",
   "execution_count": 27,
   "metadata": {},
   "outputs": [
    {
     "data": {
      "text/plain": [
       "3458"
      ]
     },
     "execution_count": 27,
     "metadata": {},
     "output_type": "execute_result"
    }
   ],
   "source": [
    "len(user_game_count.loc[user_game_count >= 30])"
   ]
  },
  {
   "cell_type": "markdown",
   "metadata": {},
   "source": [
    "Ok, not bad. Still lots of users, but we've trimmed out the anonymous ones. Let's figure out how to compute some summary stats for these players and then attach it to the base dataframe"
   ]
  },
  {
   "cell_type": "code",
   "execution_count": 28,
   "metadata": {},
   "outputs": [],
   "source": [
    "rankable_users = user_game_count.loc[user_game_count >= 30].index"
   ]
  },
  {
   "cell_type": "code",
   "execution_count": 29,
   "metadata": {},
   "outputs": [],
   "source": [
    "for player_num in range(1, 8):\n",
    "    user_col = f\"player_{player_num}_user\"\n",
    "    mask = (\n",
    "        (~(all_games_df[user_col].isin(rankable_users)))\n",
    "        & (all_games_df[\"number_of_players\"] >= player_num)\n",
    "    )\n",
    "    all_games_df.loc[mask, user_col] = anon_name"
   ]
  },
  {
   "cell_type": "code",
   "execution_count": 30,
   "metadata": {},
   "outputs": [
    {
     "data": {
      "text/html": [
       "<div>\n",
       "<style scoped>\n",
       "    .dataframe tbody tr th:only-of-type {\n",
       "        vertical-align: middle;\n",
       "    }\n",
       "\n",
       "    .dataframe tbody tr th {\n",
       "        vertical-align: top;\n",
       "    }\n",
       "\n",
       "    .dataframe thead th {\n",
       "        text-align: right;\n",
       "    }\n",
       "</style>\n",
       "<table border=\"1\" class=\"dataframe\">\n",
       "  <thead>\n",
       "    <tr style=\"text-align: right;\">\n",
       "      <th></th>\n",
       "      <th>number_of_players</th>\n",
       "      <th>player_1_user</th>\n",
       "      <th>player_2_user</th>\n",
       "      <th>player_3_user</th>\n",
       "      <th>player_4_user</th>\n",
       "      <th>player_5_user</th>\n",
       "      <th>player_6_user</th>\n",
       "      <th>player_7_user</th>\n",
       "    </tr>\n",
       "  </thead>\n",
       "  <tbody>\n",
       "    <tr>\n",
       "      <th>pbc3</th>\n",
       "      <td>3</td>\n",
       "      <td>Other Terra Mystica User</td>\n",
       "      <td>Other Terra Mystica User</td>\n",
       "      <td>Other Terra Mystica User</td>\n",
       "      <td>NaN</td>\n",
       "      <td>NaN</td>\n",
       "      <td>NaN</td>\n",
       "      <td>NaN</td>\n",
       "    </tr>\n",
       "    <tr>\n",
       "      <th>10</th>\n",
       "      <td>4</td>\n",
       "      <td>Other Terra Mystica User</td>\n",
       "      <td>Other Terra Mystica User</td>\n",
       "      <td>Other Terra Mystica User</td>\n",
       "      <td>Other Terra Mystica User</td>\n",
       "      <td>NaN</td>\n",
       "      <td>NaN</td>\n",
       "      <td>NaN</td>\n",
       "    </tr>\n",
       "    <tr>\n",
       "      <th>21</th>\n",
       "      <td>4</td>\n",
       "      <td>Other Terra Mystica User</td>\n",
       "      <td>jsnell</td>\n",
       "      <td>Jan</td>\n",
       "      <td>Other Terra Mystica User</td>\n",
       "      <td>NaN</td>\n",
       "      <td>NaN</td>\n",
       "      <td>NaN</td>\n",
       "    </tr>\n",
       "    <tr>\n",
       "      <th>5</th>\n",
       "      <td>4</td>\n",
       "      <td>Other Terra Mystica User</td>\n",
       "      <td>Other Terra Mystica User</td>\n",
       "      <td>Other Terra Mystica User</td>\n",
       "      <td>Other Terra Mystica User</td>\n",
       "      <td>NaN</td>\n",
       "      <td>NaN</td>\n",
       "      <td>NaN</td>\n",
       "    </tr>\n",
       "    <tr>\n",
       "      <th>8</th>\n",
       "      <td>5</td>\n",
       "      <td>Other Terra Mystica User</td>\n",
       "      <td>Other Terra Mystica User</td>\n",
       "      <td>Other Terra Mystica User</td>\n",
       "      <td>Other Terra Mystica User</td>\n",
       "      <td>Other Terra Mystica User</td>\n",
       "      <td>NaN</td>\n",
       "      <td>NaN</td>\n",
       "    </tr>\n",
       "    <tr>\n",
       "      <th>...</th>\n",
       "      <td>...</td>\n",
       "      <td>...</td>\n",
       "      <td>...</td>\n",
       "      <td>...</td>\n",
       "      <td>...</td>\n",
       "      <td>...</td>\n",
       "      <td>...</td>\n",
       "      <td>...</td>\n",
       "    </tr>\n",
       "    <tr>\n",
       "      <th>ZGame301</th>\n",
       "      <td>4</td>\n",
       "      <td>ZeroCool2017</td>\n",
       "      <td>Romeister</td>\n",
       "      <td>r_ikiri</td>\n",
       "      <td>darreius</td>\n",
       "      <td>NaN</td>\n",
       "      <td>NaN</td>\n",
       "      <td>NaN</td>\n",
       "    </tr>\n",
       "    <tr>\n",
       "      <th>ZGame302</th>\n",
       "      <td>4</td>\n",
       "      <td>Weltmann</td>\n",
       "      <td>GilbertBourdin</td>\n",
       "      <td>Fironics</td>\n",
       "      <td>ZeroCool2017</td>\n",
       "      <td>NaN</td>\n",
       "      <td>NaN</td>\n",
       "      <td>NaN</td>\n",
       "    </tr>\n",
       "    <tr>\n",
       "      <th>ZGame303</th>\n",
       "      <td>4</td>\n",
       "      <td>Weltmann</td>\n",
       "      <td>GilbertBourdin</td>\n",
       "      <td>Fironics</td>\n",
       "      <td>ZeroCool2017</td>\n",
       "      <td>NaN</td>\n",
       "      <td>NaN</td>\n",
       "      <td>NaN</td>\n",
       "    </tr>\n",
       "    <tr>\n",
       "      <th>ZGame304</th>\n",
       "      <td>4</td>\n",
       "      <td>Snitz</td>\n",
       "      <td>zizzus</td>\n",
       "      <td>ZeroCool2017</td>\n",
       "      <td>Cthulhu</td>\n",
       "      <td>NaN</td>\n",
       "      <td>NaN</td>\n",
       "      <td>NaN</td>\n",
       "    </tr>\n",
       "    <tr>\n",
       "      <th>ZGame305</th>\n",
       "      <td>4</td>\n",
       "      <td>Fironics</td>\n",
       "      <td>ZeroCool2017</td>\n",
       "      <td>rotlin123</td>\n",
       "      <td>roflwafflexp</td>\n",
       "      <td>NaN</td>\n",
       "      <td>NaN</td>\n",
       "      <td>NaN</td>\n",
       "    </tr>\n",
       "  </tbody>\n",
       "</table>\n",
       "<p>144750 rows × 8 columns</p>\n",
       "</div>"
      ],
      "text/plain": [
       "          number_of_players             player_1_user  \\\n",
       "pbc3                      3  Other Terra Mystica User   \n",
       "10                        4  Other Terra Mystica User   \n",
       "21                        4  Other Terra Mystica User   \n",
       "5                         4  Other Terra Mystica User   \n",
       "8                         5  Other Terra Mystica User   \n",
       "...                     ...                       ...   \n",
       "ZGame301                  4              ZeroCool2017   \n",
       "ZGame302                  4                  Weltmann   \n",
       "ZGame303                  4                  Weltmann   \n",
       "ZGame304                  4                     Snitz   \n",
       "ZGame305                  4                  Fironics   \n",
       "\n",
       "                     player_2_user             player_3_user  \\\n",
       "pbc3      Other Terra Mystica User  Other Terra Mystica User   \n",
       "10        Other Terra Mystica User  Other Terra Mystica User   \n",
       "21                          jsnell                       Jan   \n",
       "5         Other Terra Mystica User  Other Terra Mystica User   \n",
       "8         Other Terra Mystica User  Other Terra Mystica User   \n",
       "...                            ...                       ...   \n",
       "ZGame301                 Romeister                   r_ikiri   \n",
       "ZGame302            GilbertBourdin                  Fironics   \n",
       "ZGame303            GilbertBourdin                  Fironics   \n",
       "ZGame304                    zizzus              ZeroCool2017   \n",
       "ZGame305              ZeroCool2017                 rotlin123   \n",
       "\n",
       "                     player_4_user             player_5_user player_6_user  \\\n",
       "pbc3                           NaN                       NaN           NaN   \n",
       "10        Other Terra Mystica User                       NaN           NaN   \n",
       "21        Other Terra Mystica User                       NaN           NaN   \n",
       "5         Other Terra Mystica User                       NaN           NaN   \n",
       "8         Other Terra Mystica User  Other Terra Mystica User           NaN   \n",
       "...                            ...                       ...           ...   \n",
       "ZGame301                  darreius                       NaN           NaN   \n",
       "ZGame302              ZeroCool2017                       NaN           NaN   \n",
       "ZGame303              ZeroCool2017                       NaN           NaN   \n",
       "ZGame304                   Cthulhu                       NaN           NaN   \n",
       "ZGame305              roflwafflexp                       NaN           NaN   \n",
       "\n",
       "         player_7_user  \n",
       "pbc3               NaN  \n",
       "10                 NaN  \n",
       "21                 NaN  \n",
       "5                  NaN  \n",
       "8                  NaN  \n",
       "...                ...  \n",
       "ZGame301           NaN  \n",
       "ZGame302           NaN  \n",
       "ZGame303           NaN  \n",
       "ZGame304           NaN  \n",
       "ZGame305           NaN  \n",
       "\n",
       "[144750 rows x 8 columns]"
      ]
     },
     "execution_count": 30,
     "metadata": {},
     "output_type": "execute_result"
    }
   ],
   "source": [
    "all_games_df[[\"number_of_players\"] + user_cols]"
   ]
  },
  {
   "cell_type": "markdown",
   "metadata": {},
   "source": [
    "Ok that worked, now I need to combine these with their VP and VP margin across player order"
   ]
  },
  {
   "cell_type": "code",
   "execution_count": 31,
   "metadata": {},
   "outputs": [
    {
     "data": {
      "text/html": [
       "<div>\n",
       "<style scoped>\n",
       "    .dataframe tbody tr th:only-of-type {\n",
       "        vertical-align: middle;\n",
       "    }\n",
       "\n",
       "    .dataframe tbody tr th {\n",
       "        vertical-align: top;\n",
       "    }\n",
       "\n",
       "    .dataframe thead th {\n",
       "        text-align: right;\n",
       "    }\n",
       "</style>\n",
       "<table border=\"1\" class=\"dataframe\">\n",
       "  <thead>\n",
       "    <tr style=\"text-align: right;\">\n",
       "      <th></th>\n",
       "      <th>number_of_games</th>\n",
       "      <th>mean_vp</th>\n",
       "      <th>mean_vp_margin</th>\n",
       "    </tr>\n",
       "    <tr>\n",
       "      <th>user</th>\n",
       "      <th></th>\n",
       "      <th></th>\n",
       "      <th></th>\n",
       "    </tr>\n",
       "  </thead>\n",
       "  <tbody>\n",
       "    <tr>\n",
       "      <th>Yor</th>\n",
       "      <td>30</td>\n",
       "      <td>124.200000</td>\n",
       "      <td>36.866667</td>\n",
       "    </tr>\n",
       "    <tr>\n",
       "      <th>coachbam</th>\n",
       "      <td>30</td>\n",
       "      <td>114.266667</td>\n",
       "      <td>44.400000</td>\n",
       "    </tr>\n",
       "    <tr>\n",
       "      <th>CO2</th>\n",
       "      <td>30</td>\n",
       "      <td>101.433333</td>\n",
       "      <td>6.933333</td>\n",
       "    </tr>\n",
       "    <tr>\n",
       "      <th>DerMahler</th>\n",
       "      <td>30</td>\n",
       "      <td>106.466667</td>\n",
       "      <td>22.466667</td>\n",
       "    </tr>\n",
       "    <tr>\n",
       "      <th>VMuniz</th>\n",
       "      <td>30</td>\n",
       "      <td>112.366667</td>\n",
       "      <td>32.866667</td>\n",
       "    </tr>\n",
       "    <tr>\n",
       "      <th>...</th>\n",
       "      <td>...</td>\n",
       "      <td>...</td>\n",
       "      <td>...</td>\n",
       "    </tr>\n",
       "    <tr>\n",
       "      <th>OrionHegenomy</th>\n",
       "      <td>1367</td>\n",
       "      <td>143.977323</td>\n",
       "      <td>24.694221</td>\n",
       "    </tr>\n",
       "    <tr>\n",
       "      <th>Fiitsch</th>\n",
       "      <td>1431</td>\n",
       "      <td>137.657582</td>\n",
       "      <td>20.037037</td>\n",
       "    </tr>\n",
       "    <tr>\n",
       "      <th>strongpoet</th>\n",
       "      <td>1828</td>\n",
       "      <td>149.145514</td>\n",
       "      <td>14.137309</td>\n",
       "    </tr>\n",
       "    <tr>\n",
       "      <th>hanktank</th>\n",
       "      <td>3065</td>\n",
       "      <td>135.521370</td>\n",
       "      <td>20.915824</td>\n",
       "    </tr>\n",
       "    <tr>\n",
       "      <th>Other Terra Mystica User</th>\n",
       "      <td>55283</td>\n",
       "      <td>102.845380</td>\n",
       "      <td>19.231658</td>\n",
       "    </tr>\n",
       "  </tbody>\n",
       "</table>\n",
       "<p>3459 rows × 3 columns</p>\n",
       "</div>"
      ],
      "text/plain": [
       "                          number_of_games     mean_vp  mean_vp_margin\n",
       "user                                                                 \n",
       "Yor                                    30  124.200000       36.866667\n",
       "coachbam                               30  114.266667       44.400000\n",
       "CO2                                    30  101.433333        6.933333\n",
       "DerMahler                              30  106.466667       22.466667\n",
       "VMuniz                                 30  112.366667       32.866667\n",
       "...                                   ...         ...             ...\n",
       "OrionHegenomy                        1367  143.977323       24.694221\n",
       "Fiitsch                              1431  137.657582       20.037037\n",
       "strongpoet                           1828  149.145514       14.137309\n",
       "hanktank                             3065  135.521370       20.915824\n",
       "Other Terra Mystica User            55283  102.845380       19.231658\n",
       "\n",
       "[3459 rows x 3 columns]"
      ]
     },
     "execution_count": 31,
     "metadata": {},
     "output_type": "execute_result"
    }
   ],
   "source": [
    "# This seems inefficient but it should work, so that's nice\n",
    "def player_num_stats(player_num):\n",
    "    user_col = f\"player_{player_num}_user\"\n",
    "    vp_col = f\"player_{player_num}_vp\"\n",
    "    margin_col = f\"player_{player_num}_vp_margin\"\n",
    "    player_df = (\n",
    "        all_games_df\n",
    "        .loc[all_games_df[\"number_of_players\"] >= player_num]\n",
    "        .reindex(columns=[user_col, vp_col, margin_col])\n",
    "        .rename(columns={user_col: \"user\", vp_col: \"vp\", margin_col: \"vp_margin\"})\n",
    "    )\n",
    "    return player_df\n",
    "\n",
    "full_player_df = (\n",
    "    pd.concat([player_num_stats(player_num) for player_num in range(1, 8)])\n",
    "    .reset_index()\n",
    "    .groupby(\"user\")\n",
    "    .agg({\"index\": \"count\", \"vp\": \"mean\", \"vp_margin\": \"mean\"})\n",
    "    .rename(columns={\"index\": \"number_of_games\", \"vp\": \"mean_vp\", \"vp_margin\": \"mean_vp_margin\"})\n",
    ")\n",
    "full_player_df.sort_values(by=\"number_of_games\")"
   ]
  },
  {
   "cell_type": "markdown",
   "metadata": {},
   "source": [
    "Ok sweet. I can refactor that into a function and use it to attach player number stats to a dataframe. I'll want to do that part carefully when actually training the model so that games I'm trying to predict don't leak information into games I'm training on. Let's finish up here by looking at some user level distributions"
   ]
  },
  {
   "cell_type": "code",
   "execution_count": 32,
   "metadata": {},
   "outputs": [
    {
     "data": {
      "image/png": "[encoded data removed]",
      "text/plain": [
       "<Figure size 432x288 with 1 Axes>"
      ]
     },
     "metadata": {
      "needs_background": "light"
     },
     "output_type": "display_data"
    }
   ],
   "source": [
    "sns.distplot(full_player_df[\"number_of_games\"]);"
   ]
  },
  {
   "cell_type": "code",
   "execution_count": 33,
   "metadata": {},
   "outputs": [
    {
     "data": {
      "text/plain": [
       "count     3459.000000\n",
       "mean       149.583406\n",
       "std        949.148090\n",
       "min         30.000000\n",
       "25%         49.000000\n",
       "50%         85.000000\n",
       "75%        162.000000\n",
       "max      55283.000000\n",
       "Name: number_of_games, dtype: float64"
      ]
     },
     "execution_count": 33,
     "metadata": {},
     "output_type": "execute_result"
    }
   ],
   "source": [
    "full_player_df[\"number_of_games\"].describe()"
   ]
  },
  {
   "cell_type": "markdown",
   "metadata": {},
   "source": [
    "Yeah, not much to see there, most people cluster on the low end which is not surprising"
   ]
  },
  {
   "cell_type": "code",
   "execution_count": 34,
   "metadata": {},
   "outputs": [
    {
     "data": {
      "image/png": "[encoded data removed]",
      "text/plain": [
       "<Figure size 432x288 with 1 Axes>"
      ]
     },
     "metadata": {
      "needs_background": "light"
     },
     "output_type": "display_data"
    }
   ],
   "source": [
    "sns.distplot(full_player_df[\"mean_vp\"]);"
   ]
  },
  {
   "cell_type": "code",
   "execution_count": 35,
   "metadata": {},
   "outputs": [
    {
     "data": {
      "text/plain": [
       "count    3459.000000\n",
       "mean      119.137581\n",
       "std        14.693907\n",
       "min        47.250000\n",
       "25%       110.690598\n",
       "50%       120.791667\n",
       "75%       129.656478\n",
       "max       169.812500\n",
       "Name: mean_vp, dtype: float64"
      ]
     },
     "execution_count": 35,
     "metadata": {},
     "output_type": "execute_result"
    }
   ],
   "source": [
    "full_player_df[\"mean_vp\"].describe()"
   ]
  },
  {
   "cell_type": "markdown",
   "metadata": {},
   "source": [
    "Interesting, there's a few players who really suck. Most are right around the overall population average we calculated above, and there's a relatively sharp drop off for players that consistently score high"
   ]
  },
  {
   "cell_type": "code",
   "execution_count": 36,
   "metadata": {},
   "outputs": [
    {
     "data": {
      "image/png": "[encoded data removed]",
      "text/plain": [
       "<Figure size 432x288 with 1 Axes>"
      ]
     },
     "metadata": {
      "needs_background": "light"
     },
     "output_type": "display_data"
    }
   ],
   "source": [
    "sns.distplot(full_player_df[\"mean_vp_margin\"]);"
   ]
  },
  {
   "cell_type": "code",
   "execution_count": 37,
   "metadata": {},
   "outputs": [
    {
     "data": {
      "text/plain": [
       "count    3459.000000\n",
       "mean       25.265732\n",
       "std         9.069008\n",
       "min         0.339623\n",
       "25%        19.617333\n",
       "50%        25.883333\n",
       "75%        30.859353\n",
       "max        75.459459\n",
       "Name: mean_vp_margin, dtype: float64"
      ]
     },
     "execution_count": 37,
     "metadata": {},
     "output_type": "execute_result"
    }
   ],
   "source": [
    "full_player_df[\"mean_vp_margin\"].describe()"
   ]
  },
  {
   "cell_type": "markdown",
   "metadata": {},
   "source": [
    "Again, we've got a small number of players that seem to average quite close to dead last, most are right around the overall population average, and then there's a small cluster that really crush it."
   ]
  },
  {
   "cell_type": "markdown",
   "metadata": {},
   "source": [
    "OK, that's enough for now. Next notebook we'll filter down to the particular population we're actually interested in modelling (4 player games on the base map without expansions) and start doing some comparative statistics"
   ]
  },
  {
   "cell_type": "code",
   "execution_count": null,
   "metadata": {},
   "outputs": [],
   "source": []
  }
 ],
 "metadata": {
  "kernelspec": {
   "display_name": "Python 3",
   "language": "python",
   "name": "python3"
  },
  "language_info": {
   "codemirror_mode": {
    "name": "ipython",
    "version": 3
   },
   "file_extension": ".py",
   "mimetype": "text/x-python",
   "name": "python",
   "nbconvert_exporter": "python",
   "pygments_lexer": "ipython3",
   "version": "3.7.6"
  }
 },
 "nbformat": 4,
 "nbformat_minor": 4
}
