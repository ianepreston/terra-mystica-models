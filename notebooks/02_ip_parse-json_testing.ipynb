{
 "cells": [
  {
   "cell_type": "markdown",
   "metadata": {},
   "source": [
    "Let's try and read in a few games and get the data I need. Once I find a structure I like I can refactor it into some functions/classes"
   ]
  },
  {
   "cell_type": "code",
   "execution_count": 1,
   "metadata": {},
   "outputs": [],
   "source": [
    "import json\n",
    "import re\n",
    "import pandas as pd\n",
    "from pathlib import Path"
   ]
  },
  {
   "cell_type": "code",
   "execution_count": 2,
   "metadata": {},
   "outputs": [],
   "source": [
    "json_dir = Path(\".\").resolve().parent / \"data\" / \"raw\""
   ]
  },
  {
   "cell_type": "code",
   "execution_count": 3,
   "metadata": {},
   "outputs": [],
   "source": [
    "eg_json = json_dir / \"2014-01.json\"\n",
    "with open(eg_json) as f:\n",
    "    data = json.load(f)"
   ]
  },
  {
   "cell_type": "markdown",
   "metadata": {},
   "source": [
    "Let's start with a bare minimum, For every game I need to know what scoring tiles were selected, what passing tiles were selected, the factions, and their ultimate victory points. There's lots of other features that might be useful but let's try building a minimum viable model first"
   ]
  },
  {
   "cell_type": "markdown",
   "metadata": {},
   "source": [
    "From looking at the rules there should be 8 possible scoring tiles, 9 passing tiles, and 14 factions. Let's go through this month of data at a minimum and make sure I find exactly that many of each"
   ]
  },
  {
   "cell_type": "code",
   "execution_count": 4,
   "metadata": {},
   "outputs": [],
   "source": [
    "scoring_tiles = set()\n",
    "passing_tiles = set()\n",
    "factions = set()\n",
    "score_rgx = re.compile(r\"SCORE\\d+\")\n",
    "pass_rgx = re.compile(r\":(BON\\d+)\")\n",
    "\n",
    "for game in data:\n",
    "    for faction in game[\"factions\"]:\n",
    "        factions.add(faction[\"faction\"])\n",
    "    event = game[\"events\"]\n",
    "    for key in event[\"global\"].keys():\n",
    "        if score_rgx.search(key):\n",
    "            scoring_tiles.add(key)\n",
    "    all_faction = event[\"faction\"][\"all\"]\n",
    "    for key in all_faction.keys():\n",
    "        if pass_rgx.search(key):\n",
    "            passing_tiles.add(pass_rgx.search(key).groups(0)[0])"
   ]
  },
  {
   "cell_type": "code",
   "execution_count": 5,
   "metadata": {},
   "outputs": [
    {
     "data": {
      "text/plain": [
       "{'SCORE1',\n",
       " 'SCORE2',\n",
       " 'SCORE3',\n",
       " 'SCORE4',\n",
       " 'SCORE5',\n",
       " 'SCORE6',\n",
       " 'SCORE7',\n",
       " 'SCORE8'}"
      ]
     },
     "execution_count": 5,
     "metadata": {},
     "output_type": "execute_result"
    }
   ],
   "source": [
    "scoring_tiles"
   ]
  },
  {
   "cell_type": "code",
   "execution_count": 6,
   "metadata": {},
   "outputs": [
    {
     "data": {
      "text/plain": [
       "{'BON1',\n",
       " 'BON10',\n",
       " 'BON2',\n",
       " 'BON3',\n",
       " 'BON4',\n",
       " 'BON5',\n",
       " 'BON6',\n",
       " 'BON7',\n",
       " 'BON8',\n",
       " 'BON9'}"
      ]
     },
     "execution_count": 6,
     "metadata": {},
     "output_type": "execute_result"
    }
   ],
   "source": [
    "passing_tiles"
   ]
  },
  {
   "cell_type": "code",
   "execution_count": 7,
   "metadata": {},
   "outputs": [
    {
     "data": {
      "text/plain": [
       "{'alchemists',\n",
       " 'auren',\n",
       " 'chaosmagicians',\n",
       " 'cultists',\n",
       " 'darklings',\n",
       " 'dwarves',\n",
       " 'engineers',\n",
       " 'fakirs',\n",
       " 'giants',\n",
       " 'halflings',\n",
       " 'mermaids',\n",
       " 'nomads',\n",
       " 'swarmlings',\n",
       " 'witches'}"
      ]
     },
     "execution_count": 7,
     "metadata": {},
     "output_type": "execute_result"
    }
   ],
   "source": [
    "factions"
   ]
  },
  {
   "cell_type": "code",
   "execution_count": 8,
   "metadata": {},
   "outputs": [
    {
     "data": {
      "text/plain": [
       "14"
      ]
     },
     "execution_count": 8,
     "metadata": {},
     "output_type": "execute_result"
    }
   ],
   "source": [
    "len(factions)"
   ]
  },
  {
   "cell_type": "markdown",
   "metadata": {},
   "source": [
    "Well, that's some pretty garbage code, but it ran nice and quick on one month so it's probably worth running through everything real quick to avoid surprises"
   ]
  },
  {
   "cell_type": "code",
   "execution_count": 9,
   "metadata": {},
   "outputs": [
    {
     "name": "stdout",
     "output_type": "stream",
     "text": [
      "Scoring tiles found != 8\n",
      "factions found != 14\n"
     ]
    }
   ],
   "source": [
    "scoring_tiles = set()\n",
    "passing_tiles = set()\n",
    "factions = set()\n",
    "score_rgx = re.compile(r\"SCORE\\d+\")\n",
    "pass_rgx = re.compile(r\":(BON\\d+)\")\n",
    "\n",
    "for json_file in json_dir.glob(\"*.json\"):\n",
    "    with open(json_file) as f:\n",
    "        data = json.load(f) \n",
    "    for game in data:\n",
    "        for faction in game[\"factions\"]:\n",
    "            factions.add(faction[\"faction\"])\n",
    "        event = game[\"events\"]\n",
    "        for key in event[\"global\"].keys():\n",
    "            if score_rgx.search(key):\n",
    "                scoring_tiles.add(key)\n",
    "        all_faction = event[\"faction\"][\"all\"]\n",
    "        for key in all_faction.keys():\n",
    "            if pass_rgx.search(key):\n",
    "                passing_tiles.add(pass_rgx.search(key).groups(0)[0])\n",
    "try:\n",
    "    assert(len(scoring_tiles) == 8)\n",
    "except AssertionError:\n",
    "    print(\"Scoring tiles found != 8\")\n",
    "try:\n",
    "    assert(len(passing_tiles) == 10)\n",
    "except AssertionError:\n",
    "    print(\"passing tiles found != 10\")\n",
    "try:\n",
    "    assert(len(factions) == 14)\n",
    "except AssertionError:\n",
    "    print(\"factions found != 14\")"
   ]
  },
  {
   "cell_type": "code",
   "execution_count": 10,
   "metadata": {},
   "outputs": [
    {
     "data": {
      "text/plain": [
       "{'SCORE1',\n",
       " 'SCORE2',\n",
       " 'SCORE3',\n",
       " 'SCORE4',\n",
       " 'SCORE5',\n",
       " 'SCORE6',\n",
       " 'SCORE7',\n",
       " 'SCORE8',\n",
       " 'SCORE9'}"
      ]
     },
     "execution_count": 10,
     "metadata": {},
     "output_type": "execute_result"
    }
   ],
   "source": [
    "scoring_tiles"
   ]
  },
  {
   "cell_type": "markdown",
   "metadata": {},
   "source": [
    "Oh cool, I wonder wtf SCORE 9 is?"
   ]
  },
  {
   "cell_type": "code",
   "execution_count": 11,
   "metadata": {},
   "outputs": [
    {
     "data": {
      "text/plain": [
       "{'acolytes',\n",
       " 'alchemists',\n",
       " 'auren',\n",
       " 'chaosmagicians',\n",
       " 'cultists',\n",
       " 'darklings',\n",
       " 'dragonlords',\n",
       " 'dwarves',\n",
       " 'engineers',\n",
       " 'fakirs',\n",
       " 'giants',\n",
       " 'halflings',\n",
       " 'icemaidens',\n",
       " 'mermaids',\n",
       " 'nofaction1',\n",
       " 'nofaction2',\n",
       " 'nofaction3',\n",
       " 'nofaction4',\n",
       " 'nofaction5',\n",
       " 'nofaction7',\n",
       " 'nomads',\n",
       " 'riverwalkers',\n",
       " 'shapeshifters',\n",
       " 'swarmlings',\n",
       " 'witches',\n",
       " 'yetis'}"
      ]
     },
     "execution_count": 11,
     "metadata": {},
     "output_type": "execute_result"
    }
   ],
   "source": [
    "factions"
   ]
  },
  {
   "cell_type": "code",
   "execution_count": 12,
   "metadata": {},
   "outputs": [
    {
     "data": {
      "text/plain": [
       "26"
      ]
     },
     "execution_count": 12,
     "metadata": {},
     "output_type": "execute_result"
    }
   ],
   "source": [
    "len(factions)"
   ]
  },
  {
   "cell_type": "markdown",
   "metadata": {},
   "source": [
    "Ok so we have bonus acolytes, dragonlords, icemaidens, riverwalkers, shapeshifters, yetis and whatever nofaction1/2/3/4/5/7 is supposed to mean\n",
    "\n",
    "One last thing I want to check before I build this. I think the game names are supposed to be unique, but let's just check that."
   ]
  },
  {
   "cell_type": "code",
   "execution_count": 13,
   "metadata": {},
   "outputs": [],
   "source": [
    "game_names = set()\n",
    "num_games = 0\n",
    "for json_file in json_dir.glob(\"*.json\"):\n",
    "    with open(json_file) as f:\n",
    "        data = json.load(f) \n",
    "    for game in data:\n",
    "        game_names.add(game[\"game\"])\n",
    "        num_games += 1\n",
    "assert len(game_names) == num_games"
   ]
  },
  {
   "cell_type": "markdown",
   "metadata": {},
   "source": [
    "Ok, at least game names are indeed unique"
   ]
  },
  {
   "cell_type": "markdown",
   "metadata": {},
   "source": [
    "Oh, yeah, I was going to check if \"drop-faction\" was anywhere. Sure would have been faster to do that the last time I iterated through this whole pile of data, oh well"
   ]
  },
  {
   "cell_type": "code",
   "execution_count": 14,
   "metadata": {},
   "outputs": [],
   "source": [
    "drop_game_names = set()\n",
    "num_drop_games = 0\n",
    "for json_file in json_dir.glob(\"*.json\"):\n",
    "    with open(json_file) as f:\n",
    "        data = json.load(f) \n",
    "    for game in data:\n",
    "        if \"drop-faction\" in game[\"events\"][\"global\"].keys():\n",
    "            drop_game_names.add(game[\"game\"])\n",
    "            num_drop_games += 1"
   ]
  },
  {
   "cell_type": "code",
   "execution_count": 15,
   "metadata": {},
   "outputs": [
    {
     "data": {
      "text/plain": [
       "23531"
      ]
     },
     "execution_count": 15,
     "metadata": {},
     "output_type": "execute_result"
    }
   ],
   "source": [
    "num_drop_games"
   ]
  },
  {
   "cell_type": "markdown",
   "metadata": {},
   "source": [
    "Ok, there's a fair number of games with players dropping. I'll have to account for that somehow. Maybe just exclude them?"
   ]
  },
  {
   "cell_type": "code",
   "execution_count": null,
   "metadata": {},
   "outputs": [],
   "source": []
  }
 ],
 "metadata": {
  "kernelspec": {
   "display_name": "Python 3",
   "language": "python",
   "name": "python3"
  },
  "language_info": {
   "codemirror_mode": {
    "name": "ipython",
    "version": 3
   },
   "file_extension": ".py",
   "mimetype": "text/x-python",
   "name": "python",
   "nbconvert_exporter": "python",
   "pygments_lexer": "ipython3",
   "version": "3.7.6"
  }
 },
 "nbformat": 4,
 "nbformat_minor": 4
}
