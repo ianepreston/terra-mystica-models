{
 "cells": [
  {
   "cell_type": "markdown",
   "metadata": {},
   "source": [
    "Mess around with reading in the json files and figure out a schema to use for the data"
   ]
  },
  {
   "cell_type": "code",
   "execution_count": 1,
   "metadata": {},
   "outputs": [],
   "source": [
    "import re\n",
    "import json\n",
    "from pathlib import Path\n",
    "import pandas as pd"
   ]
  },
  {
   "cell_type": "code",
   "execution_count": 2,
   "metadata": {},
   "outputs": [],
   "source": [
    "json_dir = Path(\".\").resolve().parent / \"data\" / \"raw\""
   ]
  },
  {
   "cell_type": "markdown",
   "metadata": {},
   "source": [
    "Just load a random file and poke around at it a bit to get a sense of the data"
   ]
  },
  {
   "cell_type": "code",
   "execution_count": 3,
   "metadata": {},
   "outputs": [],
   "source": [
    "eg_json = json_dir / \"2014-01.json\"\n",
    "with open(eg_json) as f:\n",
    "    data = json.load(f)"
   ]
  },
  {
   "cell_type": "code",
   "execution_count": 4,
   "metadata": {},
   "outputs": [
    {
     "data": {
      "text/plain": [
       "393"
      ]
     },
     "execution_count": 4,
     "metadata": {},
     "output_type": "execute_result"
    }
   ],
   "source": [
    "len(data)"
   ]
  },
  {
   "cell_type": "markdown",
   "metadata": {},
   "source": [
    "From the schema, each item in the list is supposed to be a game so it looks like we have 393 games for this month"
   ]
  },
  {
   "cell_type": "markdown",
   "metadata": {},
   "source": [
    "Let's poke around a bit more"
   ]
  },
  {
   "cell_type": "code",
   "execution_count": 5,
   "metadata": {},
   "outputs": [
    {
     "data": {
      "text/plain": [
       "dict_keys(['last_update', 'events', 'player_count', 'factions', 'base_map', 'game'])"
      ]
     },
     "execution_count": 5,
     "metadata": {},
     "output_type": "execute_result"
    }
   ],
   "source": [
    "data[0].keys()"
   ]
  },
  {
   "cell_type": "code",
   "execution_count": 6,
   "metadata": {},
   "outputs": [
    {
     "data": {
      "text/plain": [
       "'01Week04'"
      ]
     },
     "execution_count": 6,
     "metadata": {},
     "output_type": "execute_result"
    }
   ],
   "source": [
    "data[0][\"game\"]"
   ]
  },
  {
   "cell_type": "code",
   "execution_count": 7,
   "metadata": {},
   "outputs": [
    {
     "name": "stdout",
     "output_type": "stream",
     "text": [
      "aaa1\n",
      "aaa2\n",
      "ABBABBA\n",
      "AerthBattle\n",
      "AfternoonTea\n",
      "aGame\n",
      "AGE01\n",
      "allehoppa\n",
      "AllenamentoIvanDrago\n",
      "altazor\n"
     ]
    }
   ],
   "source": [
    "for i in range(20,30):\n",
    "    print(data[i][\"game\"])"
   ]
  },
  {
   "cell_type": "code",
   "execution_count": 8,
   "metadata": {},
   "outputs": [
    {
     "data": {
      "text/plain": [
       "'2014-01-31 17:14:14'"
      ]
     },
     "execution_count": 8,
     "metadata": {},
     "output_type": "execute_result"
    }
   ],
   "source": [
    "data[0][\"last_update\"]"
   ]
  },
  {
   "cell_type": "code",
   "execution_count": 9,
   "metadata": {},
   "outputs": [
    {
     "data": {
      "text/plain": [
       "3"
      ]
     },
     "execution_count": 9,
     "metadata": {},
     "output_type": "execute_result"
    }
   ],
   "source": [
    "data[0][\"player_count\"]"
   ]
  },
  {
   "cell_type": "code",
   "execution_count": 10,
   "metadata": {},
   "outputs": [
    {
     "data": {
      "text/plain": [
       "[{'player': 'EmanuelU', 'faction': 'halflings'},\n",
       " {'player': 'Nidhoegg', 'faction': 'alchemists'},\n",
       " {'player': 'affe1982', 'faction': 'dwarves'}]"
      ]
     },
     "execution_count": 10,
     "metadata": {},
     "output_type": "execute_result"
    }
   ],
   "source": [
    "data[0][\"factions\"]"
   ]
  },
  {
   "cell_type": "code",
   "execution_count": 11,
   "metadata": {},
   "outputs": [
    {
     "data": {
      "text/plain": [
       "'126fe960806d587c78546b30f1a90853b1ada468'"
      ]
     },
     "execution_count": 11,
     "metadata": {},
     "output_type": "execute_result"
    }
   ],
   "source": [
    "data[0][\"base_map\"]"
   ]
  },
  {
   "cell_type": "code",
   "execution_count": 12,
   "metadata": {},
   "outputs": [],
   "source": [
    "event_eg = data[0][\"events\"]"
   ]
  },
  {
   "cell_type": "code",
   "execution_count": 13,
   "metadata": {},
   "outputs": [
    {
     "data": {
      "text/plain": [
       "dict_keys(['global', 'location', 'faction'])"
      ]
     },
     "execution_count": 13,
     "metadata": {},
     "output_type": "execute_result"
    }
   ],
   "source": [
    "event_eg.keys()"
   ]
  },
  {
   "cell_type": "markdown",
   "metadata": {},
   "source": [
    "Location wasn't listed in the schema, let's take a look at it"
   ]
  },
  {
   "cell_type": "code",
   "execution_count": 14,
   "metadata": {},
   "outputs": [
    {
     "data": {
      "text/plain": [
       "{'halflings': {'round': {'6': ['E4'],\n",
       "   'all': ['I8', 'E6', 'H4', 'F3', 'E5', 'D3', 'B2', 'I7', 'C1', 'E4'],\n",
       "   '5': ['B2', 'I7', 'C1'],\n",
       "   '0': ['I8', 'E6'],\n",
       "   '4': ['E5', 'D3'],\n",
       "   '3': ['H4', 'F3']}},\n",
       " 'alchemists': {'round': {'6': ['E11'],\n",
       "   'all': ['G5',\n",
       "    'E10',\n",
       "    'F7',\n",
       "    'G6',\n",
       "    'G4',\n",
       "    'H5',\n",
       "    'D8',\n",
       "    'E8',\n",
       "    'D5',\n",
       "    'C3',\n",
       "    'B3',\n",
       "    'E11'],\n",
       "   '5': ['C3', 'B3'],\n",
       "   '3': ['D8'],\n",
       "   '2': ['G4', 'H5'],\n",
       "   '0': ['G5', 'E10'],\n",
       "   '1': ['F7', 'G6'],\n",
       "   '4': ['E8', 'D5']}},\n",
       " 'dwarves': {'round': {'6': ['G2', 'G1'],\n",
       "   'all': ['F6',\n",
       "    'H6',\n",
       "    'E9',\n",
       "    'D7',\n",
       "    'C5',\n",
       "    'I9',\n",
       "    'H8',\n",
       "    'G3',\n",
       "    'E7',\n",
       "    'C4',\n",
       "    'G2',\n",
       "    'G1'],\n",
       "   '5': ['G3', 'E7', 'C4'],\n",
       "   '0': ['F6', 'H6'],\n",
       "   '2': ['E9', 'D7'],\n",
       "   '3': ['C5', 'I9', 'H8']}}}"
      ]
     },
     "execution_count": 14,
     "metadata": {},
     "output_type": "execute_result"
    }
   ],
   "source": [
    "event_eg[\"location\"]"
   ]
  },
  {
   "cell_type": "markdown",
   "metadata": {},
   "source": [
    "OK, I don't think I need that for now, but I'll update the schema text so it's noted"
   ]
  },
  {
   "cell_type": "code",
   "execution_count": 15,
   "metadata": {},
   "outputs": [
    {
     "data": {
      "text/plain": [
       "109"
      ]
     },
     "execution_count": 15,
     "metadata": {},
     "output_type": "execute_result"
    }
   ],
   "source": [
    "event_eg[\"faction\"][\"alchemists\"][\"vp\"][\"round\"][\"all\"]"
   ]
  },
  {
   "cell_type": "markdown",
   "metadata": {},
   "source": [
    "Well that's a pretty deeply nested place to get victory points, should be fun"
   ]
  },
  {
   "cell_type": "code",
   "execution_count": 16,
   "metadata": {},
   "outputs": [
    {
     "data": {
      "text/plain": [
       "{'option-email-notify': {'round': {'all': 1, '0': 1}},\n",
       " 'option-shipping-bonus': {'round': {'all': 1, '0': 1}},\n",
       " 'SCORE1': {'round': {'all': 1, '4': 1}},\n",
       " 'option-mini-expansion-1': {'round': {'all': 1, '0': 1}},\n",
       " 'option-errata-cultist-power': {'round': {'all': 1, '0': 1}},\n",
       " 'faction-count': {'round': {'all': 3, '0': 3}},\n",
       " 'SCORE5': {'round': {'all': 1, '3': 1}},\n",
       " 'option-strict-leech': {'round': {'all': 1, '0': 1}},\n",
       " 'SCORE7': {'round': {'all': 1, '2': 1}},\n",
       " 'SCORE8': {'round': {'6': 1, 'all': 1}},\n",
       " 'SCORE3': {'round': {'all': 1, '5': 1}},\n",
       " 'SCORE2': {'round': {'all': 1, '1': 1}}}"
      ]
     },
     "execution_count": 16,
     "metadata": {},
     "output_type": "execute_result"
    }
   ],
   "source": [
    "event_eg[\"global\"]"
   ]
  },
  {
   "cell_type": "markdown",
   "metadata": {},
   "source": [
    "Ok, so to know what scoring tiles were used in the game I have to check for them in the keys of \"global\". I don't get the nested schema below that, all seems like it's always going to be one, and then the other key just tells me what round it was actually in. So in this example I read it as  \n",
    "Round 1: Scoring tile 2  \n",
    "Round 2: Scoring tile 7  \n",
    "Round 3: Scoring tile 5  \n",
    "Round 4: Scoring tile 1  \n",
    "Round 5: Scoring tile 3  \n",
    "Round 6: Scoring tile 8  "
   ]
  },
  {
   "cell_type": "code",
   "execution_count": 17,
   "metadata": {},
   "outputs": [
    {
     "data": {
      "text/plain": [
       "[{'player': 'EmanuelU', 'faction': 'halflings'},\n",
       " {'player': 'Nidhoegg', 'faction': 'alchemists'},\n",
       " {'player': 'affe1982', 'faction': 'dwarves'}]"
      ]
     },
     "execution_count": 17,
     "metadata": {},
     "output_type": "execute_result"
    }
   ],
   "source": [
    "data[0][\"factions\"]"
   ]
  },
  {
   "cell_type": "markdown",
   "metadata": {},
   "source": [
    "I think I should have x + 2 = 5 passing tiles for this game, let's figure out what they are"
   ]
  },
  {
   "cell_type": "code",
   "execution_count": 18,
   "metadata": {},
   "outputs": [
    {
     "data": {
      "text/plain": [
       "dict_keys(['favor:FAV3', 'upgrade:SH', 'vp', 'action:ACT4', 'town:TW1', 'town:TW2', 'pass:BON4', 'action:ACT2', 'decline:pw', 'advance:dig', 'action:BON1', 'leech:count', 'action:ACT1', 'pass:BON1', 'favor:FAV7', 'favor:any', 'burn', 'advance:ship', 'order:2', 'order:1', 'upgrade:TP', 'favor:FAV11', 'action:ACT6', 'bridge', 'favor:FAV5', 'decline:count', 'pass:BON6', 'action:ACT5', 'dig', 'leech:pw', 'town:any', 'pass:BON3', 'order:3', 'upgrade:TE', 'pass:BON10', 'town:TW5', 'pass:BON7', 'upgrade:SA', 'favor:FAV10', 'build:D', 'action:ACT3'])"
      ]
     },
     "execution_count": 18,
     "metadata": {},
     "output_type": "execute_result"
    }
   ],
   "source": [
    "event_eg[\"faction\"][\"all\"].keys()"
   ]
  },
  {
   "cell_type": "markdown",
   "metadata": {},
   "source": [
    "If I'm reading this right to get the passing tiles for the game I'd have to go through here and for each faction find the keys that have \"pass\"/\"act\":BON# let's see if that makes sense"
   ]
  },
  {
   "cell_type": "code",
   "execution_count": 19,
   "metadata": {},
   "outputs": [],
   "source": [
    "fact_eg = event_eg[\"faction\"]"
   ]
  },
  {
   "cell_type": "code",
   "execution_count": 20,
   "metadata": {},
   "outputs": [
    {
     "data": {
      "text/plain": [
       "{'BON1', 'BON3', 'BON4', 'BON6', 'BON7'}"
      ]
     },
     "execution_count": 20,
     "metadata": {},
     "output_type": "execute_result"
    }
   ],
   "source": [
    "rgx = r\":(BON\\d)\"\n",
    "# I could do this in python 3.8 but trying to get everything else working there sent me to dependency hell. Oh well\n",
    "# set(match.groups(0)[0] for x in fact_eg[\"all\"].keys() if (match := re.compile(rgx).search(x)))\n",
    "set(re.compile(rgx).search(x).groups(0)[0] for x in fact_eg[\"all\"].keys() if re.compile(rgx).search(x))"
   ]
  },
  {
   "cell_type": "markdown",
   "metadata": {},
   "source": [
    "That looks like it's it then. I guess the risk is that if a bonus tile is available but is never played in the game I won't be able to identify it from this. Something to validate for when I'm building the dataset"
   ]
  }
 ],
 "metadata": {
  "kernelspec": {
   "display_name": "Python 3",
   "language": "python",
   "name": "python3"
  },
  "language_info": {
   "codemirror_mode": {
    "name": "ipython",
    "version": 3
   },
   "file_extension": ".py",
   "mimetype": "text/x-python",
   "name": "python",
   "nbconvert_exporter": "python",
   "pygments_lexer": "ipython3",
   "version": "3.7.6"
  }
 },
 "nbformat": 4,
 "nbformat_minor": 4
}
