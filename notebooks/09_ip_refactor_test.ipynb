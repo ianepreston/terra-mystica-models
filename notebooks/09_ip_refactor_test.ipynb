{
 "cells": [
  {
   "cell_type": "markdown",
   "metadata": {},
   "source": [
    "I moved the player data logic into a module, let's make sure it's still working. I also changed the victory point margin calculation to be how many points above the average of all players a user scored. The meaning is a bit less intuitive but I think it will have better statistical properties since there won't be the cluster around 0."
   ]
  },
  {
   "cell_type": "code",
   "execution_count": 1,
   "metadata": {},
   "outputs": [],
   "source": [
    "%load_ext autoreload\n",
    "%autoreload 2"
   ]
  },
  {
   "cell_type": "code",
   "execution_count": 2,
   "metadata": {},
   "outputs": [],
   "source": [
    "import pandas as pd\n",
    "import seaborn as sns\n",
    "from terra_mystica_models.features import parse_interim, player_data"
   ]
  },
  {
   "cell_type": "code",
   "execution_count": 3,
   "metadata": {},
   "outputs": [],
   "source": [
    "pd.options.display.max_rows = 999"
   ]
  },
  {
   "cell_type": "code",
   "execution_count": 4,
   "metadata": {},
   "outputs": [],
   "source": [
    "all_games_df = parse_interim.interim_full_pipe()"
   ]
  },
  {
   "cell_type": "code",
   "execution_count": 5,
   "metadata": {},
   "outputs": [],
   "source": [
    "players = player_data.TerraMysticaPlayers(all_games_df)"
   ]
  },
  {
   "cell_type": "markdown",
   "metadata": {},
   "source": [
    "Take a look at the player stats we compute"
   ]
  },
  {
   "cell_type": "code",
   "execution_count": 6,
   "metadata": {},
   "outputs": [
    {
     "data": {
      "text/html": [
       "<div>\n",
       "<style scoped>\n",
       "    .dataframe tbody tr th:only-of-type {\n",
       "        vertical-align: middle;\n",
       "    }\n",
       "\n",
       "    .dataframe tbody tr th {\n",
       "        vertical-align: top;\n",
       "    }\n",
       "\n",
       "    .dataframe thead th {\n",
       "        text-align: right;\n",
       "    }\n",
       "</style>\n",
       "<table border=\"1\" class=\"dataframe\">\n",
       "  <thead>\n",
       "    <tr style=\"text-align: right;\">\n",
       "      <th></th>\n",
       "      <th>number_of_games</th>\n",
       "      <th>mean_vp</th>\n",
       "      <th>mean_vp_margin</th>\n",
       "    </tr>\n",
       "    <tr>\n",
       "      <th>user</th>\n",
       "      <th></th>\n",
       "      <th></th>\n",
       "      <th></th>\n",
       "    </tr>\n",
       "  </thead>\n",
       "  <tbody>\n",
       "    <tr>\n",
       "      <th>-sjk-</th>\n",
       "      <td>127</td>\n",
       "      <td>133.897638</td>\n",
       "      <td>4.197507</td>\n",
       "    </tr>\n",
       "    <tr>\n",
       "      <th>00</th>\n",
       "      <td>144</td>\n",
       "      <td>108.784722</td>\n",
       "      <td>-11.327662</td>\n",
       "    </tr>\n",
       "    <tr>\n",
       "      <th>104ki</th>\n",
       "      <td>123</td>\n",
       "      <td>134.268293</td>\n",
       "      <td>4.979675</td>\n",
       "    </tr>\n",
       "    <tr>\n",
       "      <th>12AngryDwarfs</th>\n",
       "      <td>191</td>\n",
       "      <td>109.586387</td>\n",
       "      <td>-5.475218</td>\n",
       "    </tr>\n",
       "    <tr>\n",
       "      <th>19sebbe90</th>\n",
       "      <td>63</td>\n",
       "      <td>130.428571</td>\n",
       "      <td>8.098413</td>\n",
       "    </tr>\n",
       "    <tr>\n",
       "      <th>...</th>\n",
       "      <td>...</td>\n",
       "      <td>...</td>\n",
       "      <td>...</td>\n",
       "    </tr>\n",
       "    <tr>\n",
       "      <th>zoeshao</th>\n",
       "      <td>59</td>\n",
       "      <td>121.203390</td>\n",
       "      <td>1.322316</td>\n",
       "    </tr>\n",
       "    <tr>\n",
       "      <th>zopfmeister</th>\n",
       "      <td>97</td>\n",
       "      <td>124.350515</td>\n",
       "      <td>6.769244</td>\n",
       "    </tr>\n",
       "    <tr>\n",
       "      <th>zrap</th>\n",
       "      <td>163</td>\n",
       "      <td>92.024540</td>\n",
       "      <td>-17.284254</td>\n",
       "    </tr>\n",
       "    <tr>\n",
       "      <th>zurlugh</th>\n",
       "      <td>30</td>\n",
       "      <td>106.500000</td>\n",
       "      <td>-7.371111</td>\n",
       "    </tr>\n",
       "    <tr>\n",
       "      <th>zzt20100414</th>\n",
       "      <td>214</td>\n",
       "      <td>123.967290</td>\n",
       "      <td>-1.788640</td>\n",
       "    </tr>\n",
       "  </tbody>\n",
       "</table>\n",
       "<p>3459 rows × 3 columns</p>\n",
       "</div>"
      ],
      "text/plain": [
       "               number_of_games     mean_vp  mean_vp_margin\n",
       "user                                                      \n",
       "-sjk-                      127  133.897638        4.197507\n",
       "00                         144  108.784722      -11.327662\n",
       "104ki                      123  134.268293        4.979675\n",
       "12AngryDwarfs              191  109.586387       -5.475218\n",
       "19sebbe90                   63  130.428571        8.098413\n",
       "...                        ...         ...             ...\n",
       "zoeshao                     59  121.203390        1.322316\n",
       "zopfmeister                 97  124.350515        6.769244\n",
       "zrap                       163   92.024540      -17.284254\n",
       "zurlugh                     30  106.500000       -7.371111\n",
       "zzt20100414                214  123.967290       -1.788640\n",
       "\n",
       "[3459 rows x 3 columns]"
      ]
     },
     "execution_count": 6,
     "metadata": {},
     "output_type": "execute_result"
    }
   ],
   "source": [
    "players.player_df"
   ]
  },
  {
   "cell_type": "markdown",
   "metadata": {},
   "source": [
    "Quick check, the game dataframe should have been modified to replace anyone not in the above dataframe with \"Other Terra Mystica User\""
   ]
  },
  {
   "cell_type": "code",
   "execution_count": 7,
   "metadata": {},
   "outputs": [
    {
     "data": {
      "text/plain": [
       "pbc3        Other Terra Mystica User\n",
       "10          Other Terra Mystica User\n",
       "21          Other Terra Mystica User\n",
       "5           Other Terra Mystica User\n",
       "8           Other Terra Mystica User\n",
       "                      ...           \n",
       "ZGame301                ZeroCool2017\n",
       "ZGame302                    Weltmann\n",
       "ZGame303                    Weltmann\n",
       "ZGame304                       Snitz\n",
       "ZGame305                    Fironics\n",
       "Name: player_1_user, Length: 144750, dtype: object"
      ]
     },
     "execution_count": 7,
     "metadata": {},
     "output_type": "execute_result"
    }
   ],
   "source": [
    "players.game_df[\"player_1_user\"]"
   ]
  },
  {
   "cell_type": "markdown",
   "metadata": {},
   "source": [
    "### VP margin distribution\n",
    "\n",
    "I changed the logic for this to be deviation from mean rather than deviation from minimum, let's see what it looks like"
   ]
  },
  {
   "cell_type": "code",
   "execution_count": 8,
   "metadata": {},
   "outputs": [
    {
     "data": {
      "image/png": "[encoded data removed]",
      "text/plain": [
       "<Figure size 432x288 with 1 Axes>"
      ]
     },
     "metadata": {
      "needs_background": "light"
     },
     "output_type": "display_data"
    }
   ],
   "source": [
    "vp_margin_cols = [col for col in all_games_df.columns if col.endswith(\"vp_margin\")]\n",
    "all_vp_margins = (\n",
    "    all_games_df\n",
    "    .reset_index()\n",
    "    .melt(value_vars=vp_margin_cols)\n",
    "    .dropna()\n",
    "    [\"value\"]\n",
    ")\n",
    "sns.distplot(all_vp_margins);"
   ]
  },
  {
   "cell_type": "code",
   "execution_count": 9,
   "metadata": {},
   "outputs": [
    {
     "data": {
      "text/plain": [
       "count    5.174130e+05\n",
       "mean     2.900326e-17\n",
       "std      2.183546e+01\n",
       "min     -1.036667e+02\n",
       "25%     -1.200000e+01\n",
       "50%      1.000000e+00\n",
       "75%      1.350000e+01\n",
       "max      2.360000e+02\n",
       "Name: value, dtype: float64"
      ]
     },
     "execution_count": 9,
     "metadata": {},
     "output_type": "execute_result"
    }
   ],
   "source": [
    "all_vp_margins.describe()"
   ]
  },
  {
   "cell_type": "markdown",
   "metadata": {},
   "source": [
    "OK, that looks like it might get me some better fits."
   ]
  }
 ],
 "metadata": {
  "kernelspec": {
   "display_name": "Python 3",
   "language": "python",
   "name": "python3"
  },
  "language_info": {
   "codemirror_mode": {
    "name": "ipython",
    "version": 3
   },
   "file_extension": ".py",
   "mimetype": "text/x-python",
   "name": "python",
   "nbconvert_exporter": "python",
   "pygments_lexer": "ipython3",
   "version": "3.7.6"
  }
 },
 "nbformat": 4,
 "nbformat_minor": 4
}
