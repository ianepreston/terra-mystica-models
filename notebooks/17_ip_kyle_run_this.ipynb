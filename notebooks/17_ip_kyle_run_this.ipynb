{
 "cells": [
  {
   "cell_type": "markdown",
   "metadata": {},
   "source": [
    "I'll figure out a cleaner way to do this eventually, but this notebook will work for now. Takes the weirdly named d6tflow artifacts I need from the model training and saves them in the webapp pickles folder so it can be loaded from there without requiring d6tflow. Should make creating an image to deploy of this a little easier/smaller"
   ]
  },
  {
   "cell_type": "code",
   "execution_count": null,
   "metadata": {},
   "outputs": [],
   "source": [
    "from pathlib import Path\n",
    "import shutil\n",
    "import d6tflow"
   ]
  },
  {
   "cell_type": "code",
   "execution_count": null,
   "metadata": {},
   "outputs": [],
   "source": [
    "from terra_mystica_models.models.train_model import TaskScoreTurnModel\n",
    "from terra_mystica_models.models.analysis import TaskScoreTurnModelInputs"
   ]
  },
  {
   "cell_type": "code",
   "execution_count": null,
   "metadata": {},
   "outputs": [],
   "source": [
    "webapp_pickles_path = Path(\".\").resolve().parent / \"webapp\" / \"pickles\""
   ]
  },
  {
   "cell_type": "code",
   "execution_count": null,
   "metadata": {},
   "outputs": [],
   "source": [
    "model_file = webapp_pickles_path / \"model.pkl\"\n",
    "shutil.copyfile(TaskScoreTurnModel().output().path, model_file)"
   ]
  },
  {
   "cell_type": "code",
   "execution_count": null,
   "metadata": {},
   "outputs": [],
   "source": [
    "input_series_file = webapp_pickles_path / \"input_series.pkl\"\n",
    "shutil.copyfile(TaskScoreTurnModelInputs().output().path, input_series_file)"
   ]
  }
 ],
 "metadata": {
  "kernelspec": {
   "display_name": "Python 3",
   "language": "python",
   "name": "python3"
  },
  "language_info": {
   "codemirror_mode": {
    "name": "ipython",
    "version": 3
   },
   "file_extension": ".py",
   "mimetype": "text/x-python",
   "name": "python",
   "nbconvert_exporter": "python",
   "pygments_lexer": "ipython3",
   "version": "3.8.2"
  }
 },
 "nbformat": 4,
 "nbformat_minor": 4
}
