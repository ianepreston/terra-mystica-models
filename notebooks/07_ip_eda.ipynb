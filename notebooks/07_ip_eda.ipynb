{
 "cells": [
  {
   "cell_type": "code",
   "execution_count": 1,
   "metadata": {},
   "outputs": [],
   "source": [
    "%load_ext autoreload\n",
    "%autoreload 2"
   ]
  },
  {
   "cell_type": "code",
   "execution_count": 2,
   "metadata": {},
   "outputs": [],
   "source": [
    "from pathlib import Path\n",
    "import json\n",
    "import pandas as pd\n",
    "import altair as alt\n",
    "from terra_mystica_models.features import parse_interim\n",
    "from terra_mystica_models.data.make_dataset import TerraMysticaGame"
   ]
  },
  {
   "cell_type": "code",
   "execution_count": 3,
   "metadata": {},
   "outputs": [],
   "source": [
    "pd.options.display.max_rows = 999"
   ]
  },
  {
   "cell_type": "code",
   "execution_count": 4,
   "metadata": {},
   "outputs": [
    {
     "data": {
      "text/plain": [
       "RendererRegistry.enable('jupyterlab')"
      ]
     },
     "execution_count": 4,
     "metadata": {},
     "output_type": "execute_result"
    }
   ],
   "source": [
    "alt.renderers.enable(\"jupyterlab\")"
   ]
  },
  {
   "cell_type": "code",
   "execution_count": 5,
   "metadata": {},
   "outputs": [],
   "source": [
    "all_games_df = parse_interim.read_interim_data()"
   ]
  },
  {
   "cell_type": "markdown",
   "metadata": {},
   "source": [
    "## Basic validation"
   ]
  },
  {
   "cell_type": "markdown",
   "metadata": {},
   "source": [
    "### Date"
   ]
  },
  {
   "cell_type": "code",
   "execution_count": 6,
   "metadata": {},
   "outputs": [
    {
     "data": {
      "text/plain": [
       "Timestamp('2013-02-10 02:40:12')"
      ]
     },
     "execution_count": 6,
     "metadata": {},
     "output_type": "execute_result"
    }
   ],
   "source": [
    "all_games_df[\"date\"].min()"
   ]
  },
  {
   "cell_type": "code",
   "execution_count": 7,
   "metadata": {},
   "outputs": [
    {
     "data": {
      "text/plain": [
       "Timestamp('2020-01-31 21:19:11')"
      ]
     },
     "execution_count": 7,
     "metadata": {},
     "output_type": "execute_result"
    }
   ],
   "source": [
    "all_games_df[\"date\"].max()"
   ]
  },
  {
   "cell_type": "code",
   "execution_count": 8,
   "metadata": {},
   "outputs": [
    {
     "data": {
      "text/plain": [
       "False"
      ]
     },
     "execution_count": 8,
     "metadata": {},
     "output_type": "execute_result"
    }
   ],
   "source": [
    "any(all_games_df[\"date\"].isna())"
   ]
  },
  {
   "cell_type": "markdown",
   "metadata": {},
   "source": [
    "### Map"
   ]
  },
  {
   "cell_type": "code",
   "execution_count": 9,
   "metadata": {},
   "outputs": [
    {
     "data": {
      "text/plain": [
       "False"
      ]
     },
     "execution_count": 9,
     "metadata": {},
     "output_type": "execute_result"
    }
   ],
   "source": [
    "any(all_games_df[\"map\"].isna())"
   ]
  },
  {
   "cell_type": "markdown",
   "metadata": {},
   "source": [
    "### Number of players"
   ]
  },
  {
   "cell_type": "code",
   "execution_count": 10,
   "metadata": {},
   "outputs": [
    {
     "data": {
      "application/vnd.vegalite.v4+json": {
       "$schema": "https://vega.github.io/schema/vega-lite/v4.0.2.json",
       "config": {
        "view": {
         "continuousHeight": 300,
         "continuousWidth": 400
        }
       },
       "data": {
        "name": "data-d7c9f793930d4b8fad0bb558b3996aa2"
       },
       "datasets": {
        "data-d7c9f793930d4b8fad0bb558b3996aa2": [
         {
          "count": 88610,
          "number_of_players": 4
         },
         {
          "count": 25445,
          "number_of_players": 2
         },
         {
          "count": 20793,
          "number_of_players": 3
         },
         {
          "count": 9765,
          "number_of_players": 5
         },
         {
          "count": 87,
          "number_of_players": 7
         },
         {
          "count": 45,
          "number_of_players": 6
         },
         {
          "count": 7,
          "number_of_players": 1
         }
        ]
       },
       "encoding": {
        "x": {
         "field": "number_of_players",
         "type": "ordinal"
        },
        "y": {
         "field": "count",
         "type": "quantitative"
        }
       },
       "mark": "bar"
      },
      "image/png": "[encoded data removed]",
      "text/plain": [
       "<VegaLite 4 object>\n",
       "\n",
       "If you see this message, it means the renderer has not been properly enabled\n",
       "for the frontend that you are using. For more information, see\n",
       "https://altair-viz.github.io/user_guide/troubleshooting.html\n"
      ]
     },
     "execution_count": 10,
     "metadata": {},
     "output_type": "execute_result"
    }
   ],
   "source": [
    "player_number_stats = (\n",
    "    all_games_df[\"number_of_players\"]\n",
    "    .value_counts()\n",
    "    .to_frame()\n",
    "    .reset_index()\n",
    "    .rename(columns={\"index\": \"number_of_players\", \"number_of_players\": \"count\"})\n",
    ")\n",
    "alt.Chart(player_number_stats).mark_bar().encode(x=\"number_of_players:O\", y=\"count\")"
   ]
  },
  {
   "cell_type": "markdown",
   "metadata": {},
   "source": [
    "This one's actually a bit too skewed to really see, let's see the raw data"
   ]
  },
  {
   "cell_type": "code",
   "execution_count": 11,
   "metadata": {},
   "outputs": [
    {
     "data": {
      "text/html": [
       "<div>\n",
       "<style scoped>\n",
       "    .dataframe tbody tr th:only-of-type {\n",
       "        vertical-align: middle;\n",
       "    }\n",
       "\n",
       "    .dataframe tbody tr th {\n",
       "        vertical-align: top;\n",
       "    }\n",
       "\n",
       "    .dataframe thead th {\n",
       "        text-align: right;\n",
       "    }\n",
       "</style>\n",
       "<table border=\"1\" class=\"dataframe\">\n",
       "  <thead>\n",
       "    <tr style=\"text-align: right;\">\n",
       "      <th></th>\n",
       "      <th>number_of_players</th>\n",
       "      <th>count</th>\n",
       "    </tr>\n",
       "  </thead>\n",
       "  <tbody>\n",
       "    <tr>\n",
       "      <th>0</th>\n",
       "      <td>4</td>\n",
       "      <td>88610</td>\n",
       "    </tr>\n",
       "    <tr>\n",
       "      <th>1</th>\n",
       "      <td>2</td>\n",
       "      <td>25445</td>\n",
       "    </tr>\n",
       "    <tr>\n",
       "      <th>2</th>\n",
       "      <td>3</td>\n",
       "      <td>20793</td>\n",
       "    </tr>\n",
       "    <tr>\n",
       "      <th>3</th>\n",
       "      <td>5</td>\n",
       "      <td>9765</td>\n",
       "    </tr>\n",
       "    <tr>\n",
       "      <th>4</th>\n",
       "      <td>7</td>\n",
       "      <td>87</td>\n",
       "    </tr>\n",
       "    <tr>\n",
       "      <th>5</th>\n",
       "      <td>6</td>\n",
       "      <td>45</td>\n",
       "    </tr>\n",
       "    <tr>\n",
       "      <th>6</th>\n",
       "      <td>1</td>\n",
       "      <td>7</td>\n",
       "    </tr>\n",
       "  </tbody>\n",
       "</table>\n",
       "</div>"
      ],
      "text/plain": [
       "   number_of_players  count\n",
       "0                  4  88610\n",
       "1                  2  25445\n",
       "2                  3  20793\n",
       "3                  5   9765\n",
       "4                  7     87\n",
       "5                  6     45\n",
       "6                  1      7"
      ]
     },
     "execution_count": 11,
     "metadata": {},
     "output_type": "execute_result"
    }
   ],
   "source": [
    "player_number_stats"
   ]
  },
  {
   "cell_type": "markdown",
   "metadata": {},
   "source": [
    "OK, to start I'll definitely focus on the 4 player games. But it looks like there would be enough of the 2 and 3 player games to be interesting. I almost certainly don't want the single player games, and I'll likely drop the 6 and 7, maybe even 5 player games from most or all analysis"
   ]
  },
  {
   "cell_type": "code",
   "execution_count": 12,
   "metadata": {},
   "outputs": [
    {
     "data": {
      "text/plain": [
       "126fe960806d587c78546b30f1a90853b1ada468    94693\n",
       "95a66999127893f5925a5f591d54f8bcb9a670e6    24465\n",
       "be8f6ebf549404d015547152d5f2a1906ae8dd90    17949\n",
       "fdb13a13cd48b7a3c3525f27e4628ff6905aa5b1     3638\n",
       "91645cdb135773c2a7a50e5ca9cb18af54c664c4     3252\n",
       "2afadc63f4d81e850b7c16fb21a1dcd29658c392      747\n",
       "224736500d20520f195970eb0fd4c41df040c08c        3\n",
       "735b073fd7161268bb2796c1275abda92acd8b1a        2\n",
       "30b6ded823e53670624981abdb2c5b8568a44091        1\n",
       "b109f78907d2cbd5699ced16572be46043558e41        1\n",
       "c07f36f9e050992d2daf6d44af2bc51dca719c46        1\n",
       "Name: map, dtype: int64"
      ]
     },
     "execution_count": 12,
     "metadata": {},
     "output_type": "execute_result"
    }
   ],
   "source": [
    "all_games_df[\"map\"].value_counts()"
   ]
  },
  {
   "cell_type": "markdown",
   "metadata": {},
   "source": [
    "### Expansion factions"
   ]
  },
  {
   "cell_type": "code",
   "execution_count": 13,
   "metadata": {},
   "outputs": [
    {
     "data": {
      "text/plain": [
       "False    106840\n",
       "True      37912\n",
       "Name: has_expansion_factions, dtype: int64"
      ]
     },
     "execution_count": 13,
     "metadata": {},
     "output_type": "execute_result"
    }
   ],
   "source": [
    "all_games_df['has_expansion_factions'].value_counts()"
   ]
  },
  {
   "cell_type": "markdown",
   "metadata": {},
   "source": [
    "### Dropped factions"
   ]
  },
  {
   "cell_type": "code",
   "execution_count": 14,
   "metadata": {},
   "outputs": [
    {
     "data": {
      "text/plain": [
       "False    122283\n",
       "True      22469\n",
       "Name: has_dropped_faction, dtype: int64"
      ]
     },
     "execution_count": 14,
     "metadata": {},
     "output_type": "execute_result"
    }
   ],
   "source": [
    "all_games_df['has_dropped_faction'].value_counts()"
   ]
  },
  {
   "cell_type": "markdown",
   "metadata": {},
   "source": [
    "### Scoring tile columns"
   ]
  },
  {
   "cell_type": "code",
   "execution_count": 15,
   "metadata": {},
   "outputs": [
    {
     "name": "stdout",
     "output_type": "stream",
     "text": [
      "score_turn_1 has missing values\n",
      "score_turn_2 has missing values\n",
      "score_turn_3 has missing values\n",
      "score_turn_4 has missing values\n",
      "score_turn_5 has missing values\n",
      "score_turn_6 has missing values\n"
     ]
    }
   ],
   "source": [
    "for n in range(1, 7):\n",
    "    col = f\"score_turn_{n}\"\n",
    "    if any(all_games_df[col].isna()):\n",
    "        print(f\"{col} has missing values\")"
   ]
  },
  {
   "cell_type": "markdown",
   "metadata": {},
   "source": [
    "Well that's no good. Let's see what's happening there"
   ]
  },
  {
   "cell_type": "code",
   "execution_count": 16,
   "metadata": {},
   "outputs": [
    {
     "data": {
      "text/html": [
       "<div>\n",
       "<style scoped>\n",
       "    .dataframe tbody tr th:only-of-type {\n",
       "        vertical-align: middle;\n",
       "    }\n",
       "\n",
       "    .dataframe tbody tr th {\n",
       "        vertical-align: top;\n",
       "    }\n",
       "\n",
       "    .dataframe thead th {\n",
       "        text-align: right;\n",
       "    }\n",
       "</style>\n",
       "<table border=\"1\" class=\"dataframe\">\n",
       "  <thead>\n",
       "    <tr style=\"text-align: right;\">\n",
       "      <th></th>\n",
       "      <th>date</th>\n",
       "      <th>map</th>\n",
       "      <th>number_of_players</th>\n",
       "      <th>original_map</th>\n",
       "      <th>has_expansion_factions</th>\n",
       "      <th>has_dropped_faction</th>\n",
       "      <th>file</th>\n",
       "      <th>score_turn_1</th>\n",
       "      <th>score_turn_2</th>\n",
       "      <th>score_turn_3</th>\n",
       "      <th>...</th>\n",
       "      <th>player_5_vp</th>\n",
       "      <th>player_6_vp</th>\n",
       "      <th>player_7_vp</th>\n",
       "      <th>player_1_vp_margin</th>\n",
       "      <th>player_2_vp_margin</th>\n",
       "      <th>player_3_vp_margin</th>\n",
       "      <th>player_4_vp_margin</th>\n",
       "      <th>player_5_vp_margin</th>\n",
       "      <th>player_6_vp_margin</th>\n",
       "      <th>player_7_vp_margin</th>\n",
       "    </tr>\n",
       "  </thead>\n",
       "  <tbody>\n",
       "    <tr>\n",
       "      <th>wayne</th>\n",
       "      <td>2015-09-27 12:25:00</td>\n",
       "      <td>95a66999127893f5925a5f591d54f8bcb9a670e6</td>\n",
       "      <td>4</td>\n",
       "      <td>False</td>\n",
       "      <td>False</td>\n",
       "      <td>True</td>\n",
       "      <td>2015-09.json</td>\n",
       "      <td>NaN</td>\n",
       "      <td>NaN</td>\n",
       "      <td>NaN</td>\n",
       "      <td>...</td>\n",
       "      <td>NaN</td>\n",
       "      <td>NaN</td>\n",
       "      <td>NaN</td>\n",
       "      <td>0</td>\n",
       "      <td>0.0</td>\n",
       "      <td>3.0</td>\n",
       "      <td>18.0</td>\n",
       "      <td>NaN</td>\n",
       "      <td>NaN</td>\n",
       "      <td>NaN</td>\n",
       "    </tr>\n",
       "    <tr>\n",
       "      <th>20170721firstgame</th>\n",
       "      <td>2017-08-30 11:25:01</td>\n",
       "      <td>126fe960806d587c78546b30f1a90853b1ada468</td>\n",
       "      <td>3</td>\n",
       "      <td>True</td>\n",
       "      <td>False</td>\n",
       "      <td>True</td>\n",
       "      <td>2017-08.json</td>\n",
       "      <td>NaN</td>\n",
       "      <td>NaN</td>\n",
       "      <td>NaN</td>\n",
       "      <td>...</td>\n",
       "      <td>NaN</td>\n",
       "      <td>NaN</td>\n",
       "      <td>NaN</td>\n",
       "      <td>0</td>\n",
       "      <td>9.0</td>\n",
       "      <td>2.0</td>\n",
       "      <td>NaN</td>\n",
       "      <td>NaN</td>\n",
       "      <td>NaN</td>\n",
       "      <td>NaN</td>\n",
       "    </tr>\n",
       "  </tbody>\n",
       "</table>\n",
       "<p>2 rows × 51 columns</p>\n",
       "</div>"
      ],
      "text/plain": [
       "                                 date  \\\n",
       "wayne             2015-09-27 12:25:00   \n",
       "20170721firstgame 2017-08-30 11:25:01   \n",
       "\n",
       "                                                        map  \\\n",
       "wayne              95a66999127893f5925a5f591d54f8bcb9a670e6   \n",
       "20170721firstgame  126fe960806d587c78546b30f1a90853b1ada468   \n",
       "\n",
       "                   number_of_players  original_map  has_expansion_factions  \\\n",
       "wayne                              4         False                   False   \n",
       "20170721firstgame                  3          True                   False   \n",
       "\n",
       "                   has_dropped_faction          file score_turn_1  \\\n",
       "wayne                             True  2015-09.json          NaN   \n",
       "20170721firstgame                 True  2017-08.json          NaN   \n",
       "\n",
       "                  score_turn_2 score_turn_3  ... player_5_vp player_6_vp  \\\n",
       "wayne                      NaN          NaN  ...         NaN         NaN   \n",
       "20170721firstgame          NaN          NaN  ...         NaN         NaN   \n",
       "\n",
       "                  player_7_vp  player_1_vp_margin  player_2_vp_margin  \\\n",
       "wayne                     NaN                   0                 0.0   \n",
       "20170721firstgame         NaN                   0                 9.0   \n",
       "\n",
       "                   player_3_vp_margin  player_4_vp_margin  player_5_vp_margin  \\\n",
       "wayne                             3.0                18.0                 NaN   \n",
       "20170721firstgame                 2.0                 NaN                 NaN   \n",
       "\n",
       "                   player_6_vp_margin  player_7_vp_margin  \n",
       "wayne                             NaN                 NaN  \n",
       "20170721firstgame                 NaN                 NaN  \n",
       "\n",
       "[2 rows x 51 columns]"
      ]
     },
     "execution_count": 16,
     "metadata": {},
     "output_type": "execute_result"
    }
   ],
   "source": [
    "mask = all_games_df[\"score_turn_1\"].isna()\n",
    "all_games_df.loc[mask]"
   ]
  },
  {
   "cell_type": "code",
   "execution_count": 17,
   "metadata": {},
   "outputs": [],
   "source": [
    "def bunk_game_finder(game_name, json_name):\n",
    "    \"\"\"Get the full JSON representation of a weird game\n",
    "    \n",
    "    Parameters\n",
    "    ----------\n",
    "    game_name: str\n",
    "        the name of the game (index in the DataFrame)\n",
    "    json_name: str\n",
    "        the name of the source json file (\"file\" column in DataFrame)\n",
    "        \n",
    "    Returns\n",
    "    -------\n",
    "    bunk_game: terra_mystica_models.data.make_dataset.TerraMysticaGame\n",
    "        The weird game we're trying to find\n",
    "    \"\"\"\n",
    "    json_dir = Path(\".\").resolve().parent / \"data\" / \"raw\"\n",
    "    bad_json = json_dir / json_name\n",
    "    with open(bad_json) as f:\n",
    "        bad_json_data = json.load(f)\n",
    "    for game in bad_json_data:\n",
    "        if game[\"game\"] == game_name:\n",
    "            return TerraMysticaGame(game)"
   ]
  },
  {
   "cell_type": "code",
   "execution_count": 18,
   "metadata": {},
   "outputs": [],
   "source": [
    "bg = bunk_game_finder(\"wayne\", \"2015-09.json\")"
   ]
  },
  {
   "cell_type": "code",
   "execution_count": 19,
   "metadata": {},
   "outputs": [
    {
     "data": {
      "text/plain": [
       "{'faction-count': {'round': {'all': 4, '0': 4}},\n",
       " 'drop-faction': {'round': {'all': 4, '1': 3, '2': 1}},\n",
       " '': {'round': {'6': 1, 'all': 6, '1': 1, '5': 1, '3': 1, '2': 1, '4': 1}}}"
      ]
     },
     "execution_count": 19,
     "metadata": {},
     "output_type": "execute_result"
    }
   ],
   "source": [
    "bg._raw_game[\"events\"][\"global\"]"
   ]
  },
  {
   "cell_type": "markdown",
   "metadata": {},
   "source": [
    "I think this game just got cancelled before it even started? Let's try the next one"
   ]
  },
  {
   "cell_type": "code",
   "execution_count": 20,
   "metadata": {},
   "outputs": [],
   "source": [
    "bg = bunk_game_finder(\"20170721firstgame\", \"2017-08.json\")"
   ]
  },
  {
   "cell_type": "code",
   "execution_count": 21,
   "metadata": {},
   "outputs": [
    {
     "data": {
      "text/plain": [
       "{'faction-count': {'round': {'all': 3, '0': 3}},\n",
       " 'drop-faction': {'round': {'all': 3, '1': 2, '2': 1}},\n",
       " '': {'round': {'6': 1, 'all': 6, '1': 1, '5': 1, '2': 1, '3': 1, '4': 1}}}"
      ]
     },
     "execution_count": 21,
     "metadata": {},
     "output_type": "execute_result"
    }
   ],
   "source": [
    "bg._raw_game[\"events\"][\"global\"]"
   ]
  },
  {
   "cell_type": "markdown",
   "metadata": {},
   "source": [
    "Looks about the same"
   ]
  },
  {
   "cell_type": "code",
   "execution_count": 22,
   "metadata": {},
   "outputs": [
    {
     "data": {
      "text/html": [
       "<div>\n",
       "<style scoped>\n",
       "    .dataframe tbody tr th:only-of-type {\n",
       "        vertical-align: middle;\n",
       "    }\n",
       "\n",
       "    .dataframe tbody tr th {\n",
       "        vertical-align: top;\n",
       "    }\n",
       "\n",
       "    .dataframe thead th {\n",
       "        text-align: right;\n",
       "    }\n",
       "</style>\n",
       "<table border=\"1\" class=\"dataframe\">\n",
       "  <thead>\n",
       "    <tr style=\"text-align: right;\">\n",
       "      <th></th>\n",
       "      <th>score_turn_1</th>\n",
       "      <th>score_turn_2</th>\n",
       "      <th>score_turn_3</th>\n",
       "      <th>score_turn_4</th>\n",
       "      <th>score_turn_5</th>\n",
       "      <th>score_turn_6</th>\n",
       "    </tr>\n",
       "  </thead>\n",
       "  <tbody>\n",
       "    <tr>\n",
       "      <th>wayne</th>\n",
       "      <td>NaN</td>\n",
       "      <td>NaN</td>\n",
       "      <td>NaN</td>\n",
       "      <td>NaN</td>\n",
       "      <td>NaN</td>\n",
       "      <td>NaN</td>\n",
       "    </tr>\n",
       "    <tr>\n",
       "      <th>20170721firstgame</th>\n",
       "      <td>NaN</td>\n",
       "      <td>NaN</td>\n",
       "      <td>NaN</td>\n",
       "      <td>NaN</td>\n",
       "      <td>NaN</td>\n",
       "      <td>NaN</td>\n",
       "    </tr>\n",
       "  </tbody>\n",
       "</table>\n",
       "</div>"
      ],
      "text/plain": [
       "                  score_turn_1 score_turn_2 score_turn_3 score_turn_4  \\\n",
       "wayne                      NaN          NaN          NaN          NaN   \n",
       "20170721firstgame          NaN          NaN          NaN          NaN   \n",
       "\n",
       "                  score_turn_5 score_turn_6  \n",
       "wayne                      NaN          NaN  \n",
       "20170721firstgame          NaN          NaN  "
      ]
     },
     "execution_count": 22,
     "metadata": {},
     "output_type": "execute_result"
    }
   ],
   "source": [
    "mask = all_games_df[\"score_turn_1\"].isna()\n",
    "all_games_df.loc[mask, [col for col in all_games_df.columns if col.startswith(\"score_turn\")]]"
   ]
  },
  {
   "cell_type": "markdown",
   "metadata": {},
   "source": [
    "OK, so it's missing for all of them, that makes sense in this context. Let's see how many are missing turn 6"
   ]
  },
  {
   "cell_type": "code",
   "execution_count": 23,
   "metadata": {},
   "outputs": [
    {
     "data": {
      "text/html": [
       "<div>\n",
       "<style scoped>\n",
       "    .dataframe tbody tr th:only-of-type {\n",
       "        vertical-align: middle;\n",
       "    }\n",
       "\n",
       "    .dataframe tbody tr th {\n",
       "        vertical-align: top;\n",
       "    }\n",
       "\n",
       "    .dataframe thead th {\n",
       "        text-align: right;\n",
       "    }\n",
       "</style>\n",
       "<table border=\"1\" class=\"dataframe\">\n",
       "  <thead>\n",
       "    <tr style=\"text-align: right;\">\n",
       "      <th></th>\n",
       "      <th>date</th>\n",
       "      <th>map</th>\n",
       "      <th>number_of_players</th>\n",
       "      <th>original_map</th>\n",
       "      <th>has_expansion_factions</th>\n",
       "      <th>has_dropped_faction</th>\n",
       "      <th>file</th>\n",
       "      <th>score_turn_1</th>\n",
       "      <th>score_turn_2</th>\n",
       "      <th>score_turn_3</th>\n",
       "      <th>...</th>\n",
       "      <th>player_5_vp</th>\n",
       "      <th>player_6_vp</th>\n",
       "      <th>player_7_vp</th>\n",
       "      <th>player_1_vp_margin</th>\n",
       "      <th>player_2_vp_margin</th>\n",
       "      <th>player_3_vp_margin</th>\n",
       "      <th>player_4_vp_margin</th>\n",
       "      <th>player_5_vp_margin</th>\n",
       "      <th>player_6_vp_margin</th>\n",
       "      <th>player_7_vp_margin</th>\n",
       "    </tr>\n",
       "  </thead>\n",
       "  <tbody>\n",
       "    <tr>\n",
       "      <th>wayne</th>\n",
       "      <td>2015-09-27 12:25:00</td>\n",
       "      <td>95a66999127893f5925a5f591d54f8bcb9a670e6</td>\n",
       "      <td>4</td>\n",
       "      <td>False</td>\n",
       "      <td>False</td>\n",
       "      <td>True</td>\n",
       "      <td>2015-09.json</td>\n",
       "      <td>NaN</td>\n",
       "      <td>NaN</td>\n",
       "      <td>NaN</td>\n",
       "      <td>...</td>\n",
       "      <td>NaN</td>\n",
       "      <td>NaN</td>\n",
       "      <td>NaN</td>\n",
       "      <td>0</td>\n",
       "      <td>0.0</td>\n",
       "      <td>3.0</td>\n",
       "      <td>18.0</td>\n",
       "      <td>NaN</td>\n",
       "      <td>NaN</td>\n",
       "      <td>NaN</td>\n",
       "    </tr>\n",
       "    <tr>\n",
       "      <th>20170721firstgame</th>\n",
       "      <td>2017-08-30 11:25:01</td>\n",
       "      <td>126fe960806d587c78546b30f1a90853b1ada468</td>\n",
       "      <td>3</td>\n",
       "      <td>True</td>\n",
       "      <td>False</td>\n",
       "      <td>True</td>\n",
       "      <td>2017-08.json</td>\n",
       "      <td>NaN</td>\n",
       "      <td>NaN</td>\n",
       "      <td>NaN</td>\n",
       "      <td>...</td>\n",
       "      <td>NaN</td>\n",
       "      <td>NaN</td>\n",
       "      <td>NaN</td>\n",
       "      <td>0</td>\n",
       "      <td>9.0</td>\n",
       "      <td>2.0</td>\n",
       "      <td>NaN</td>\n",
       "      <td>NaN</td>\n",
       "      <td>NaN</td>\n",
       "      <td>NaN</td>\n",
       "    </tr>\n",
       "  </tbody>\n",
       "</table>\n",
       "<p>2 rows × 51 columns</p>\n",
       "</div>"
      ],
      "text/plain": [
       "                                 date  \\\n",
       "wayne             2015-09-27 12:25:00   \n",
       "20170721firstgame 2017-08-30 11:25:01   \n",
       "\n",
       "                                                        map  \\\n",
       "wayne              95a66999127893f5925a5f591d54f8bcb9a670e6   \n",
       "20170721firstgame  126fe960806d587c78546b30f1a90853b1ada468   \n",
       "\n",
       "                   number_of_players  original_map  has_expansion_factions  \\\n",
       "wayne                              4         False                   False   \n",
       "20170721firstgame                  3          True                   False   \n",
       "\n",
       "                   has_dropped_faction          file score_turn_1  \\\n",
       "wayne                             True  2015-09.json          NaN   \n",
       "20170721firstgame                 True  2017-08.json          NaN   \n",
       "\n",
       "                  score_turn_2 score_turn_3  ... player_5_vp player_6_vp  \\\n",
       "wayne                      NaN          NaN  ...         NaN         NaN   \n",
       "20170721firstgame          NaN          NaN  ...         NaN         NaN   \n",
       "\n",
       "                  player_7_vp  player_1_vp_margin  player_2_vp_margin  \\\n",
       "wayne                     NaN                   0                 0.0   \n",
       "20170721firstgame         NaN                   0                 9.0   \n",
       "\n",
       "                   player_3_vp_margin  player_4_vp_margin  player_5_vp_margin  \\\n",
       "wayne                             3.0                18.0                 NaN   \n",
       "20170721firstgame                 2.0                 NaN                 NaN   \n",
       "\n",
       "                   player_6_vp_margin  player_7_vp_margin  \n",
       "wayne                             NaN                 NaN  \n",
       "20170721firstgame                 NaN                 NaN  \n",
       "\n",
       "[2 rows x 51 columns]"
      ]
     },
     "execution_count": 23,
     "metadata": {},
     "output_type": "execute_result"
    }
   ],
   "source": [
    "mask = all_games_df[\"score_turn_6\"].isna()\n",
    "all_games_df.loc[mask]"
   ]
  },
  {
   "cell_type": "markdown",
   "metadata": {},
   "source": [
    "Just the same two games"
   ]
  },
  {
   "cell_type": "markdown",
   "metadata": {},
   "source": [
    "Now I have a function to clean that up, let's test it out"
   ]
  },
  {
   "cell_type": "code",
   "execution_count": 24,
   "metadata": {},
   "outputs": [],
   "source": [
    "all_games_df = parse_interim.interim_full_pipe()"
   ]
  },
  {
   "cell_type": "code",
   "execution_count": 25,
   "metadata": {},
   "outputs": [
    {
     "data": {
      "text/html": [
       "<div>\n",
       "<style scoped>\n",
       "    .dataframe tbody tr th:only-of-type {\n",
       "        vertical-align: middle;\n",
       "    }\n",
       "\n",
       "    .dataframe tbody tr th {\n",
       "        vertical-align: top;\n",
       "    }\n",
       "\n",
       "    .dataframe thead th {\n",
       "        text-align: right;\n",
       "    }\n",
       "</style>\n",
       "<table border=\"1\" class=\"dataframe\">\n",
       "  <thead>\n",
       "    <tr style=\"text-align: right;\">\n",
       "      <th></th>\n",
       "      <th>date</th>\n",
       "      <th>map</th>\n",
       "      <th>number_of_players</th>\n",
       "      <th>original_map</th>\n",
       "      <th>has_expansion_factions</th>\n",
       "      <th>has_dropped_faction</th>\n",
       "      <th>file</th>\n",
       "      <th>score_turn_1</th>\n",
       "      <th>score_turn_2</th>\n",
       "      <th>score_turn_3</th>\n",
       "      <th>...</th>\n",
       "      <th>player_5_vp</th>\n",
       "      <th>player_6_vp</th>\n",
       "      <th>player_7_vp</th>\n",
       "      <th>player_1_vp_margin</th>\n",
       "      <th>player_2_vp_margin</th>\n",
       "      <th>player_3_vp_margin</th>\n",
       "      <th>player_4_vp_margin</th>\n",
       "      <th>player_5_vp_margin</th>\n",
       "      <th>player_6_vp_margin</th>\n",
       "      <th>player_7_vp_margin</th>\n",
       "    </tr>\n",
       "  </thead>\n",
       "  <tbody>\n",
       "  </tbody>\n",
       "</table>\n",
       "<p>0 rows × 51 columns</p>\n",
       "</div>"
      ],
      "text/plain": [
       "Empty DataFrame\n",
       "Columns: [date, map, number_of_players, original_map, has_expansion_factions, has_dropped_faction, file, score_turn_1, score_turn_2, score_turn_3, score_turn_4, score_turn_5, score_turn_6, BON1, BON2, BON3, BON4, BON5, BON6, BON7, BON8, BON9, BON10, player_1_faction, player_2_faction, player_3_faction, player_4_faction, player_5_faction, player_6_faction, player_7_faction, player_1_user, player_2_user, player_3_user, player_4_user, player_5_user, player_6_user, player_7_user, player_1_vp, player_2_vp, player_3_vp, player_4_vp, player_5_vp, player_6_vp, player_7_vp, player_1_vp_margin, player_2_vp_margin, player_3_vp_margin, player_4_vp_margin, player_5_vp_margin, player_6_vp_margin, player_7_vp_margin]\n",
       "Index: []\n",
       "\n",
       "[0 rows x 51 columns]"
      ]
     },
     "execution_count": 25,
     "metadata": {},
     "output_type": "execute_result"
    }
   ],
   "source": [
    "mask = all_games_df[\"score_turn_6\"].isna()\n",
    "all_games_df.loc[mask]"
   ]
  },
  {
   "cell_type": "markdown",
   "metadata": {},
   "source": [
    "Beauty"
   ]
  },
  {
   "cell_type": "markdown",
   "metadata": {},
   "source": [
    "### Bonus Tiles\n",
    "\n",
    "I should have already taken care of the NA values, let's check the distribution of these"
   ]
  },
  {
   "cell_type": "code",
   "execution_count": 26,
   "metadata": {},
   "outputs": [],
   "source": [
    "bonus_cols = sorted([col for col in all_games_df.columns if col.startswith(\"BON\")])\n",
    "bonus_cols.pop(1)\n",
    "bonus_cols.append(\"BON10\")"
   ]
  },
  {
   "cell_type": "code",
   "execution_count": 27,
   "metadata": {},
   "outputs": [],
   "source": [
    "assert not any(all_games_df[bonus_cols].isna().any(axis=\"columns\"))"
   ]
  },
  {
   "cell_type": "code",
   "execution_count": 28,
   "metadata": {},
   "outputs": [
    {
     "data": {
      "application/vnd.vegalite.v4+json": {
       "$schema": "https://vega.github.io/schema/vega-lite/v4.0.2.json",
       "config": {
        "view": {
         "continuousHeight": 300,
         "continuousWidth": 400
        }
       },
       "data": {
        "name": "data-c536a83fed4eb830130fdc004ce46d86"
       },
       "datasets": {
        "data-c536a83fed4eb830130fdc004ce46d86": [
         {
          "bonus": "BON1",
          "count": 96939
         },
         {
          "bonus": "BON2",
          "count": 96736
         },
         {
          "bonus": "BON3",
          "count": 96713
         },
         {
          "bonus": "BON4",
          "count": 96124
         },
         {
          "bonus": "BON5",
          "count": 96796
         },
         {
          "bonus": "BON6",
          "count": 96375
         },
         {
          "bonus": "BON7",
          "count": 95898
         },
         {
          "bonus": "BON8",
          "count": 96585
         },
         {
          "bonus": "BON9",
          "count": 96450
         },
         {
          "bonus": "BON10",
          "count": 77879
         }
        ]
       },
       "encoding": {
        "x": {
         "field": "bonus",
         "type": "nominal"
        },
        "y": {
         "field": "count",
         "type": "quantitative"
        }
       },
       "mark": "bar"
      },
      "image/png": "[encoded data removed]",
      "text/plain": [
       "<VegaLite 4 object>\n",
       "\n",
       "If you see this message, it means the renderer has not been properly enabled\n",
       "for the frontend that you are using. For more information, see\n",
       "https://altair-viz.github.io/user_guide/troubleshooting.html\n"
      ]
     },
     "execution_count": 28,
     "metadata": {},
     "output_type": "execute_result"
    }
   ],
   "source": [
    "bonus_cols = sorted([col for col in all_games_df.columns if col.startswith(\"BON\")])\n",
    "bonus_cols.pop(1)\n",
    "bonus_cols.append(\"BON10\")\n",
    "bonus_cols_stats = (\n",
    "    all_games_df[bonus_cols]\n",
    "    .sum()\n",
    "    .to_frame()\n",
    "    .reset_index()\n",
    "    .rename(columns={\"index\": \"bonus\", 0: \"count\"})\n",
    ")\n",
    "alt.Chart(bonus_cols_stats).mark_bar().encode(x=\"bonus\", y=\"count\")"
   ]
  },
  {
   "cell_type": "markdown",
   "metadata": {},
   "source": [
    "Nice and uniform, except for Bonus10 which I think maybe got added later? Even that one though there's still plenty."
   ]
  },
  {
   "cell_type": "markdown",
   "metadata": {},
   "source": [
    "### Factions\n",
    "This one might take a bit of transformation to get a proper feel for"
   ]
  },
  {
   "cell_type": "code",
   "execution_count": 29,
   "metadata": {},
   "outputs": [
    {
     "data": {
      "text/html": [
       "<div>\n",
       "<style scoped>\n",
       "    .dataframe tbody tr th:only-of-type {\n",
       "        vertical-align: middle;\n",
       "    }\n",
       "\n",
       "    .dataframe tbody tr th {\n",
       "        vertical-align: top;\n",
       "    }\n",
       "\n",
       "    .dataframe thead th {\n",
       "        text-align: right;\n",
       "    }\n",
       "</style>\n",
       "<table border=\"1\" class=\"dataframe\">\n",
       "  <thead>\n",
       "    <tr style=\"text-align: right;\">\n",
       "      <th></th>\n",
       "      <th>faction</th>\n",
       "      <th>count</th>\n",
       "    </tr>\n",
       "  </thead>\n",
       "  <tbody>\n",
       "    <tr>\n",
       "      <th>0</th>\n",
       "      <td>shapeshifters</td>\n",
       "      <td>4428</td>\n",
       "    </tr>\n",
       "    <tr>\n",
       "      <th>1</th>\n",
       "      <td>acolytes</td>\n",
       "      <td>5901</td>\n",
       "    </tr>\n",
       "    <tr>\n",
       "      <th>2</th>\n",
       "      <td>riverwalkers</td>\n",
       "      <td>9647</td>\n",
       "    </tr>\n",
       "    <tr>\n",
       "      <th>3</th>\n",
       "      <td>dragonlords</td>\n",
       "      <td>10037</td>\n",
       "    </tr>\n",
       "    <tr>\n",
       "      <th>4</th>\n",
       "      <td>icemaidens</td>\n",
       "      <td>10697</td>\n",
       "    </tr>\n",
       "    <tr>\n",
       "      <th>5</th>\n",
       "      <td>fakirs</td>\n",
       "      <td>11216</td>\n",
       "    </tr>\n",
       "    <tr>\n",
       "      <th>6</th>\n",
       "      <td>yetis</td>\n",
       "      <td>13233</td>\n",
       "    </tr>\n",
       "    <tr>\n",
       "      <th>7</th>\n",
       "      <td>auren</td>\n",
       "      <td>14652</td>\n",
       "    </tr>\n",
       "    <tr>\n",
       "      <th>8</th>\n",
       "      <td>giants</td>\n",
       "      <td>18960</td>\n",
       "    </tr>\n",
       "    <tr>\n",
       "      <th>9</th>\n",
       "      <td>dwarves</td>\n",
       "      <td>19596</td>\n",
       "    </tr>\n",
       "    <tr>\n",
       "      <th>10</th>\n",
       "      <td>alchemists</td>\n",
       "      <td>21294</td>\n",
       "    </tr>\n",
       "    <tr>\n",
       "      <th>11</th>\n",
       "      <td>cultists</td>\n",
       "      <td>24964</td>\n",
       "    </tr>\n",
       "    <tr>\n",
       "      <th>12</th>\n",
       "      <td>halflings</td>\n",
       "      <td>33981</td>\n",
       "    </tr>\n",
       "    <tr>\n",
       "      <th>13</th>\n",
       "      <td>swarmlings</td>\n",
       "      <td>35151</td>\n",
       "    </tr>\n",
       "    <tr>\n",
       "      <th>14</th>\n",
       "      <td>engineers</td>\n",
       "      <td>35213</td>\n",
       "    </tr>\n",
       "    <tr>\n",
       "      <th>15</th>\n",
       "      <td>witches</td>\n",
       "      <td>41076</td>\n",
       "    </tr>\n",
       "    <tr>\n",
       "      <th>16</th>\n",
       "      <td>mermaids</td>\n",
       "      <td>44150</td>\n",
       "    </tr>\n",
       "    <tr>\n",
       "      <th>17</th>\n",
       "      <td>chaosmagicians</td>\n",
       "      <td>50378</td>\n",
       "    </tr>\n",
       "    <tr>\n",
       "      <th>18</th>\n",
       "      <td>nomads</td>\n",
       "      <td>50941</td>\n",
       "    </tr>\n",
       "    <tr>\n",
       "      <th>19</th>\n",
       "      <td>darklings</td>\n",
       "      <td>61898</td>\n",
       "    </tr>\n",
       "  </tbody>\n",
       "</table>\n",
       "</div>"
      ],
      "text/plain": [
       "           faction  count\n",
       "0    shapeshifters   4428\n",
       "1         acolytes   5901\n",
       "2     riverwalkers   9647\n",
       "3      dragonlords  10037\n",
       "4       icemaidens  10697\n",
       "5           fakirs  11216\n",
       "6            yetis  13233\n",
       "7            auren  14652\n",
       "8           giants  18960\n",
       "9          dwarves  19596\n",
       "10      alchemists  21294\n",
       "11        cultists  24964\n",
       "12       halflings  33981\n",
       "13      swarmlings  35151\n",
       "14       engineers  35213\n",
       "15         witches  41076\n",
       "16        mermaids  44150\n",
       "17  chaosmagicians  50378\n",
       "18          nomads  50941\n",
       "19       darklings  61898"
      ]
     },
     "execution_count": 29,
     "metadata": {},
     "output_type": "execute_result"
    }
   ],
   "source": [
    "faction_cols = sorted(\n",
    "    [\n",
    "        col\n",
    "        for col in all_games_df.columns\n",
    "        if col.endswith(\"faction\") and not col.startswith(\"has_dropped\")\n",
    "    ]\n",
    ")\n",
    "all_factions = (\n",
    "    all_games_df\n",
    "    .melt(value_vars=faction_cols)\n",
    "    .dropna()\n",
    "    [\"value\"]\n",
    "    .value_counts()\n",
    "    .sort_values()\n",
    "    .to_frame()\n",
    "    .reset_index()\n",
    "    .rename(columns={\"index\": \"faction\", \"value\": \"count\"})\n",
    ")\n",
    "all_factions"
   ]
  },
  {
   "cell_type": "markdown",
   "metadata": {},
   "source": [
    "I feel like this should match, let's see"
   ]
  },
  {
   "cell_type": "code",
   "execution_count": 30,
   "metadata": {},
   "outputs": [
    {
     "data": {
      "text/plain": [
       "True"
      ]
     },
     "execution_count": 30,
     "metadata": {},
     "output_type": "execute_result"
    }
   ],
   "source": [
    "all_games_df[\"number_of_players\"].sum() == all_factions[\"count\"].sum()"
   ]
  },
  {
   "cell_type": "markdown",
   "metadata": {},
   "source": [
    "Great, that's good to know"
   ]
  },
  {
   "cell_type": "code",
   "execution_count": 31,
   "metadata": {},
   "outputs": [
    {
     "data": {
      "application/vnd.vegalite.v4+json": {
       "$schema": "https://vega.github.io/schema/vega-lite/v4.0.2.json",
       "config": {
        "view": {
         "continuousHeight": 300,
         "continuousWidth": 400
        }
       },
       "data": {
        "name": "data-aa9459a49f9b3a3b58079b871d671b3d"
       },
       "datasets": {
        "data-aa9459a49f9b3a3b58079b871d671b3d": [
         {
          "count": 4428,
          "faction": "shapeshifters"
         },
         {
          "count": 5901,
          "faction": "acolytes"
         },
         {
          "count": 9647,
          "faction": "riverwalkers"
         },
         {
          "count": 10037,
          "faction": "dragonlords"
         },
         {
          "count": 10697,
          "faction": "icemaidens"
         },
         {
          "count": 11216,
          "faction": "fakirs"
         },
         {
          "count": 13233,
          "faction": "yetis"
         },
         {
          "count": 14652,
          "faction": "auren"
         },
         {
          "count": 18960,
          "faction": "giants"
         },
         {
          "count": 19596,
          "faction": "dwarves"
         },
         {
          "count": 21294,
          "faction": "alchemists"
         },
         {
          "count": 24964,
          "faction": "cultists"
         },
         {
          "count": 33981,
          "faction": "halflings"
         },
         {
          "count": 35151,
          "faction": "swarmlings"
         },
         {
          "count": 35213,
          "faction": "engineers"
         },
         {
          "count": 41076,
          "faction": "witches"
         },
         {
          "count": 44150,
          "faction": "mermaids"
         },
         {
          "count": 50378,
          "faction": "chaosmagicians"
         },
         {
          "count": 50941,
          "faction": "nomads"
         },
         {
          "count": 61898,
          "faction": "darklings"
         }
        ]
       },
       "encoding": {
        "x": {
         "field": "faction",
         "type": "nominal"
        },
        "y": {
         "field": "count",
         "type": "quantitative"
        }
       },
       "mark": "bar"
      },
      "image/png": "[encoded data removed]",
      "text/plain": [
       "<VegaLite 4 object>\n",
       "\n",
       "If you see this message, it means the renderer has not been properly enabled\n",
       "for the frontend that you are using. For more information, see\n",
       "https://altair-viz.github.io/user_guide/troubleshooting.html\n"
      ]
     },
     "execution_count": 31,
     "metadata": {},
     "output_type": "execute_result"
    }
   ],
   "source": [
    "alt.Chart(all_factions).mark_bar().encode(x=\"faction\", y=\"count\")"
   ]
  },
  {
   "cell_type": "markdown",
   "metadata": {},
   "source": [
    "Ok, there's actually some diffusion here. Let's subset it to just the ones without expansion factions (at least as I've tried to define that)"
   ]
  },
  {
   "cell_type": "code",
   "execution_count": 32,
   "metadata": {},
   "outputs": [
    {
     "data": {
      "text/html": [
       "<div>\n",
       "<style scoped>\n",
       "    .dataframe tbody tr th:only-of-type {\n",
       "        vertical-align: middle;\n",
       "    }\n",
       "\n",
       "    .dataframe tbody tr th {\n",
       "        vertical-align: top;\n",
       "    }\n",
       "\n",
       "    .dataframe thead th {\n",
       "        text-align: right;\n",
       "    }\n",
       "</style>\n",
       "<table border=\"1\" class=\"dataframe\">\n",
       "  <thead>\n",
       "    <tr style=\"text-align: right;\">\n",
       "      <th></th>\n",
       "      <th>faction</th>\n",
       "      <th>count</th>\n",
       "    </tr>\n",
       "  </thead>\n",
       "  <tbody>\n",
       "    <tr>\n",
       "      <th>0</th>\n",
       "      <td>fakirs</td>\n",
       "      <td>7798</td>\n",
       "    </tr>\n",
       "    <tr>\n",
       "      <th>1</th>\n",
       "      <td>auren</td>\n",
       "      <td>12038</td>\n",
       "    </tr>\n",
       "    <tr>\n",
       "      <th>2</th>\n",
       "      <td>giants</td>\n",
       "      <td>14448</td>\n",
       "    </tr>\n",
       "    <tr>\n",
       "      <th>3</th>\n",
       "      <td>dwarves</td>\n",
       "      <td>15755</td>\n",
       "    </tr>\n",
       "    <tr>\n",
       "      <th>4</th>\n",
       "      <td>alchemists</td>\n",
       "      <td>16848</td>\n",
       "    </tr>\n",
       "    <tr>\n",
       "      <th>5</th>\n",
       "      <td>cultists</td>\n",
       "      <td>20132</td>\n",
       "    </tr>\n",
       "    <tr>\n",
       "      <th>6</th>\n",
       "      <td>halflings</td>\n",
       "      <td>27943</td>\n",
       "    </tr>\n",
       "    <tr>\n",
       "      <th>7</th>\n",
       "      <td>swarmlings</td>\n",
       "      <td>29122</td>\n",
       "    </tr>\n",
       "    <tr>\n",
       "      <th>8</th>\n",
       "      <td>engineers</td>\n",
       "      <td>30008</td>\n",
       "    </tr>\n",
       "    <tr>\n",
       "      <th>9</th>\n",
       "      <td>mermaids</td>\n",
       "      <td>34048</td>\n",
       "    </tr>\n",
       "    <tr>\n",
       "      <th>10</th>\n",
       "      <td>witches</td>\n",
       "      <td>34357</td>\n",
       "    </tr>\n",
       "    <tr>\n",
       "      <th>11</th>\n",
       "      <td>nomads</td>\n",
       "      <td>41736</td>\n",
       "    </tr>\n",
       "    <tr>\n",
       "      <th>12</th>\n",
       "      <td>chaosmagicians</td>\n",
       "      <td>42328</td>\n",
       "    </tr>\n",
       "    <tr>\n",
       "      <th>13</th>\n",
       "      <td>darklings</td>\n",
       "      <td>52570</td>\n",
       "    </tr>\n",
       "  </tbody>\n",
       "</table>\n",
       "</div>"
      ],
      "text/plain": [
       "           faction  count\n",
       "0           fakirs   7798\n",
       "1            auren  12038\n",
       "2           giants  14448\n",
       "3          dwarves  15755\n",
       "4       alchemists  16848\n",
       "5         cultists  20132\n",
       "6        halflings  27943\n",
       "7       swarmlings  29122\n",
       "8        engineers  30008\n",
       "9         mermaids  34048\n",
       "10         witches  34357\n",
       "11          nomads  41736\n",
       "12  chaosmagicians  42328\n",
       "13       darklings  52570"
      ]
     },
     "execution_count": 32,
     "metadata": {},
     "output_type": "execute_result"
    }
   ],
   "source": [
    "all_factions = (\n",
    "    all_games_df\n",
    "    .loc[~all_games_df[\"has_expansion_factions\"]]\n",
    "    .melt(value_vars=faction_cols)\n",
    "    .dropna()\n",
    "    [\"value\"]\n",
    "    .value_counts()\n",
    "    .sort_values()\n",
    "    .to_frame()\n",
    "    .reset_index()\n",
    "    .rename(columns={\"index\": \"faction\", \"value\": \"count\"})\n",
    ")\n",
    "all_factions"
   ]
  },
  {
   "cell_type": "code",
   "execution_count": 33,
   "metadata": {},
   "outputs": [
    {
     "data": {
      "application/vnd.vegalite.v4+json": {
       "$schema": "https://vega.github.io/schema/vega-lite/v4.0.2.json",
       "config": {
        "view": {
         "continuousHeight": 300,
         "continuousWidth": 400
        }
       },
       "data": {
        "name": "data-c7999dca16eb5b6e2c6d81af47e599f1"
       },
       "datasets": {
        "data-c7999dca16eb5b6e2c6d81af47e599f1": [
         {
          "count": 7798,
          "faction": "fakirs"
         },
         {
          "count": 12038,
          "faction": "auren"
         },
         {
          "count": 14448,
          "faction": "giants"
         },
         {
          "count": 15755,
          "faction": "dwarves"
         },
         {
          "count": 16848,
          "faction": "alchemists"
         },
         {
          "count": 20132,
          "faction": "cultists"
         },
         {
          "count": 27943,
          "faction": "halflings"
         },
         {
          "count": 29122,
          "faction": "swarmlings"
         },
         {
          "count": 30008,
          "faction": "engineers"
         },
         {
          "count": 34048,
          "faction": "mermaids"
         },
         {
          "count": 34357,
          "faction": "witches"
         },
         {
          "count": 41736,
          "faction": "nomads"
         },
         {
          "count": 42328,
          "faction": "chaosmagicians"
         },
         {
          "count": 52570,
          "faction": "darklings"
         }
        ]
       },
       "encoding": {
        "x": {
         "field": "faction",
         "type": "nominal"
        },
        "y": {
         "field": "count",
         "type": "quantitative"
        }
       },
       "mark": "bar"
      },
      "image/png": "[encoded data removed]",
      "text/plain": [
       "<VegaLite 4 object>\n",
       "\n",
       "If you see this message, it means the renderer has not been properly enabled\n",
       "for the frontend that you are using. For more information, see\n",
       "https://altair-viz.github.io/user_guide/troubleshooting.html\n"
      ]
     },
     "execution_count": 33,
     "metadata": {},
     "output_type": "execute_result"
    }
   ],
   "source": [
    "alt.Chart(all_factions).mark_bar().encode(x=\"faction\", y=\"count\")"
   ]
  },
  {
   "cell_type": "markdown",
   "metadata": {},
   "source": [
    "Interesting, even dropping out expansions there's still some very clear favourites"
   ]
  },
  {
   "cell_type": "markdown",
   "metadata": {},
   "source": [
    "OK, that's enough for now. I'll do another round later"
   ]
  },
  {
   "cell_type": "code",
   "execution_count": null,
   "metadata": {},
   "outputs": [],
   "source": []
  }
 ],
 "metadata": {
  "kernelspec": {
   "display_name": "Python 3",
   "language": "python",
   "name": "python3"
  },
  "language_info": {
   "codemirror_mode": {
    "name": "ipython",
    "version": 3
   },
   "file_extension": ".py",
   "mimetype": "text/x-python",
   "name": "python",
   "nbconvert_exporter": "python",
   "pygments_lexer": "ipython3",
   "version": "3.7.6"
  }
 },
 "nbformat": 4,
 "nbformat_minor": 4
}
