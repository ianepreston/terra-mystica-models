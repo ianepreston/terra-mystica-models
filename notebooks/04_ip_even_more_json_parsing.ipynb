{
 "cells": [
  {
   "cell_type": "code",
   "execution_count": 1,
   "metadata": {},
   "outputs": [],
   "source": [
    "%load_ext autoreload\n",
    "%autoreload 2"
   ]
  },
  {
   "cell_type": "code",
   "execution_count": 2,
   "metadata": {},
   "outputs": [],
   "source": [
    "import json\n",
    "import re\n",
    "import pandas as pd\n",
    "from pathlib import Path\n",
    "from terra_mystica_models.data import make_dataset"
   ]
  },
  {
   "cell_type": "code",
   "execution_count": 3,
   "metadata": {},
   "outputs": [],
   "source": [
    "json_dir = Path(\".\").resolve().parent / \"data\" / \"raw\""
   ]
  },
  {
   "cell_type": "code",
   "execution_count": 4,
   "metadata": {},
   "outputs": [],
   "source": [
    "eg_json = json_dir / \"2014-01.json\"\n",
    "with open(eg_json) as f:\n",
    "    data = json.load(f)"
   ]
  },
  {
   "cell_type": "code",
   "execution_count": 5,
   "metadata": {},
   "outputs": [],
   "source": [
    "eg_game = data[10]"
   ]
  },
  {
   "cell_type": "code",
   "execution_count": 6,
   "metadata": {},
   "outputs": [],
   "source": [
    "tmg = make_dataset.TerraMysticaGame(eg_game)"
   ]
  },
  {
   "cell_type": "code",
   "execution_count": 7,
   "metadata": {},
   "outputs": [
    {
     "data": {
      "text/plain": [
       "'2p4'"
      ]
     },
     "execution_count": 7,
     "metadata": {},
     "output_type": "execute_result"
    }
   ],
   "source": [
    "tmg.game_name"
   ]
  },
  {
   "cell_type": "code",
   "execution_count": 8,
   "metadata": {},
   "outputs": [
    {
     "data": {
      "text/plain": [
       "datetime.datetime(2014, 1, 16, 22, 28, 53)"
      ]
     },
     "execution_count": 8,
     "metadata": {},
     "output_type": "execute_result"
    }
   ],
   "source": [
    "tmg.game_date"
   ]
  },
  {
   "cell_type": "code",
   "execution_count": 9,
   "metadata": {},
   "outputs": [
    {
     "data": {
      "text/plain": [
       "'126fe960806d587c78546b30f1a90853b1ada468'"
      ]
     },
     "execution_count": 9,
     "metadata": {},
     "output_type": "execute_result"
    }
   ],
   "source": [
    "tmg.base_map"
   ]
  },
  {
   "cell_type": "code",
   "execution_count": 10,
   "metadata": {},
   "outputs": [
    {
     "data": {
      "text/plain": [
       "{'witches': 'Duilen', 'mermaids': 'Lewdog'}"
      ]
     },
     "execution_count": 10,
     "metadata": {},
     "output_type": "execute_result"
    }
   ],
   "source": [
    "tmg.players"
   ]
  },
  {
   "cell_type": "code",
   "execution_count": 11,
   "metadata": {},
   "outputs": [
    {
     "data": {
      "text/plain": [
       "['witches', 'mermaids']"
      ]
     },
     "execution_count": 11,
     "metadata": {},
     "output_type": "execute_result"
    }
   ],
   "source": [
    "tmg.factions"
   ]
  },
  {
   "cell_type": "code",
   "execution_count": 12,
   "metadata": {},
   "outputs": [
    {
     "data": {
      "text/plain": [
       "{'mermaids': 1, 'witches': 2}"
      ]
     },
     "execution_count": 12,
     "metadata": {},
     "output_type": "execute_result"
    }
   ],
   "source": [
    "tmg.faction_selection_order"
   ]
  },
  {
   "cell_type": "code",
   "execution_count": 13,
   "metadata": {},
   "outputs": [
    {
     "data": {
      "text/plain": [
       "{'SCORE5': 5, 'SCORE4': 2, 'SCORE7': 6, 'SCORE3': 4, 'SCORE8': 3, 'SCORE2': 1}"
      ]
     },
     "execution_count": 13,
     "metadata": {},
     "output_type": "execute_result"
    }
   ],
   "source": [
    "tmg.scoring_tile_order"
   ]
  },
  {
   "cell_type": "code",
   "execution_count": 14,
   "metadata": {},
   "outputs": [
    {
     "data": {
      "text/plain": [
       "['BON6', 'BON4', 'BON9', 'BON3', 'BON5']"
      ]
     },
     "execution_count": 14,
     "metadata": {},
     "output_type": "execute_result"
    }
   ],
   "source": [
    "tmg.bonus_tiles"
   ]
  },
  {
   "cell_type": "code",
   "execution_count": 15,
   "metadata": {},
   "outputs": [
    {
     "data": {
      "text/plain": [
       "{'witches': 117, 'mermaids': 114}"
      ]
     },
     "execution_count": 15,
     "metadata": {},
     "output_type": "execute_result"
    }
   ],
   "source": [
    "tmg.victory_points"
   ]
  },
  {
   "cell_type": "code",
   "execution_count": 16,
   "metadata": {},
   "outputs": [
    {
     "data": {
      "text/plain": [
       "{'witches': 3, 'mermaids': 0}"
      ]
     },
     "execution_count": 16,
     "metadata": {},
     "output_type": "execute_result"
    }
   ],
   "source": [
    "tmg.victory_points_margin"
   ]
  },
  {
   "cell_type": "code",
   "execution_count": 17,
   "metadata": {},
   "outputs": [
    {
     "data": {
      "text/plain": [
       "True"
      ]
     },
     "execution_count": 17,
     "metadata": {},
     "output_type": "execute_result"
    }
   ],
   "source": [
    "tmg._check_player_count()"
   ]
  },
  {
   "cell_type": "code",
   "execution_count": 18,
   "metadata": {},
   "outputs": [
    {
     "data": {
      "text/plain": [
       "True"
      ]
     },
     "execution_count": 18,
     "metadata": {},
     "output_type": "execute_result"
    }
   ],
   "source": [
    "tmg._check_bonus_tile_count()"
   ]
  },
  {
   "cell_type": "code",
   "execution_count": 19,
   "metadata": {},
   "outputs": [
    {
     "data": {
      "text/plain": [
       "True"
      ]
     },
     "execution_count": 19,
     "metadata": {},
     "output_type": "execute_result"
    }
   ],
   "source": [
    "tmg._is_played_on_original_map()"
   ]
  },
  {
   "cell_type": "code",
   "execution_count": 20,
   "metadata": {},
   "outputs": [
    {
     "data": {
      "text/plain": [
       "False"
      ]
     },
     "execution_count": 20,
     "metadata": {},
     "output_type": "execute_result"
    }
   ],
   "source": [
    "tmg._has_nofaction_player()"
   ]
  },
  {
   "cell_type": "markdown",
   "metadata": {},
   "source": [
    "To test my nofaction validation tool I'll have to find a game that actually has them"
   ]
  },
  {
   "cell_type": "code",
   "execution_count": 21,
   "metadata": {},
   "outputs": [],
   "source": [
    "def find_nofaction_game():\n",
    "    for json_file in json_dir.glob(\"*.json\"):\n",
    "        with open(json_file) as f:\n",
    "            data = json.load(f) \n",
    "        for game in data:\n",
    "            if any(faction[\"faction\"].startswith(\"nofaction\") for faction in game[\"factions\"]):\n",
    "                return game\n",
    "nofaction_game = find_nofaction_game()"
   ]
  },
  {
   "cell_type": "code",
   "execution_count": 22,
   "metadata": {},
   "outputs": [],
   "source": [
    "tmg2 = make_dataset.TerraMysticaGame(nofaction_game)"
   ]
  },
  {
   "cell_type": "code",
   "execution_count": 23,
   "metadata": {},
   "outputs": [
    {
     "data": {
      "text/plain": [
       "['nofaction1', 'witches', 'nomads']"
      ]
     },
     "execution_count": 23,
     "metadata": {},
     "output_type": "execute_result"
    }
   ],
   "source": [
    "tmg2.factions"
   ]
  },
  {
   "cell_type": "code",
   "execution_count": 24,
   "metadata": {},
   "outputs": [
    {
     "data": {
      "text/plain": [
       "['option-strict-darkling-sh',\n",
       " 'option-email-notify',\n",
       " 'option-strict-chaosmagician-sh',\n",
       " 'option-errata-cultist-power',\n",
       " 'option-strict-leech']"
      ]
     },
     "execution_count": 24,
     "metadata": {},
     "output_type": "execute_result"
    }
   ],
   "source": [
    "tmg2.game_options"
   ]
  },
  {
   "cell_type": "code",
   "execution_count": 25,
   "metadata": {},
   "outputs": [
    {
     "data": {
      "text/plain": [
       "True"
      ]
     },
     "execution_count": 25,
     "metadata": {},
     "output_type": "execute_result"
    }
   ],
   "source": [
    "tmg2._has_nofaction_player()"
   ]
  },
  {
   "cell_type": "markdown",
   "metadata": {},
   "source": [
    "OK, next let's identify expansion games"
   ]
  },
  {
   "cell_type": "code",
   "execution_count": 26,
   "metadata": {},
   "outputs": [],
   "source": [
    "def find_expansion_game():\n",
    "    for json_file in json_dir.glob(\"*.json\"):\n",
    "        with open(json_file) as f:\n",
    "            data = json.load(f) \n",
    "        for game in data:\n",
    "            if any(faction[\"faction\"] == \"icemaidens\" for faction in game[\"factions\"]):\n",
    "                return game\n",
    "\n",
    "expansion_game = make_dataset.TerraMysticaGame(find_expansion_game())"
   ]
  },
  {
   "cell_type": "code",
   "execution_count": 27,
   "metadata": {},
   "outputs": [
    {
     "data": {
      "text/plain": [
       "['darklings', 'icemaidens', 'witches', 'nomads']"
      ]
     },
     "execution_count": 27,
     "metadata": {},
     "output_type": "execute_result"
    }
   ],
   "source": [
    "expansion_game.factions"
   ]
  },
  {
   "cell_type": "code",
   "execution_count": 28,
   "metadata": {},
   "outputs": [
    {
     "data": {
      "text/plain": [
       "['option-strict-darkling-sh',\n",
       " 'option-email-notify',\n",
       " 'option-strict-chaosmagician-sh',\n",
       " 'option-mini-expansion-1',\n",
       " 'option-errata-cultist-power',\n",
       " 'option-strict-leech']"
      ]
     },
     "execution_count": 28,
     "metadata": {},
     "output_type": "execute_result"
    }
   ],
   "source": [
    "expansion_game.game_options"
   ]
  },
  {
   "cell_type": "markdown",
   "metadata": {},
   "source": [
    "I don't see anything in options that would identify it, I'll probably just go off factions"
   ]
  },
  {
   "cell_type": "code",
   "execution_count": 29,
   "metadata": {},
   "outputs": [
    {
     "data": {
      "text/plain": [
       "False"
      ]
     },
     "execution_count": 29,
     "metadata": {},
     "output_type": "execute_result"
    }
   ],
   "source": [
    "expansion_game._is_played_on_original_map()"
   ]
  },
  {
   "cell_type": "markdown",
   "metadata": {},
   "source": [
    "That might be something but I'll keep that logic separate"
   ]
  },
  {
   "cell_type": "code",
   "execution_count": 30,
   "metadata": {},
   "outputs": [
    {
     "data": {
      "text/plain": [
       "True"
      ]
     },
     "execution_count": 30,
     "metadata": {},
     "output_type": "execute_result"
    }
   ],
   "source": [
    "expansion_game._has_expansion_factions()"
   ]
  },
  {
   "cell_type": "code",
   "execution_count": 31,
   "metadata": {},
   "outputs": [
    {
     "data": {
      "text/plain": [
       "False"
      ]
     },
     "execution_count": 31,
     "metadata": {},
     "output_type": "execute_result"
    }
   ],
   "source": [
    "tmg2._has_expansion_factions()"
   ]
  },
  {
   "cell_type": "code",
   "execution_count": 32,
   "metadata": {},
   "outputs": [
    {
     "data": {
      "text/plain": [
       "False"
      ]
     },
     "execution_count": 32,
     "metadata": {},
     "output_type": "execute_result"
    }
   ],
   "source": [
    "tmg._has_expansion_factions()"
   ]
  },
  {
   "cell_type": "markdown",
   "metadata": {},
   "source": [
    "Seems to be working"
   ]
  },
  {
   "cell_type": "markdown",
   "metadata": {},
   "source": [
    "Ok, now let's identify if there are dropped players. Once that's done I think we're ready to build a dataset"
   ]
  },
  {
   "cell_type": "code",
   "execution_count": 33,
   "metadata": {},
   "outputs": [],
   "source": [
    "def find_drop_faction_game():\n",
    "    for json_file in json_dir.glob(\"*.json\"):\n",
    "        with open(json_file) as f:\n",
    "            data = json.load(f) \n",
    "        for game in data:\n",
    "            if any(key.startswith(\"drop\") for key in game[\"events\"][\"global\"]):\n",
    "                return game\n",
    "\n",
    "drop_game = make_dataset.TerraMysticaGame(find_drop_faction_game())"
   ]
  },
  {
   "cell_type": "code",
   "execution_count": 34,
   "metadata": {},
   "outputs": [
    {
     "data": {
      "text/plain": [
       "['option-email-notify',\n",
       " 'option-shipping-bonus',\n",
       " 'SCORE1',\n",
       " 'option-mini-expansion-1',\n",
       " 'option-errata-cultist-power',\n",
       " 'drop-faction',\n",
       " 'faction-count',\n",
       " 'SCORE5',\n",
       " 'SCORE4',\n",
       " 'option-strict-leech',\n",
       " 'SCORE8',\n",
       " 'SCORE3',\n",
       " 'SCORE2']"
      ]
     },
     "execution_count": 34,
     "metadata": {},
     "output_type": "execute_result"
    }
   ],
   "source": [
    "list(drop_game._raw_game[\"events\"][\"global\"].keys())"
   ]
  },
  {
   "cell_type": "code",
   "execution_count": 35,
   "metadata": {},
   "outputs": [
    {
     "data": {
      "text/plain": [
       "{'round': {'all': 1, '5': 1}}"
      ]
     },
     "execution_count": 35,
     "metadata": {},
     "output_type": "execute_result"
    }
   ],
   "source": [
    "drop_game._raw_game[\"events\"][\"global\"][\"drop-faction\"]"
   ]
  },
  {
   "cell_type": "code",
   "execution_count": 36,
   "metadata": {},
   "outputs": [
    {
     "data": {
      "text/plain": [
       "True"
      ]
     },
     "execution_count": 36,
     "metadata": {},
     "output_type": "execute_result"
    }
   ],
   "source": [
    "drop_game._has_dropped_faction()"
   ]
  },
  {
   "cell_type": "code",
   "execution_count": 37,
   "metadata": {},
   "outputs": [
    {
     "data": {
      "text/plain": [
       "False"
      ]
     },
     "execution_count": 37,
     "metadata": {},
     "output_type": "execute_result"
    }
   ],
   "source": [
    "tmg._has_dropped_faction()"
   ]
  },
  {
   "cell_type": "markdown",
   "metadata": {},
   "source": [
    "Cool, coolcoolcool. Let's wrap all these tests into a nice dataset validator"
   ]
  },
  {
   "cell_type": "code",
   "execution_count": 38,
   "metadata": {},
   "outputs": [
    {
     "data": {
      "text/plain": [
       "True"
      ]
     },
     "execution_count": 38,
     "metadata": {},
     "output_type": "execute_result"
    }
   ],
   "source": [
    "tmg.is_valid_game"
   ]
  },
  {
   "cell_type": "code",
   "execution_count": 39,
   "metadata": {},
   "outputs": [
    {
     "data": {
      "text/plain": [
       "False"
      ]
     },
     "execution_count": 39,
     "metadata": {},
     "output_type": "execute_result"
    }
   ],
   "source": [
    "tmg2.is_valid_game"
   ]
  },
  {
   "cell_type": "code",
   "execution_count": 40,
   "metadata": {},
   "outputs": [
    {
     "data": {
      "text/plain": [
       "False"
      ]
     },
     "execution_count": 40,
     "metadata": {},
     "output_type": "execute_result"
    }
   ],
   "source": [
    "drop_game.is_valid_game"
   ]
  },
  {
   "cell_type": "code",
   "execution_count": 41,
   "metadata": {},
   "outputs": [
    {
     "data": {
      "text/plain": [
       "False"
      ]
     },
     "execution_count": 41,
     "metadata": {},
     "output_type": "execute_result"
    }
   ],
   "source": [
    "expansion_game.is_valid_game"
   ]
  },
  {
   "cell_type": "markdown",
   "metadata": {},
   "source": [
    "# DataFrame Parsing"
   ]
  },
  {
   "cell_type": "code",
   "execution_count": 42,
   "metadata": {},
   "outputs": [],
   "source": [
    "game_df = pd.DataFrame()\n",
    "player_df = pd.DataFrame()"
   ]
  },
  {
   "cell_type": "code",
   "execution_count": 43,
   "metadata": {},
   "outputs": [
    {
     "data": {
      "text/plain": [
       "True"
      ]
     },
     "execution_count": 43,
     "metadata": {},
     "output_type": "execute_result"
    }
   ],
   "source": [
    "make_dataset._game_to_dfs(tmg, game_df, player_df)"
   ]
  },
  {
   "cell_type": "code",
   "execution_count": 44,
   "metadata": {},
   "outputs": [
    {
     "data": {
      "text/html": [
       "<div>\n",
       "<style scoped>\n",
       "    .dataframe tbody tr th:only-of-type {\n",
       "        vertical-align: middle;\n",
       "    }\n",
       "\n",
       "    .dataframe tbody tr th {\n",
       "        vertical-align: top;\n",
       "    }\n",
       "\n",
       "    .dataframe thead th {\n",
       "        text-align: right;\n",
       "    }\n",
       "</style>\n",
       "<table border=\"1\" class=\"dataframe\">\n",
       "  <thead>\n",
       "    <tr style=\"text-align: right;\">\n",
       "      <th></th>\n",
       "      <th>game_date</th>\n",
       "      <th>map</th>\n",
       "      <th>option-email-notify</th>\n",
       "      <th>option-shipping-bonus</th>\n",
       "      <th>option-errata-cultist-power</th>\n",
       "      <th>option-mini-expansion-1</th>\n",
       "      <th>option-strict-leech</th>\n",
       "      <th>faction1</th>\n",
       "      <th>faction2</th>\n",
       "      <th>tile_round_5</th>\n",
       "      <th>...</th>\n",
       "      <th>tile_round_1</th>\n",
       "      <th>BON6</th>\n",
       "      <th>BON4</th>\n",
       "      <th>BON9</th>\n",
       "      <th>BON3</th>\n",
       "      <th>BON5</th>\n",
       "      <th>witches_vp</th>\n",
       "      <th>mermaids_vp</th>\n",
       "      <th>witches_vp_margin</th>\n",
       "      <th>mermaids_vp_margin</th>\n",
       "    </tr>\n",
       "  </thead>\n",
       "  <tbody>\n",
       "    <tr>\n",
       "      <th>2p4</th>\n",
       "      <td>2014-01-16 22:28:53</td>\n",
       "      <td>126fe960806d587c78546b30f1a90853b1ada468</td>\n",
       "      <td>True</td>\n",
       "      <td>True</td>\n",
       "      <td>True</td>\n",
       "      <td>True</td>\n",
       "      <td>True</td>\n",
       "      <td>mermaids</td>\n",
       "      <td>witches</td>\n",
       "      <td>SCORE5</td>\n",
       "      <td>...</td>\n",
       "      <td>SCORE2</td>\n",
       "      <td>True</td>\n",
       "      <td>True</td>\n",
       "      <td>True</td>\n",
       "      <td>True</td>\n",
       "      <td>True</td>\n",
       "      <td>117.0</td>\n",
       "      <td>114.0</td>\n",
       "      <td>3.0</td>\n",
       "      <td>0.0</td>\n",
       "    </tr>\n",
       "  </tbody>\n",
       "</table>\n",
       "<p>1 rows × 24 columns</p>\n",
       "</div>"
      ],
      "text/plain": [
       "              game_date                                       map  \\\n",
       "2p4 2014-01-16 22:28:53  126fe960806d587c78546b30f1a90853b1ada468   \n",
       "\n",
       "    option-email-notify option-shipping-bonus option-errata-cultist-power  \\\n",
       "2p4                True                  True                        True   \n",
       "\n",
       "    option-mini-expansion-1 option-strict-leech  faction1 faction2  \\\n",
       "2p4                    True                True  mermaids  witches   \n",
       "\n",
       "    tile_round_5  ... tile_round_1  BON6  BON4  BON9  BON3  BON5 witches_vp  \\\n",
       "2p4       SCORE5  ...       SCORE2  True  True  True  True  True      117.0   \n",
       "\n",
       "    mermaids_vp witches_vp_margin mermaids_vp_margin  \n",
       "2p4       114.0               3.0                0.0  \n",
       "\n",
       "[1 rows x 24 columns]"
      ]
     },
     "execution_count": 44,
     "metadata": {},
     "output_type": "execute_result"
    }
   ],
   "source": [
    "game_df"
   ]
  },
  {
   "cell_type": "code",
   "execution_count": 45,
   "metadata": {},
   "outputs": [
    {
     "data": {
      "text/html": [
       "<div>\n",
       "<style scoped>\n",
       "    .dataframe tbody tr th:only-of-type {\n",
       "        vertical-align: middle;\n",
       "    }\n",
       "\n",
       "    .dataframe tbody tr th {\n",
       "        vertical-align: top;\n",
       "    }\n",
       "\n",
       "    .dataframe thead th {\n",
       "        text-align: right;\n",
       "    }\n",
       "</style>\n",
       "<table border=\"1\" class=\"dataframe\">\n",
       "  <thead>\n",
       "    <tr style=\"text-align: right;\">\n",
       "      <th></th>\n",
       "      <th>games</th>\n",
       "      <th>sum_vp</th>\n",
       "      <th>sum_vp_margin</th>\n",
       "    </tr>\n",
       "  </thead>\n",
       "  <tbody>\n",
       "    <tr>\n",
       "      <th>Duilen</th>\n",
       "      <td>1.0</td>\n",
       "      <td>117.0</td>\n",
       "      <td>3.0</td>\n",
       "    </tr>\n",
       "    <tr>\n",
       "      <th>Lewdog</th>\n",
       "      <td>1.0</td>\n",
       "      <td>114.0</td>\n",
       "      <td>0.0</td>\n",
       "    </tr>\n",
       "  </tbody>\n",
       "</table>\n",
       "</div>"
      ],
      "text/plain": [
       "        games  sum_vp  sum_vp_margin\n",
       "Duilen    1.0   117.0            3.0\n",
       "Lewdog    1.0   114.0            0.0"
      ]
     },
     "execution_count": 45,
     "metadata": {},
     "output_type": "execute_result"
    }
   ],
   "source": [
    "player_df"
   ]
  },
  {
   "cell_type": "code",
   "execution_count": 46,
   "metadata": {},
   "outputs": [
    {
     "data": {
      "text/plain": [
       "False"
      ]
     },
     "execution_count": 46,
     "metadata": {},
     "output_type": "execute_result"
    }
   ],
   "source": [
    "make_dataset._game_to_dfs(tmg2, game_df, player_df)"
   ]
  },
  {
   "cell_type": "code",
   "execution_count": 47,
   "metadata": {},
   "outputs": [
    {
     "data": {
      "text/html": [
       "<div>\n",
       "<style scoped>\n",
       "    .dataframe tbody tr th:only-of-type {\n",
       "        vertical-align: middle;\n",
       "    }\n",
       "\n",
       "    .dataframe tbody tr th {\n",
       "        vertical-align: top;\n",
       "    }\n",
       "\n",
       "    .dataframe thead th {\n",
       "        text-align: right;\n",
       "    }\n",
       "</style>\n",
       "<table border=\"1\" class=\"dataframe\">\n",
       "  <thead>\n",
       "    <tr style=\"text-align: right;\">\n",
       "      <th></th>\n",
       "      <th>game_date</th>\n",
       "      <th>map</th>\n",
       "      <th>option-email-notify</th>\n",
       "      <th>option-shipping-bonus</th>\n",
       "      <th>option-errata-cultist-power</th>\n",
       "      <th>option-mini-expansion-1</th>\n",
       "      <th>option-strict-leech</th>\n",
       "      <th>faction1</th>\n",
       "      <th>faction2</th>\n",
       "      <th>tile_round_5</th>\n",
       "      <th>...</th>\n",
       "      <th>tile_round_1</th>\n",
       "      <th>BON6</th>\n",
       "      <th>BON4</th>\n",
       "      <th>BON9</th>\n",
       "      <th>BON3</th>\n",
       "      <th>BON5</th>\n",
       "      <th>witches_vp</th>\n",
       "      <th>mermaids_vp</th>\n",
       "      <th>witches_vp_margin</th>\n",
       "      <th>mermaids_vp_margin</th>\n",
       "    </tr>\n",
       "  </thead>\n",
       "  <tbody>\n",
       "    <tr>\n",
       "      <th>2p4</th>\n",
       "      <td>2014-01-16 22:28:53</td>\n",
       "      <td>126fe960806d587c78546b30f1a90853b1ada468</td>\n",
       "      <td>True</td>\n",
       "      <td>True</td>\n",
       "      <td>True</td>\n",
       "      <td>True</td>\n",
       "      <td>True</td>\n",
       "      <td>mermaids</td>\n",
       "      <td>witches</td>\n",
       "      <td>SCORE5</td>\n",
       "      <td>...</td>\n",
       "      <td>SCORE2</td>\n",
       "      <td>True</td>\n",
       "      <td>True</td>\n",
       "      <td>True</td>\n",
       "      <td>True</td>\n",
       "      <td>True</td>\n",
       "      <td>117.0</td>\n",
       "      <td>114.0</td>\n",
       "      <td>3.0</td>\n",
       "      <td>0.0</td>\n",
       "    </tr>\n",
       "  </tbody>\n",
       "</table>\n",
       "<p>1 rows × 24 columns</p>\n",
       "</div>"
      ],
      "text/plain": [
       "              game_date                                       map  \\\n",
       "2p4 2014-01-16 22:28:53  126fe960806d587c78546b30f1a90853b1ada468   \n",
       "\n",
       "    option-email-notify option-shipping-bonus option-errata-cultist-power  \\\n",
       "2p4                True                  True                        True   \n",
       "\n",
       "    option-mini-expansion-1 option-strict-leech  faction1 faction2  \\\n",
       "2p4                    True                True  mermaids  witches   \n",
       "\n",
       "    tile_round_5  ... tile_round_1  BON6  BON4  BON9  BON3  BON5 witches_vp  \\\n",
       "2p4       SCORE5  ...       SCORE2  True  True  True  True  True      117.0   \n",
       "\n",
       "    mermaids_vp witches_vp_margin mermaids_vp_margin  \n",
       "2p4       114.0               3.0                0.0  \n",
       "\n",
       "[1 rows x 24 columns]"
      ]
     },
     "execution_count": 47,
     "metadata": {},
     "output_type": "execute_result"
    }
   ],
   "source": [
    "game_df"
   ]
  },
  {
   "cell_type": "markdown",
   "metadata": {},
   "source": [
    "Sweeeeeeeet"
   ]
  },
  {
   "cell_type": "markdown",
   "metadata": {},
   "source": [
    "# Let's fire it up"
   ]
  },
  {
   "cell_type": "markdown",
   "metadata": {},
   "source": [
    "Have this here for troubleshooting, can delete after parsing works"
   ]
  },
  {
   "cell_type": "code",
   "execution_count": null,
   "metadata": {},
   "outputs": [],
   "source": [
    "def find_error_game(game_name):\n",
    "    for json_file in json_dir.glob(\"*.json\"):\n",
    "        with open(json_file) as f:\n",
    "            data = json.load(f) \n",
    "        for game in data:\n",
    "            if game_name == game[\"game\"]:\n",
    "                return game\n",
    "\n",
    "error_game = make_dataset.TerraMysticaGame(find_error_game(\"10\"))"
   ]
  },
  {
   "cell_type": "code",
   "execution_count": 49,
   "metadata": {},
   "outputs": [],
   "source": [
    "game_df, player_df = make_dataset.games_to_dfs()"
   ]
  },
  {
   "cell_type": "code",
   "execution_count": 52,
   "metadata": {},
   "outputs": [
    {
     "data": {
      "text/html": [
       "<div>\n",
       "<style scoped>\n",
       "    .dataframe tbody tr th:only-of-type {\n",
       "        vertical-align: middle;\n",
       "    }\n",
       "\n",
       "    .dataframe tbody tr th {\n",
       "        vertical-align: top;\n",
       "    }\n",
       "\n",
       "    .dataframe thead th {\n",
       "        text-align: right;\n",
       "    }\n",
       "</style>\n",
       "<table border=\"1\" class=\"dataframe\">\n",
       "  <thead>\n",
       "    <tr style=\"text-align: right;\">\n",
       "      <th></th>\n",
       "      <th>game_date</th>\n",
       "      <th>map</th>\n",
       "      <th>faction1</th>\n",
       "      <th>faction2</th>\n",
       "      <th>faction3</th>\n",
       "      <th>tile_round_3</th>\n",
       "      <th>tile_round_6</th>\n",
       "      <th>tile_round_5</th>\n",
       "      <th>tile_round_1</th>\n",
       "      <th>tile_round_2</th>\n",
       "      <th>...</th>\n",
       "      <th>option-fire-and-ice-factions/variable</th>\n",
       "      <th>option-variable-turn-order</th>\n",
       "      <th>option-fire-and-ice-factions/variable_v2</th>\n",
       "      <th>option-fire-and-ice-factions/variable_v3</th>\n",
       "      <th>faction6</th>\n",
       "      <th>option-fire-and-ice-factions/variable_v4</th>\n",
       "      <th>faction7</th>\n",
       "      <th>option-temple-scoring-tile</th>\n",
       "      <th>option-fire-and-ice-factions/variable_v5</th>\n",
       "      <th>option-fire-and-ice-factions</th>\n",
       "    </tr>\n",
       "  </thead>\n",
       "  <tbody>\n",
       "    <tr>\n",
       "      <th>pbc3</th>\n",
       "      <td>2013-02-10 02:40:12</td>\n",
       "      <td>126fe960806d587c78546b30f1a90853b1ada468</td>\n",
       "      <td>dwarves</td>\n",
       "      <td>darklings</td>\n",
       "      <td>halflings</td>\n",
       "      <td>SCORE5</td>\n",
       "      <td>SCORE4</td>\n",
       "      <td>SCORE7</td>\n",
       "      <td>SCORE1</td>\n",
       "      <td>SCORE8</td>\n",
       "      <td>...</td>\n",
       "      <td>NaN</td>\n",
       "      <td>NaN</td>\n",
       "      <td>NaN</td>\n",
       "      <td>NaN</td>\n",
       "      <td>NaN</td>\n",
       "      <td>NaN</td>\n",
       "      <td>NaN</td>\n",
       "      <td>NaN</td>\n",
       "      <td>NaN</td>\n",
       "      <td>NaN</td>\n",
       "    </tr>\n",
       "    <tr>\n",
       "      <th>10</th>\n",
       "      <td>2013-03-29 18:14:03</td>\n",
       "      <td>126fe960806d587c78546b30f1a90853b1ada468</td>\n",
       "      <td>witches</td>\n",
       "      <td>chaosmagicians</td>\n",
       "      <td>swarmlings</td>\n",
       "      <td>SCORE7</td>\n",
       "      <td>SCORE4</td>\n",
       "      <td>SCORE5</td>\n",
       "      <td>SCORE8</td>\n",
       "      <td>SCORE1</td>\n",
       "      <td>...</td>\n",
       "      <td>NaN</td>\n",
       "      <td>NaN</td>\n",
       "      <td>NaN</td>\n",
       "      <td>NaN</td>\n",
       "      <td>NaN</td>\n",
       "      <td>NaN</td>\n",
       "      <td>NaN</td>\n",
       "      <td>NaN</td>\n",
       "      <td>NaN</td>\n",
       "      <td>NaN</td>\n",
       "    </tr>\n",
       "    <tr>\n",
       "      <th>21</th>\n",
       "      <td>2013-03-22 13:43:00</td>\n",
       "      <td>126fe960806d587c78546b30f1a90853b1ada468</td>\n",
       "      <td>nomads</td>\n",
       "      <td>mermaids</td>\n",
       "      <td>giants</td>\n",
       "      <td>SCORE6</td>\n",
       "      <td>SCORE7</td>\n",
       "      <td>SCORE8</td>\n",
       "      <td>SCORE1</td>\n",
       "      <td>SCORE5</td>\n",
       "      <td>...</td>\n",
       "      <td>NaN</td>\n",
       "      <td>NaN</td>\n",
       "      <td>NaN</td>\n",
       "      <td>NaN</td>\n",
       "      <td>NaN</td>\n",
       "      <td>NaN</td>\n",
       "      <td>NaN</td>\n",
       "      <td>NaN</td>\n",
       "      <td>NaN</td>\n",
       "      <td>NaN</td>\n",
       "    </tr>\n",
       "    <tr>\n",
       "      <th>5</th>\n",
       "      <td>2013-03-25 19:37:26</td>\n",
       "      <td>126fe960806d587c78546b30f1a90853b1ada468</td>\n",
       "      <td>nomads</td>\n",
       "      <td>alchemists</td>\n",
       "      <td>swarmlings</td>\n",
       "      <td>SCORE2</td>\n",
       "      <td>SCORE6</td>\n",
       "      <td>SCORE1</td>\n",
       "      <td>SCORE3</td>\n",
       "      <td>SCORE4</td>\n",
       "      <td>...</td>\n",
       "      <td>NaN</td>\n",
       "      <td>NaN</td>\n",
       "      <td>NaN</td>\n",
       "      <td>NaN</td>\n",
       "      <td>NaN</td>\n",
       "      <td>NaN</td>\n",
       "      <td>NaN</td>\n",
       "      <td>NaN</td>\n",
       "      <td>NaN</td>\n",
       "      <td>NaN</td>\n",
       "    </tr>\n",
       "    <tr>\n",
       "      <th>8</th>\n",
       "      <td>2013-03-03 00:42:28</td>\n",
       "      <td>126fe960806d587c78546b30f1a90853b1ada468</td>\n",
       "      <td>fakirs</td>\n",
       "      <td>swarmlings</td>\n",
       "      <td>chaosmagicians</td>\n",
       "      <td>SCORE2</td>\n",
       "      <td>SCORE7</td>\n",
       "      <td>SCORE4</td>\n",
       "      <td>SCORE6</td>\n",
       "      <td>SCORE1</td>\n",
       "      <td>...</td>\n",
       "      <td>NaN</td>\n",
       "      <td>NaN</td>\n",
       "      <td>NaN</td>\n",
       "      <td>NaN</td>\n",
       "      <td>NaN</td>\n",
       "      <td>NaN</td>\n",
       "      <td>NaN</td>\n",
       "      <td>NaN</td>\n",
       "      <td>NaN</td>\n",
       "      <td>NaN</td>\n",
       "    </tr>\n",
       "    <tr>\n",
       "      <th>...</th>\n",
       "      <td>...</td>\n",
       "      <td>...</td>\n",
       "      <td>...</td>\n",
       "      <td>...</td>\n",
       "      <td>...</td>\n",
       "      <td>...</td>\n",
       "      <td>...</td>\n",
       "      <td>...</td>\n",
       "      <td>...</td>\n",
       "      <td>...</td>\n",
       "      <td>...</td>\n",
       "      <td>...</td>\n",
       "      <td>...</td>\n",
       "      <td>...</td>\n",
       "      <td>...</td>\n",
       "      <td>...</td>\n",
       "      <td>...</td>\n",
       "      <td>...</td>\n",
       "      <td>...</td>\n",
       "      <td>...</td>\n",
       "      <td>...</td>\n",
       "    </tr>\n",
       "    <tr>\n",
       "      <th>ZGame300</th>\n",
       "      <td>2020-01-17 17:01:59</td>\n",
       "      <td>126fe960806d587c78546b30f1a90853b1ada468</td>\n",
       "      <td>darklings</td>\n",
       "      <td>chaosmagicians</td>\n",
       "      <td>cultists</td>\n",
       "      <td>SCORE6</td>\n",
       "      <td>SCORE9</td>\n",
       "      <td>SCORE7</td>\n",
       "      <td>SCORE3</td>\n",
       "      <td>SCORE5</td>\n",
       "      <td>...</td>\n",
       "      <td>NaN</td>\n",
       "      <td>True</td>\n",
       "      <td>NaN</td>\n",
       "      <td>NaN</td>\n",
       "      <td>NaN</td>\n",
       "      <td>NaN</td>\n",
       "      <td>NaN</td>\n",
       "      <td>True</td>\n",
       "      <td>NaN</td>\n",
       "      <td>NaN</td>\n",
       "    </tr>\n",
       "    <tr>\n",
       "      <th>ZGame301</th>\n",
       "      <td>2020-01-14 01:17:45</td>\n",
       "      <td>126fe960806d587c78546b30f1a90853b1ada468</td>\n",
       "      <td>darklings</td>\n",
       "      <td>fakirs</td>\n",
       "      <td>dwarves</td>\n",
       "      <td>SCORE5</td>\n",
       "      <td>SCORE6</td>\n",
       "      <td>SCORE7</td>\n",
       "      <td>SCORE2</td>\n",
       "      <td>SCORE3</td>\n",
       "      <td>...</td>\n",
       "      <td>NaN</td>\n",
       "      <td>True</td>\n",
       "      <td>NaN</td>\n",
       "      <td>NaN</td>\n",
       "      <td>NaN</td>\n",
       "      <td>NaN</td>\n",
       "      <td>NaN</td>\n",
       "      <td>True</td>\n",
       "      <td>NaN</td>\n",
       "      <td>NaN</td>\n",
       "    </tr>\n",
       "    <tr>\n",
       "      <th>ZGame302</th>\n",
       "      <td>2020-01-20 00:07:50</td>\n",
       "      <td>126fe960806d587c78546b30f1a90853b1ada468</td>\n",
       "      <td>engineers</td>\n",
       "      <td>alchemists</td>\n",
       "      <td>cultists</td>\n",
       "      <td>SCORE2</td>\n",
       "      <td>SCORE7</td>\n",
       "      <td>SCORE6</td>\n",
       "      <td>SCORE5</td>\n",
       "      <td>SCORE8</td>\n",
       "      <td>...</td>\n",
       "      <td>NaN</td>\n",
       "      <td>True</td>\n",
       "      <td>NaN</td>\n",
       "      <td>NaN</td>\n",
       "      <td>NaN</td>\n",
       "      <td>NaN</td>\n",
       "      <td>NaN</td>\n",
       "      <td>True</td>\n",
       "      <td>NaN</td>\n",
       "      <td>NaN</td>\n",
       "    </tr>\n",
       "    <tr>\n",
       "      <th>ZGame303</th>\n",
       "      <td>2020-01-30 17:12:49</td>\n",
       "      <td>126fe960806d587c78546b30f1a90853b1ada468</td>\n",
       "      <td>swarmlings</td>\n",
       "      <td>nomads</td>\n",
       "      <td>chaosmagicians</td>\n",
       "      <td>SCORE1</td>\n",
       "      <td>SCORE7</td>\n",
       "      <td>SCORE6</td>\n",
       "      <td>SCORE8</td>\n",
       "      <td>SCORE9</td>\n",
       "      <td>...</td>\n",
       "      <td>NaN</td>\n",
       "      <td>True</td>\n",
       "      <td>NaN</td>\n",
       "      <td>NaN</td>\n",
       "      <td>NaN</td>\n",
       "      <td>NaN</td>\n",
       "      <td>NaN</td>\n",
       "      <td>True</td>\n",
       "      <td>NaN</td>\n",
       "      <td>NaN</td>\n",
       "    </tr>\n",
       "    <tr>\n",
       "      <th>ZGame304</th>\n",
       "      <td>2020-01-24 20:20:56</td>\n",
       "      <td>126fe960806d587c78546b30f1a90853b1ada468</td>\n",
       "      <td>halflings</td>\n",
       "      <td>giants</td>\n",
       "      <td>witches</td>\n",
       "      <td>SCORE9</td>\n",
       "      <td>SCORE3</td>\n",
       "      <td>SCORE4</td>\n",
       "      <td>SCORE1</td>\n",
       "      <td>SCORE5</td>\n",
       "      <td>...</td>\n",
       "      <td>NaN</td>\n",
       "      <td>True</td>\n",
       "      <td>NaN</td>\n",
       "      <td>NaN</td>\n",
       "      <td>NaN</td>\n",
       "      <td>NaN</td>\n",
       "      <td>NaN</td>\n",
       "      <td>True</td>\n",
       "      <td>NaN</td>\n",
       "      <td>NaN</td>\n",
       "    </tr>\n",
       "  </tbody>\n",
       "</table>\n",
       "<p>71458 rows × 72 columns</p>\n",
       "</div>"
      ],
      "text/plain": [
       "                   game_date                                       map  \\\n",
       "pbc3     2013-02-10 02:40:12  126fe960806d587c78546b30f1a90853b1ada468   \n",
       "10       2013-03-29 18:14:03  126fe960806d587c78546b30f1a90853b1ada468   \n",
       "21       2013-03-22 13:43:00  126fe960806d587c78546b30f1a90853b1ada468   \n",
       "5        2013-03-25 19:37:26  126fe960806d587c78546b30f1a90853b1ada468   \n",
       "8        2013-03-03 00:42:28  126fe960806d587c78546b30f1a90853b1ada468   \n",
       "...                      ...                                       ...   \n",
       "ZGame300 2020-01-17 17:01:59  126fe960806d587c78546b30f1a90853b1ada468   \n",
       "ZGame301 2020-01-14 01:17:45  126fe960806d587c78546b30f1a90853b1ada468   \n",
       "ZGame302 2020-01-20 00:07:50  126fe960806d587c78546b30f1a90853b1ada468   \n",
       "ZGame303 2020-01-30 17:12:49  126fe960806d587c78546b30f1a90853b1ada468   \n",
       "ZGame304 2020-01-24 20:20:56  126fe960806d587c78546b30f1a90853b1ada468   \n",
       "\n",
       "            faction1        faction2        faction3 tile_round_3  \\\n",
       "pbc3         dwarves       darklings       halflings       SCORE5   \n",
       "10           witches  chaosmagicians      swarmlings       SCORE7   \n",
       "21            nomads        mermaids          giants       SCORE6   \n",
       "5             nomads      alchemists      swarmlings       SCORE2   \n",
       "8             fakirs      swarmlings  chaosmagicians       SCORE2   \n",
       "...              ...             ...             ...          ...   \n",
       "ZGame300   darklings  chaosmagicians        cultists       SCORE6   \n",
       "ZGame301   darklings          fakirs         dwarves       SCORE5   \n",
       "ZGame302   engineers      alchemists        cultists       SCORE2   \n",
       "ZGame303  swarmlings          nomads  chaosmagicians       SCORE1   \n",
       "ZGame304   halflings          giants         witches       SCORE9   \n",
       "\n",
       "         tile_round_6 tile_round_5 tile_round_1 tile_round_2  ...  \\\n",
       "pbc3           SCORE4       SCORE7       SCORE1       SCORE8  ...   \n",
       "10             SCORE4       SCORE5       SCORE8       SCORE1  ...   \n",
       "21             SCORE7       SCORE8       SCORE1       SCORE5  ...   \n",
       "5              SCORE6       SCORE1       SCORE3       SCORE4  ...   \n",
       "8              SCORE7       SCORE4       SCORE6       SCORE1  ...   \n",
       "...               ...          ...          ...          ...  ...   \n",
       "ZGame300       SCORE9       SCORE7       SCORE3       SCORE5  ...   \n",
       "ZGame301       SCORE6       SCORE7       SCORE2       SCORE3  ...   \n",
       "ZGame302       SCORE7       SCORE6       SCORE5       SCORE8  ...   \n",
       "ZGame303       SCORE7       SCORE6       SCORE8       SCORE9  ...   \n",
       "ZGame304       SCORE3       SCORE4       SCORE1       SCORE5  ...   \n",
       "\n",
       "         option-fire-and-ice-factions/variable option-variable-turn-order  \\\n",
       "pbc3                                       NaN                        NaN   \n",
       "10                                         NaN                        NaN   \n",
       "21                                         NaN                        NaN   \n",
       "5                                          NaN                        NaN   \n",
       "8                                          NaN                        NaN   \n",
       "...                                        ...                        ...   \n",
       "ZGame300                                   NaN                       True   \n",
       "ZGame301                                   NaN                       True   \n",
       "ZGame302                                   NaN                       True   \n",
       "ZGame303                                   NaN                       True   \n",
       "ZGame304                                   NaN                       True   \n",
       "\n",
       "         option-fire-and-ice-factions/variable_v2  \\\n",
       "pbc3                                          NaN   \n",
       "10                                            NaN   \n",
       "21                                            NaN   \n",
       "5                                             NaN   \n",
       "8                                             NaN   \n",
       "...                                           ...   \n",
       "ZGame300                                      NaN   \n",
       "ZGame301                                      NaN   \n",
       "ZGame302                                      NaN   \n",
       "ZGame303                                      NaN   \n",
       "ZGame304                                      NaN   \n",
       "\n",
       "         option-fire-and-ice-factions/variable_v3 faction6  \\\n",
       "pbc3                                          NaN      NaN   \n",
       "10                                            NaN      NaN   \n",
       "21                                            NaN      NaN   \n",
       "5                                             NaN      NaN   \n",
       "8                                             NaN      NaN   \n",
       "...                                           ...      ...   \n",
       "ZGame300                                      NaN      NaN   \n",
       "ZGame301                                      NaN      NaN   \n",
       "ZGame302                                      NaN      NaN   \n",
       "ZGame303                                      NaN      NaN   \n",
       "ZGame304                                      NaN      NaN   \n",
       "\n",
       "         option-fire-and-ice-factions/variable_v4 faction7  \\\n",
       "pbc3                                          NaN      NaN   \n",
       "10                                            NaN      NaN   \n",
       "21                                            NaN      NaN   \n",
       "5                                             NaN      NaN   \n",
       "8                                             NaN      NaN   \n",
       "...                                           ...      ...   \n",
       "ZGame300                                      NaN      NaN   \n",
       "ZGame301                                      NaN      NaN   \n",
       "ZGame302                                      NaN      NaN   \n",
       "ZGame303                                      NaN      NaN   \n",
       "ZGame304                                      NaN      NaN   \n",
       "\n",
       "          option-temple-scoring-tile  \\\n",
       "pbc3                             NaN   \n",
       "10                               NaN   \n",
       "21                               NaN   \n",
       "5                                NaN   \n",
       "8                                NaN   \n",
       "...                              ...   \n",
       "ZGame300                        True   \n",
       "ZGame301                        True   \n",
       "ZGame302                        True   \n",
       "ZGame303                        True   \n",
       "ZGame304                        True   \n",
       "\n",
       "          option-fire-and-ice-factions/variable_v5  \\\n",
       "pbc3                                           NaN   \n",
       "10                                             NaN   \n",
       "21                                             NaN   \n",
       "5                                              NaN   \n",
       "8                                              NaN   \n",
       "...                                            ...   \n",
       "ZGame300                                       NaN   \n",
       "ZGame301                                       NaN   \n",
       "ZGame302                                       NaN   \n",
       "ZGame303                                       NaN   \n",
       "ZGame304                                       NaN   \n",
       "\n",
       "          option-fire-and-ice-factions  \n",
       "pbc3                               NaN  \n",
       "10                                 NaN  \n",
       "21                                 NaN  \n",
       "5                                  NaN  \n",
       "8                                  NaN  \n",
       "...                                ...  \n",
       "ZGame300                           NaN  \n",
       "ZGame301                           NaN  \n",
       "ZGame302                           NaN  \n",
       "ZGame303                           NaN  \n",
       "ZGame304                           NaN  \n",
       "\n",
       "[71458 rows x 72 columns]"
      ]
     },
     "execution_count": 52,
     "metadata": {},
     "output_type": "execute_result"
    }
   ],
   "source": [
    "game_df"
   ]
  },
  {
   "cell_type": "code",
   "execution_count": 53,
   "metadata": {},
   "outputs": [
    {
     "data": {
      "text/html": [
       "<div>\n",
       "<style scoped>\n",
       "    .dataframe tbody tr th:only-of-type {\n",
       "        vertical-align: middle;\n",
       "    }\n",
       "\n",
       "    .dataframe tbody tr th {\n",
       "        vertical-align: top;\n",
       "    }\n",
       "\n",
       "    .dataframe thead th {\n",
       "        text-align: right;\n",
       "    }\n",
       "</style>\n",
       "<table border=\"1\" class=\"dataframe\">\n",
       "  <thead>\n",
       "    <tr style=\"text-align: right;\">\n",
       "      <th></th>\n",
       "      <th>games</th>\n",
       "      <th>sum_vp</th>\n",
       "      <th>sum_vp_margin</th>\n",
       "    </tr>\n",
       "  </thead>\n",
       "  <tbody>\n",
       "    <tr>\n",
       "      <th>NaN</th>\n",
       "      <td>283.0</td>\n",
       "      <td>31880.0</td>\n",
       "      <td>5050.0</td>\n",
       "    </tr>\n",
       "    <tr>\n",
       "      <th>jsnell</th>\n",
       "      <td>231.0</td>\n",
       "      <td>31525.0</td>\n",
       "      <td>6730.0</td>\n",
       "    </tr>\n",
       "    <tr>\n",
       "      <th>dkeisen</th>\n",
       "      <td>11.0</td>\n",
       "      <td>1376.0</td>\n",
       "      <td>391.0</td>\n",
       "    </tr>\n",
       "    <tr>\n",
       "      <th>Jan</th>\n",
       "      <td>259.0</td>\n",
       "      <td>33705.0</td>\n",
       "      <td>5083.0</td>\n",
       "    </tr>\n",
       "    <tr>\n",
       "      <th>Lachlan</th>\n",
       "      <td>15.0</td>\n",
       "      <td>1797.0</td>\n",
       "      <td>411.0</td>\n",
       "    </tr>\n",
       "    <tr>\n",
       "      <th>...</th>\n",
       "      <td>...</td>\n",
       "      <td>...</td>\n",
       "      <td>...</td>\n",
       "    </tr>\n",
       "    <tr>\n",
       "      <th>Mikeyloo</th>\n",
       "      <td>2.0</td>\n",
       "      <td>107.0</td>\n",
       "      <td>35.0</td>\n",
       "    </tr>\n",
       "    <tr>\n",
       "      <th>boardinthepark</th>\n",
       "      <td>1.0</td>\n",
       "      <td>33.0</td>\n",
       "      <td>0.0</td>\n",
       "    </tr>\n",
       "    <tr>\n",
       "      <th>toby776</th>\n",
       "      <td>1.0</td>\n",
       "      <td>56.0</td>\n",
       "      <td>0.0</td>\n",
       "    </tr>\n",
       "    <tr>\n",
       "      <th>iremina</th>\n",
       "      <td>4.0</td>\n",
       "      <td>290.0</td>\n",
       "      <td>0.0</td>\n",
       "    </tr>\n",
       "    <tr>\n",
       "      <th>Koyaanisqatsi</th>\n",
       "      <td>1.0</td>\n",
       "      <td>138.0</td>\n",
       "      <td>17.0</td>\n",
       "    </tr>\n",
       "  </tbody>\n",
       "</table>\n",
       "<p>8597 rows × 3 columns</p>\n",
       "</div>"
      ],
      "text/plain": [
       "                games   sum_vp  sum_vp_margin\n",
       "NaN             283.0  31880.0         5050.0\n",
       "jsnell          231.0  31525.0         6730.0\n",
       "dkeisen          11.0   1376.0          391.0\n",
       "Jan             259.0  33705.0         5083.0\n",
       "Lachlan          15.0   1797.0          411.0\n",
       "...               ...      ...            ...\n",
       "Mikeyloo          2.0    107.0           35.0\n",
       "boardinthepark    1.0     33.0            0.0\n",
       "toby776           1.0     56.0            0.0\n",
       "iremina           4.0    290.0            0.0\n",
       "Koyaanisqatsi     1.0    138.0           17.0\n",
       "\n",
       "[8597 rows x 3 columns]"
      ]
     },
     "execution_count": 53,
     "metadata": {},
     "output_type": "execute_result"
    }
   ],
   "source": [
    "player_df"
   ]
  },
  {
   "cell_type": "code",
   "execution_count": null,
   "metadata": {},
   "outputs": [],
   "source": []
  }
 ],
 "metadata": {
  "kernelspec": {
   "display_name": "Python 3",
   "language": "python",
   "name": "python3"
  },
  "language_info": {
   "codemirror_mode": {
    "name": "ipython",
    "version": 3
   },
   "file_extension": ".py",
   "mimetype": "text/x-python",
   "name": "python",
   "nbconvert_exporter": "python",
   "pygments_lexer": "ipython3",
   "version": "3.7.6"
  }
 },
 "nbformat": 4,
 "nbformat_minor": 4
}
