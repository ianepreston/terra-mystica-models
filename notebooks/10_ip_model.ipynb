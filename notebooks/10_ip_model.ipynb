{
 "cells": [
  {
   "cell_type": "markdown",
   "metadata": {},
   "source": [
    "# Enough chit chat, let's make some models!"
   ]
  },
  {
   "cell_type": "code",
   "execution_count": 1,
   "metadata": {},
   "outputs": [],
   "source": [
    "%load_ext autoreload\n",
    "%autoreload 2"
   ]
  },
  {
   "cell_type": "code",
   "execution_count": 2,
   "metadata": {},
   "outputs": [],
   "source": [
    "import pandas as pd\n",
    "import statsmodels.api as sm"
   ]
  },
  {
   "cell_type": "code",
   "execution_count": 3,
   "metadata": {},
   "outputs": [],
   "source": [
    "from terra_mystica_models.features.model_subset import get_model_games_df"
   ]
  },
  {
   "cell_type": "code",
   "execution_count": 4,
   "metadata": {},
   "outputs": [],
   "source": [
    "df = get_model_games_df()"
   ]
  },
  {
   "cell_type": "code",
   "execution_count": 5,
   "metadata": {},
   "outputs": [
    {
     "data": {
      "text/plain": [
       "49740"
      ]
     },
     "execution_count": 5,
     "metadata": {},
     "output_type": "execute_result"
    }
   ],
   "source": [
    "len(df)"
   ]
  },
  {
   "cell_type": "code",
   "execution_count": 6,
   "metadata": {},
   "outputs": [
    {
     "data": {
      "text/plain": [
       "Index(['date', 'file', 'score_turn_1', 'score_turn_2', 'score_turn_3',\n",
       "       'score_turn_4', 'score_turn_5', 'score_turn_6', 'BON1', 'BON2', 'BON3',\n",
       "       'BON4', 'BON5', 'BON6', 'BON7', 'BON8', 'BON9', 'BON10',\n",
       "       'player_1_faction', 'player_2_faction', 'player_3_faction',\n",
       "       'player_4_faction', 'player_1_user', 'player_2_user', 'player_3_user',\n",
       "       'player_4_user', 'player_1_vp', 'player_2_vp', 'player_3_vp',\n",
       "       'player_4_vp', 'player_1_vp_margin', 'player_2_vp_margin',\n",
       "       'player_3_vp_margin', 'player_4_vp_margin'],\n",
       "      dtype='object')"
      ]
     },
     "execution_count": 6,
     "metadata": {},
     "output_type": "execute_result"
    }
   ],
   "source": [
    "df.columns"
   ]
  },
  {
   "cell_type": "markdown",
   "metadata": {},
   "source": [
    "OK, we have 34,000 ish games. That should give us plenty of room to add parameters to a model, but we should start simple."
   ]
  },
  {
   "cell_type": "markdown",
   "metadata": {},
   "source": [
    "My first idea is to try and fit victory point margin at the player/game level. So I can turn each game into four observations. This will require a bit more transformation, but let's see what it gives"
   ]
  },
  {
   "cell_type": "code",
   "execution_count": 7,
   "metadata": {},
   "outputs": [],
   "source": [
    "score_cols = [f\"score_turn_{i}\" for i in range(1, 7)]\n",
    "bon_cols = [f\"BON{i}\" for i in range(1, 11)]\n",
    "\n",
    "game_level_info = df.reindex(columns=score_cols + bon_cols).reset_index().rename(columns={\"index\": \"game_name\"})"
   ]
  },
  {
   "cell_type": "code",
   "execution_count": 8,
   "metadata": {},
   "outputs": [
    {
     "data": {
      "text/html": [
       "<div>\n",
       "<style scoped>\n",
       "    .dataframe tbody tr th:only-of-type {\n",
       "        vertical-align: middle;\n",
       "    }\n",
       "\n",
       "    .dataframe tbody tr th {\n",
       "        vertical-align: top;\n",
       "    }\n",
       "\n",
       "    .dataframe thead th {\n",
       "        text-align: right;\n",
       "    }\n",
       "</style>\n",
       "<table border=\"1\" class=\"dataframe\">\n",
       "  <thead>\n",
       "    <tr style=\"text-align: right;\">\n",
       "      <th></th>\n",
       "      <th>game_name</th>\n",
       "      <th>score_turn_1</th>\n",
       "      <th>score_turn_2</th>\n",
       "      <th>score_turn_3</th>\n",
       "      <th>score_turn_4</th>\n",
       "      <th>score_turn_5</th>\n",
       "      <th>score_turn_6</th>\n",
       "      <th>BON1</th>\n",
       "      <th>BON2</th>\n",
       "      <th>BON3</th>\n",
       "      <th>BON4</th>\n",
       "      <th>BON5</th>\n",
       "      <th>BON6</th>\n",
       "      <th>BON7</th>\n",
       "      <th>BON8</th>\n",
       "      <th>BON9</th>\n",
       "      <th>BON10</th>\n",
       "    </tr>\n",
       "  </thead>\n",
       "  <tbody>\n",
       "    <tr>\n",
       "      <th>0</th>\n",
       "      <td>10</td>\n",
       "      <td>4 AIR -&gt; 1 SPADE | TP &gt;&gt; 3</td>\n",
       "      <td>1 EARTH -&gt; 1 C | SPADE &gt;&gt; 2</td>\n",
       "      <td>2 AIR -&gt; 1 W | SA/SH &gt;&gt; 5</td>\n",
       "      <td>4 WATER -&gt; 1 SPADE | TP &gt;&gt; 3</td>\n",
       "      <td>4 FIRE -&gt; 4 PW | D &gt;&gt; 2</td>\n",
       "      <td>2 FIRE -&gt; 1 W | SA/SH &gt;&gt; 5</td>\n",
       "      <td>False</td>\n",
       "      <td>True</td>\n",
       "      <td>True</td>\n",
       "      <td>True</td>\n",
       "      <td>True</td>\n",
       "      <td>True</td>\n",
       "      <td>True</td>\n",
       "      <td>False</td>\n",
       "      <td>True</td>\n",
       "      <td>False</td>\n",
       "    </tr>\n",
       "    <tr>\n",
       "      <th>1</th>\n",
       "      <td>21</td>\n",
       "      <td>1 EARTH -&gt; 1 C | SPADE &gt;&gt; 2</td>\n",
       "      <td>4 FIRE -&gt; 4 PW | D &gt;&gt; 2</td>\n",
       "      <td>4 WATER -&gt; 1 SPADE | TP &gt;&gt; 3</td>\n",
       "      <td>4 WATER -&gt; 1 P | D &gt;&gt; 2</td>\n",
       "      <td>4 AIR -&gt; 1 SPADE | TP &gt;&gt; 3</td>\n",
       "      <td>2 AIR -&gt; 1 W | SA/SH &gt;&gt; 5</td>\n",
       "      <td>False</td>\n",
       "      <td>True</td>\n",
       "      <td>True</td>\n",
       "      <td>True</td>\n",
       "      <td>True</td>\n",
       "      <td>True</td>\n",
       "      <td>True</td>\n",
       "      <td>True</td>\n",
       "      <td>False</td>\n",
       "      <td>False</td>\n",
       "    </tr>\n",
       "    <tr>\n",
       "      <th>2</th>\n",
       "      <td>5</td>\n",
       "      <td>4 WATER -&gt; 1 P | D &gt;&gt; 2</td>\n",
       "      <td>2 FIRE -&gt; 1 W | SA/SH &gt;&gt; 5</td>\n",
       "      <td>4 EARTH -&gt; 1 SPADE | TOWN &gt;&gt; 5</td>\n",
       "      <td>4 AIR -&gt; 1 SPADE | TP &gt;&gt; 3</td>\n",
       "      <td>1 EARTH -&gt; 1 C | SPADE &gt;&gt; 2</td>\n",
       "      <td>4 WATER -&gt; 1 SPADE | TP &gt;&gt; 3</td>\n",
       "      <td>True</td>\n",
       "      <td>True</td>\n",
       "      <td>True</td>\n",
       "      <td>True</td>\n",
       "      <td>False</td>\n",
       "      <td>False</td>\n",
       "      <td>True</td>\n",
       "      <td>True</td>\n",
       "      <td>True</td>\n",
       "      <td>False</td>\n",
       "    </tr>\n",
       "    <tr>\n",
       "      <th>3</th>\n",
       "      <td>gareth4</td>\n",
       "      <td>2 FIRE -&gt; 1 W | SA/SH &gt;&gt; 5</td>\n",
       "      <td>4 WATER -&gt; 1 P | D &gt;&gt; 2</td>\n",
       "      <td>4 AIR -&gt; 1 SPADE | TP &gt;&gt; 3</td>\n",
       "      <td>4 WATER -&gt; 1 SPADE | TP &gt;&gt; 3</td>\n",
       "      <td>4 FIRE -&gt; 4 PW | D &gt;&gt; 2</td>\n",
       "      <td>2 AIR -&gt; 1 W | SA/SH &gt;&gt; 5</td>\n",
       "      <td>False</td>\n",
       "      <td>True</td>\n",
       "      <td>False</td>\n",
       "      <td>True</td>\n",
       "      <td>True</td>\n",
       "      <td>True</td>\n",
       "      <td>True</td>\n",
       "      <td>True</td>\n",
       "      <td>True</td>\n",
       "      <td>False</td>\n",
       "    </tr>\n",
       "    <tr>\n",
       "      <th>4</th>\n",
       "      <td>skelly1</td>\n",
       "      <td>4 WATER -&gt; 1 SPADE | TP &gt;&gt; 3</td>\n",
       "      <td>4 WATER -&gt; 1 P | D &gt;&gt; 2</td>\n",
       "      <td>2 AIR -&gt; 1 W | SA/SH &gt;&gt; 5</td>\n",
       "      <td>1 EARTH -&gt; 1 C | SPADE &gt;&gt; 2</td>\n",
       "      <td>4 FIRE -&gt; 4 PW | D &gt;&gt; 2</td>\n",
       "      <td>4 AIR -&gt; 1 SPADE | TP &gt;&gt; 3</td>\n",
       "      <td>True</td>\n",
       "      <td>True</td>\n",
       "      <td>True</td>\n",
       "      <td>True</td>\n",
       "      <td>True</td>\n",
       "      <td>True</td>\n",
       "      <td>False</td>\n",
       "      <td>True</td>\n",
       "      <td>False</td>\n",
       "      <td>False</td>\n",
       "    </tr>\n",
       "  </tbody>\n",
       "</table>\n",
       "</div>"
      ],
      "text/plain": [
       "  game_name                  score_turn_1                 score_turn_2  \\\n",
       "0        10    4 AIR -> 1 SPADE | TP >> 3  1 EARTH -> 1 C | SPADE >> 2   \n",
       "1        21   1 EARTH -> 1 C | SPADE >> 2      4 FIRE -> 4 PW | D >> 2   \n",
       "2         5       4 WATER -> 1 P | D >> 2   2 FIRE -> 1 W | SA/SH >> 5   \n",
       "3   gareth4    2 FIRE -> 1 W | SA/SH >> 5      4 WATER -> 1 P | D >> 2   \n",
       "4   skelly1  4 WATER -> 1 SPADE | TP >> 3      4 WATER -> 1 P | D >> 2   \n",
       "\n",
       "                     score_turn_3                  score_turn_4  \\\n",
       "0       2 AIR -> 1 W | SA/SH >> 5  4 WATER -> 1 SPADE | TP >> 3   \n",
       "1    4 WATER -> 1 SPADE | TP >> 3       4 WATER -> 1 P | D >> 2   \n",
       "2  4 EARTH -> 1 SPADE | TOWN >> 5    4 AIR -> 1 SPADE | TP >> 3   \n",
       "3      4 AIR -> 1 SPADE | TP >> 3  4 WATER -> 1 SPADE | TP >> 3   \n",
       "4       2 AIR -> 1 W | SA/SH >> 5   1 EARTH -> 1 C | SPADE >> 2   \n",
       "\n",
       "                  score_turn_5                  score_turn_6   BON1  BON2  \\\n",
       "0      4 FIRE -> 4 PW | D >> 2    2 FIRE -> 1 W | SA/SH >> 5  False  True   \n",
       "1   4 AIR -> 1 SPADE | TP >> 3     2 AIR -> 1 W | SA/SH >> 5  False  True   \n",
       "2  1 EARTH -> 1 C | SPADE >> 2  4 WATER -> 1 SPADE | TP >> 3   True  True   \n",
       "3      4 FIRE -> 4 PW | D >> 2     2 AIR -> 1 W | SA/SH >> 5  False  True   \n",
       "4      4 FIRE -> 4 PW | D >> 2    4 AIR -> 1 SPADE | TP >> 3   True  True   \n",
       "\n",
       "    BON3  BON4   BON5   BON6   BON7   BON8   BON9  BON10  \n",
       "0   True  True   True   True   True  False   True  False  \n",
       "1   True  True   True   True   True   True  False  False  \n",
       "2   True  True  False  False   True   True   True  False  \n",
       "3  False  True   True   True   True   True   True  False  \n",
       "4   True  True   True   True  False   True  False  False  "
      ]
     },
     "execution_count": 8,
     "metadata": {},
     "output_type": "execute_result"
    }
   ],
   "source": [
    "game_level_info.head()"
   ]
  },
  {
   "cell_type": "code",
   "execution_count": 9,
   "metadata": {},
   "outputs": [],
   "source": [
    "def player_n_frame(base_df, n):\n",
    "    player_dict = {\n",
    "        f\"player_{n}_faction\": \"faction\",\n",
    "        f\"player_{n}_vp_margin\": \"vp_margin\"\n",
    "    }\n",
    "    player_n_df = (\n",
    "        base_df\n",
    "        .rename(columns=player_dict)\n",
    "        .reindex(columns=[\"faction\", \"vp_margin\"])\n",
    "        .assign(player_num=n)\n",
    "        .reset_index()\n",
    "        .rename(columns={\"index\": 'game_name'})\n",
    "    )\n",
    "    return player_n_df\n",
    "player_df = pd.concat([player_n_frame(df, i) for i in range(1, 5)])"
   ]
  },
  {
   "cell_type": "code",
   "execution_count": 10,
   "metadata": {},
   "outputs": [
    {
     "data": {
      "text/plain": [
       "True"
      ]
     },
     "execution_count": 10,
     "metadata": {},
     "output_type": "execute_result"
    }
   ],
   "source": [
    "len(player_df) == len(df) * 4"
   ]
  },
  {
   "cell_type": "code",
   "execution_count": 11,
   "metadata": {},
   "outputs": [
    {
     "data": {
      "text/html": [
       "<div>\n",
       "<style scoped>\n",
       "    .dataframe tbody tr th:only-of-type {\n",
       "        vertical-align: middle;\n",
       "    }\n",
       "\n",
       "    .dataframe tbody tr th {\n",
       "        vertical-align: top;\n",
       "    }\n",
       "\n",
       "    .dataframe thead th {\n",
       "        text-align: right;\n",
       "    }\n",
       "</style>\n",
       "<table border=\"1\" class=\"dataframe\">\n",
       "  <thead>\n",
       "    <tr style=\"text-align: right;\">\n",
       "      <th></th>\n",
       "      <th>game_name</th>\n",
       "      <th>faction</th>\n",
       "      <th>vp_margin</th>\n",
       "      <th>player_num</th>\n",
       "    </tr>\n",
       "  </thead>\n",
       "  <tbody>\n",
       "    <tr>\n",
       "      <th>0</th>\n",
       "      <td>10</td>\n",
       "      <td>witches</td>\n",
       "      <td>-23.00</td>\n",
       "      <td>1</td>\n",
       "    </tr>\n",
       "    <tr>\n",
       "      <th>1</th>\n",
       "      <td>21</td>\n",
       "      <td>nomads</td>\n",
       "      <td>5.75</td>\n",
       "      <td>1</td>\n",
       "    </tr>\n",
       "    <tr>\n",
       "      <th>2</th>\n",
       "      <td>5</td>\n",
       "      <td>nomads</td>\n",
       "      <td>-9.75</td>\n",
       "      <td>1</td>\n",
       "    </tr>\n",
       "    <tr>\n",
       "      <th>3</th>\n",
       "      <td>gareth4</td>\n",
       "      <td>mermaids</td>\n",
       "      <td>8.00</td>\n",
       "      <td>1</td>\n",
       "    </tr>\n",
       "    <tr>\n",
       "      <th>4</th>\n",
       "      <td>skelly1</td>\n",
       "      <td>chaosmagicians</td>\n",
       "      <td>-13.50</td>\n",
       "      <td>1</td>\n",
       "    </tr>\n",
       "  </tbody>\n",
       "</table>\n",
       "</div>"
      ],
      "text/plain": [
       "  game_name         faction  vp_margin  player_num\n",
       "0        10         witches     -23.00           1\n",
       "1        21          nomads       5.75           1\n",
       "2         5          nomads      -9.75           1\n",
       "3   gareth4        mermaids       8.00           1\n",
       "4   skelly1  chaosmagicians     -13.50           1"
      ]
     },
     "execution_count": 11,
     "metadata": {},
     "output_type": "execute_result"
    }
   ],
   "source": [
    "player_df.head()"
   ]
  },
  {
   "cell_type": "code",
   "execution_count": 12,
   "metadata": {},
   "outputs": [],
   "source": [
    "recombined_df = player_df.merge(game_level_info, on=\"game_name\")"
   ]
  },
  {
   "cell_type": "code",
   "execution_count": 13,
   "metadata": {},
   "outputs": [
    {
     "data": {
      "text/plain": [
       "True"
      ]
     },
     "execution_count": 13,
     "metadata": {},
     "output_type": "execute_result"
    }
   ],
   "source": [
    "len(recombined_df) == len(player_df)"
   ]
  },
  {
   "cell_type": "code",
   "execution_count": 14,
   "metadata": {},
   "outputs": [
    {
     "data": {
      "text/html": [
       "<div>\n",
       "<style scoped>\n",
       "    .dataframe tbody tr th:only-of-type {\n",
       "        vertical-align: middle;\n",
       "    }\n",
       "\n",
       "    .dataframe tbody tr th {\n",
       "        vertical-align: top;\n",
       "    }\n",
       "\n",
       "    .dataframe thead th {\n",
       "        text-align: right;\n",
       "    }\n",
       "</style>\n",
       "<table border=\"1\" class=\"dataframe\">\n",
       "  <thead>\n",
       "    <tr style=\"text-align: right;\">\n",
       "      <th></th>\n",
       "      <th>game_name</th>\n",
       "      <th>faction</th>\n",
       "      <th>vp_margin</th>\n",
       "      <th>player_num</th>\n",
       "      <th>score_turn_1</th>\n",
       "      <th>score_turn_2</th>\n",
       "      <th>score_turn_3</th>\n",
       "      <th>score_turn_4</th>\n",
       "      <th>score_turn_5</th>\n",
       "      <th>score_turn_6</th>\n",
       "      <th>BON1</th>\n",
       "      <th>BON2</th>\n",
       "      <th>BON3</th>\n",
       "      <th>BON4</th>\n",
       "      <th>BON5</th>\n",
       "      <th>BON6</th>\n",
       "      <th>BON7</th>\n",
       "      <th>BON8</th>\n",
       "      <th>BON9</th>\n",
       "      <th>BON10</th>\n",
       "    </tr>\n",
       "  </thead>\n",
       "  <tbody>\n",
       "    <tr>\n",
       "      <th>0</th>\n",
       "      <td>10</td>\n",
       "      <td>witches</td>\n",
       "      <td>-23.00</td>\n",
       "      <td>1</td>\n",
       "      <td>4 AIR -&gt; 1 SPADE | TP &gt;&gt; 3</td>\n",
       "      <td>1 EARTH -&gt; 1 C | SPADE &gt;&gt; 2</td>\n",
       "      <td>2 AIR -&gt; 1 W | SA/SH &gt;&gt; 5</td>\n",
       "      <td>4 WATER -&gt; 1 SPADE | TP &gt;&gt; 3</td>\n",
       "      <td>4 FIRE -&gt; 4 PW | D &gt;&gt; 2</td>\n",
       "      <td>2 FIRE -&gt; 1 W | SA/SH &gt;&gt; 5</td>\n",
       "      <td>False</td>\n",
       "      <td>True</td>\n",
       "      <td>True</td>\n",
       "      <td>True</td>\n",
       "      <td>True</td>\n",
       "      <td>True</td>\n",
       "      <td>True</td>\n",
       "      <td>False</td>\n",
       "      <td>True</td>\n",
       "      <td>False</td>\n",
       "    </tr>\n",
       "    <tr>\n",
       "      <th>1</th>\n",
       "      <td>10</td>\n",
       "      <td>chaosmagicians</td>\n",
       "      <td>-7.00</td>\n",
       "      <td>2</td>\n",
       "      <td>4 AIR -&gt; 1 SPADE | TP &gt;&gt; 3</td>\n",
       "      <td>1 EARTH -&gt; 1 C | SPADE &gt;&gt; 2</td>\n",
       "      <td>2 AIR -&gt; 1 W | SA/SH &gt;&gt; 5</td>\n",
       "      <td>4 WATER -&gt; 1 SPADE | TP &gt;&gt; 3</td>\n",
       "      <td>4 FIRE -&gt; 4 PW | D &gt;&gt; 2</td>\n",
       "      <td>2 FIRE -&gt; 1 W | SA/SH &gt;&gt; 5</td>\n",
       "      <td>False</td>\n",
       "      <td>True</td>\n",
       "      <td>True</td>\n",
       "      <td>True</td>\n",
       "      <td>True</td>\n",
       "      <td>True</td>\n",
       "      <td>True</td>\n",
       "      <td>False</td>\n",
       "      <td>True</td>\n",
       "      <td>False</td>\n",
       "    </tr>\n",
       "    <tr>\n",
       "      <th>2</th>\n",
       "      <td>10</td>\n",
       "      <td>swarmlings</td>\n",
       "      <td>-16.00</td>\n",
       "      <td>3</td>\n",
       "      <td>4 AIR -&gt; 1 SPADE | TP &gt;&gt; 3</td>\n",
       "      <td>1 EARTH -&gt; 1 C | SPADE &gt;&gt; 2</td>\n",
       "      <td>2 AIR -&gt; 1 W | SA/SH &gt;&gt; 5</td>\n",
       "      <td>4 WATER -&gt; 1 SPADE | TP &gt;&gt; 3</td>\n",
       "      <td>4 FIRE -&gt; 4 PW | D &gt;&gt; 2</td>\n",
       "      <td>2 FIRE -&gt; 1 W | SA/SH &gt;&gt; 5</td>\n",
       "      <td>False</td>\n",
       "      <td>True</td>\n",
       "      <td>True</td>\n",
       "      <td>True</td>\n",
       "      <td>True</td>\n",
       "      <td>True</td>\n",
       "      <td>True</td>\n",
       "      <td>False</td>\n",
       "      <td>True</td>\n",
       "      <td>False</td>\n",
       "    </tr>\n",
       "    <tr>\n",
       "      <th>3</th>\n",
       "      <td>10</td>\n",
       "      <td>darklings</td>\n",
       "      <td>46.00</td>\n",
       "      <td>4</td>\n",
       "      <td>4 AIR -&gt; 1 SPADE | TP &gt;&gt; 3</td>\n",
       "      <td>1 EARTH -&gt; 1 C | SPADE &gt;&gt; 2</td>\n",
       "      <td>2 AIR -&gt; 1 W | SA/SH &gt;&gt; 5</td>\n",
       "      <td>4 WATER -&gt; 1 SPADE | TP &gt;&gt; 3</td>\n",
       "      <td>4 FIRE -&gt; 4 PW | D &gt;&gt; 2</td>\n",
       "      <td>2 FIRE -&gt; 1 W | SA/SH &gt;&gt; 5</td>\n",
       "      <td>False</td>\n",
       "      <td>True</td>\n",
       "      <td>True</td>\n",
       "      <td>True</td>\n",
       "      <td>True</td>\n",
       "      <td>True</td>\n",
       "      <td>True</td>\n",
       "      <td>False</td>\n",
       "      <td>True</td>\n",
       "      <td>False</td>\n",
       "    </tr>\n",
       "    <tr>\n",
       "      <th>4</th>\n",
       "      <td>21</td>\n",
       "      <td>nomads</td>\n",
       "      <td>5.75</td>\n",
       "      <td>1</td>\n",
       "      <td>1 EARTH -&gt; 1 C | SPADE &gt;&gt; 2</td>\n",
       "      <td>4 FIRE -&gt; 4 PW | D &gt;&gt; 2</td>\n",
       "      <td>4 WATER -&gt; 1 SPADE | TP &gt;&gt; 3</td>\n",
       "      <td>4 WATER -&gt; 1 P | D &gt;&gt; 2</td>\n",
       "      <td>4 AIR -&gt; 1 SPADE | TP &gt;&gt; 3</td>\n",
       "      <td>2 AIR -&gt; 1 W | SA/SH &gt;&gt; 5</td>\n",
       "      <td>False</td>\n",
       "      <td>True</td>\n",
       "      <td>True</td>\n",
       "      <td>True</td>\n",
       "      <td>True</td>\n",
       "      <td>True</td>\n",
       "      <td>True</td>\n",
       "      <td>True</td>\n",
       "      <td>False</td>\n",
       "      <td>False</td>\n",
       "    </tr>\n",
       "  </tbody>\n",
       "</table>\n",
       "</div>"
      ],
      "text/plain": [
       "  game_name         faction  vp_margin  player_num  \\\n",
       "0        10         witches     -23.00           1   \n",
       "1        10  chaosmagicians      -7.00           2   \n",
       "2        10      swarmlings     -16.00           3   \n",
       "3        10       darklings      46.00           4   \n",
       "4        21          nomads       5.75           1   \n",
       "\n",
       "                  score_turn_1                 score_turn_2  \\\n",
       "0   4 AIR -> 1 SPADE | TP >> 3  1 EARTH -> 1 C | SPADE >> 2   \n",
       "1   4 AIR -> 1 SPADE | TP >> 3  1 EARTH -> 1 C | SPADE >> 2   \n",
       "2   4 AIR -> 1 SPADE | TP >> 3  1 EARTH -> 1 C | SPADE >> 2   \n",
       "3   4 AIR -> 1 SPADE | TP >> 3  1 EARTH -> 1 C | SPADE >> 2   \n",
       "4  1 EARTH -> 1 C | SPADE >> 2      4 FIRE -> 4 PW | D >> 2   \n",
       "\n",
       "                   score_turn_3                  score_turn_4  \\\n",
       "0     2 AIR -> 1 W | SA/SH >> 5  4 WATER -> 1 SPADE | TP >> 3   \n",
       "1     2 AIR -> 1 W | SA/SH >> 5  4 WATER -> 1 SPADE | TP >> 3   \n",
       "2     2 AIR -> 1 W | SA/SH >> 5  4 WATER -> 1 SPADE | TP >> 3   \n",
       "3     2 AIR -> 1 W | SA/SH >> 5  4 WATER -> 1 SPADE | TP >> 3   \n",
       "4  4 WATER -> 1 SPADE | TP >> 3       4 WATER -> 1 P | D >> 2   \n",
       "\n",
       "                 score_turn_5                score_turn_6   BON1  BON2  BON3  \\\n",
       "0     4 FIRE -> 4 PW | D >> 2  2 FIRE -> 1 W | SA/SH >> 5  False  True  True   \n",
       "1     4 FIRE -> 4 PW | D >> 2  2 FIRE -> 1 W | SA/SH >> 5  False  True  True   \n",
       "2     4 FIRE -> 4 PW | D >> 2  2 FIRE -> 1 W | SA/SH >> 5  False  True  True   \n",
       "3     4 FIRE -> 4 PW | D >> 2  2 FIRE -> 1 W | SA/SH >> 5  False  True  True   \n",
       "4  4 AIR -> 1 SPADE | TP >> 3   2 AIR -> 1 W | SA/SH >> 5  False  True  True   \n",
       "\n",
       "   BON4  BON5  BON6  BON7   BON8   BON9  BON10  \n",
       "0  True  True  True  True  False   True  False  \n",
       "1  True  True  True  True  False   True  False  \n",
       "2  True  True  True  True  False   True  False  \n",
       "3  True  True  True  True  False   True  False  \n",
       "4  True  True  True  True   True  False  False  "
      ]
     },
     "execution_count": 14,
     "metadata": {},
     "output_type": "execute_result"
    }
   ],
   "source": [
    "recombined_df.head()"
   ]
  },
  {
   "cell_type": "markdown",
   "metadata": {},
   "source": [
    "Ok, so now we have a series of observations that tell us what faction a player chose, their number, the scoring and bonus tiles available, and how far above or below average they scored. We'll have to do some transformations on the factions and scoring tiles before we can use them in a model. I'm kind of regretting giving the scoring tiles such long names. I'm going to switch them back to just numbers for now too"
   ]
  },
  {
   "cell_type": "code",
   "execution_count": 15,
   "metadata": {},
   "outputs": [],
   "source": [
    "# This was the original transformation, we'll just reverse it\n",
    "score_name_dict = {\n",
    "    \"SCORE1\": \"1 EARTH -> 1 C | SPADE >> 2\",\n",
    "    \"SCORE2\": \"4 EARTH -> 1 SPADE | TOWN >> 5\",\n",
    "    \"SCORE3\": \"4 WATER -> 1 P | D >> 2\",\n",
    "    \"SCORE4\": \"2 FIRE -> 1 W | SA/SH >> 5\",\n",
    "    \"SCORE5\": \"4 FIRE -> 4 PW | D >> 2\",\n",
    "    \"SCORE6\": \"4 WATER -> 1 SPADE | TP >> 3\",\n",
    "    \"SCORE7\": \"2 AIR -> 1 W | SA/SH >> 5\",\n",
    "    \"SCORE8\": \"4 AIR -> 1 SPADE | TP >> 3\",\n",
    "    \"SCORE9\": \"1 CULT_P -> 2 C | TE >> 4\",\n",
    "}\n",
    "easy_score_names = {value: key for key, value in score_name_dict.items()}"
   ]
  },
  {
   "cell_type": "code",
   "execution_count": 16,
   "metadata": {},
   "outputs": [
    {
     "data": {
      "text/plain": [
       "{'1 EARTH -> 1 C | SPADE >> 2': 'SCORE1',\n",
       " '4 EARTH -> 1 SPADE | TOWN >> 5': 'SCORE2',\n",
       " '4 WATER -> 1 P | D >> 2': 'SCORE3',\n",
       " '2 FIRE -> 1 W | SA/SH >> 5': 'SCORE4',\n",
       " '4 FIRE -> 4 PW | D >> 2': 'SCORE5',\n",
       " '4 WATER -> 1 SPADE | TP >> 3': 'SCORE6',\n",
       " '2 AIR -> 1 W | SA/SH >> 5': 'SCORE7',\n",
       " '4 AIR -> 1 SPADE | TP >> 3': 'SCORE8',\n",
       " '1 CULT_P -> 2 C | TE >> 4': 'SCORE9'}"
      ]
     },
     "execution_count": 16,
     "metadata": {},
     "output_type": "execute_result"
    }
   ],
   "source": [
    "easy_score_names"
   ]
  },
  {
   "cell_type": "code",
   "execution_count": 17,
   "metadata": {},
   "outputs": [],
   "source": [
    "for i in range(1, 7):\n",
    "    recombined_df[f\"score_turn_{i}\"] = recombined_df[f\"score_turn_{i}\"].map(easy_score_names)"
   ]
  },
  {
   "cell_type": "code",
   "execution_count": 18,
   "metadata": {},
   "outputs": [
    {
     "data": {
      "text/html": [
       "<div>\n",
       "<style scoped>\n",
       "    .dataframe tbody tr th:only-of-type {\n",
       "        vertical-align: middle;\n",
       "    }\n",
       "\n",
       "    .dataframe tbody tr th {\n",
       "        vertical-align: top;\n",
       "    }\n",
       "\n",
       "    .dataframe thead th {\n",
       "        text-align: right;\n",
       "    }\n",
       "</style>\n",
       "<table border=\"1\" class=\"dataframe\">\n",
       "  <thead>\n",
       "    <tr style=\"text-align: right;\">\n",
       "      <th></th>\n",
       "      <th>game_name</th>\n",
       "      <th>faction</th>\n",
       "      <th>vp_margin</th>\n",
       "      <th>player_num</th>\n",
       "      <th>score_turn_1</th>\n",
       "      <th>score_turn_2</th>\n",
       "      <th>score_turn_3</th>\n",
       "      <th>score_turn_4</th>\n",
       "      <th>score_turn_5</th>\n",
       "      <th>score_turn_6</th>\n",
       "      <th>BON1</th>\n",
       "      <th>BON2</th>\n",
       "      <th>BON3</th>\n",
       "      <th>BON4</th>\n",
       "      <th>BON5</th>\n",
       "      <th>BON6</th>\n",
       "      <th>BON7</th>\n",
       "      <th>BON8</th>\n",
       "      <th>BON9</th>\n",
       "      <th>BON10</th>\n",
       "    </tr>\n",
       "  </thead>\n",
       "  <tbody>\n",
       "    <tr>\n",
       "      <th>0</th>\n",
       "      <td>10</td>\n",
       "      <td>witches</td>\n",
       "      <td>-23.00</td>\n",
       "      <td>1</td>\n",
       "      <td>SCORE8</td>\n",
       "      <td>SCORE1</td>\n",
       "      <td>SCORE7</td>\n",
       "      <td>SCORE6</td>\n",
       "      <td>SCORE5</td>\n",
       "      <td>SCORE4</td>\n",
       "      <td>False</td>\n",
       "      <td>True</td>\n",
       "      <td>True</td>\n",
       "      <td>True</td>\n",
       "      <td>True</td>\n",
       "      <td>True</td>\n",
       "      <td>True</td>\n",
       "      <td>False</td>\n",
       "      <td>True</td>\n",
       "      <td>False</td>\n",
       "    </tr>\n",
       "    <tr>\n",
       "      <th>1</th>\n",
       "      <td>10</td>\n",
       "      <td>chaosmagicians</td>\n",
       "      <td>-7.00</td>\n",
       "      <td>2</td>\n",
       "      <td>SCORE8</td>\n",
       "      <td>SCORE1</td>\n",
       "      <td>SCORE7</td>\n",
       "      <td>SCORE6</td>\n",
       "      <td>SCORE5</td>\n",
       "      <td>SCORE4</td>\n",
       "      <td>False</td>\n",
       "      <td>True</td>\n",
       "      <td>True</td>\n",
       "      <td>True</td>\n",
       "      <td>True</td>\n",
       "      <td>True</td>\n",
       "      <td>True</td>\n",
       "      <td>False</td>\n",
       "      <td>True</td>\n",
       "      <td>False</td>\n",
       "    </tr>\n",
       "    <tr>\n",
       "      <th>2</th>\n",
       "      <td>10</td>\n",
       "      <td>swarmlings</td>\n",
       "      <td>-16.00</td>\n",
       "      <td>3</td>\n",
       "      <td>SCORE8</td>\n",
       "      <td>SCORE1</td>\n",
       "      <td>SCORE7</td>\n",
       "      <td>SCORE6</td>\n",
       "      <td>SCORE5</td>\n",
       "      <td>SCORE4</td>\n",
       "      <td>False</td>\n",
       "      <td>True</td>\n",
       "      <td>True</td>\n",
       "      <td>True</td>\n",
       "      <td>True</td>\n",
       "      <td>True</td>\n",
       "      <td>True</td>\n",
       "      <td>False</td>\n",
       "      <td>True</td>\n",
       "      <td>False</td>\n",
       "    </tr>\n",
       "    <tr>\n",
       "      <th>3</th>\n",
       "      <td>10</td>\n",
       "      <td>darklings</td>\n",
       "      <td>46.00</td>\n",
       "      <td>4</td>\n",
       "      <td>SCORE8</td>\n",
       "      <td>SCORE1</td>\n",
       "      <td>SCORE7</td>\n",
       "      <td>SCORE6</td>\n",
       "      <td>SCORE5</td>\n",
       "      <td>SCORE4</td>\n",
       "      <td>False</td>\n",
       "      <td>True</td>\n",
       "      <td>True</td>\n",
       "      <td>True</td>\n",
       "      <td>True</td>\n",
       "      <td>True</td>\n",
       "      <td>True</td>\n",
       "      <td>False</td>\n",
       "      <td>True</td>\n",
       "      <td>False</td>\n",
       "    </tr>\n",
       "    <tr>\n",
       "      <th>4</th>\n",
       "      <td>21</td>\n",
       "      <td>nomads</td>\n",
       "      <td>5.75</td>\n",
       "      <td>1</td>\n",
       "      <td>SCORE1</td>\n",
       "      <td>SCORE5</td>\n",
       "      <td>SCORE6</td>\n",
       "      <td>SCORE3</td>\n",
       "      <td>SCORE8</td>\n",
       "      <td>SCORE7</td>\n",
       "      <td>False</td>\n",
       "      <td>True</td>\n",
       "      <td>True</td>\n",
       "      <td>True</td>\n",
       "      <td>True</td>\n",
       "      <td>True</td>\n",
       "      <td>True</td>\n",
       "      <td>True</td>\n",
       "      <td>False</td>\n",
       "      <td>False</td>\n",
       "    </tr>\n",
       "  </tbody>\n",
       "</table>\n",
       "</div>"
      ],
      "text/plain": [
       "  game_name         faction  vp_margin  player_num score_turn_1 score_turn_2  \\\n",
       "0        10         witches     -23.00           1       SCORE8       SCORE1   \n",
       "1        10  chaosmagicians      -7.00           2       SCORE8       SCORE1   \n",
       "2        10      swarmlings     -16.00           3       SCORE8       SCORE1   \n",
       "3        10       darklings      46.00           4       SCORE8       SCORE1   \n",
       "4        21          nomads       5.75           1       SCORE1       SCORE5   \n",
       "\n",
       "  score_turn_3 score_turn_4 score_turn_5 score_turn_6   BON1  BON2  BON3  \\\n",
       "0       SCORE7       SCORE6       SCORE5       SCORE4  False  True  True   \n",
       "1       SCORE7       SCORE6       SCORE5       SCORE4  False  True  True   \n",
       "2       SCORE7       SCORE6       SCORE5       SCORE4  False  True  True   \n",
       "3       SCORE7       SCORE6       SCORE5       SCORE4  False  True  True   \n",
       "4       SCORE6       SCORE3       SCORE8       SCORE7  False  True  True   \n",
       "\n",
       "   BON4  BON5  BON6  BON7   BON8   BON9  BON10  \n",
       "0  True  True  True  True  False   True  False  \n",
       "1  True  True  True  True  False   True  False  \n",
       "2  True  True  True  True  False   True  False  \n",
       "3  True  True  True  True  False   True  False  \n",
       "4  True  True  True  True   True  False  False  "
      ]
     },
     "execution_count": 18,
     "metadata": {},
     "output_type": "execute_result"
    }
   ],
   "source": [
    "recombined_df.head()"
   ]
  },
  {
   "cell_type": "markdown",
   "metadata": {},
   "source": [
    "OK, that will make the columns easier to read once we start making dummy variables. "
   ]
  },
  {
   "cell_type": "markdown",
   "metadata": {},
   "source": [
    "I'd also like to be able to consider the option that having a given scoring tile matters, but its order doesn't. At least at first. That will certainly be easier to check for to start. Let's add in some columns that will allow that"
   ]
  },
  {
   "cell_type": "code",
   "execution_count": 19,
   "metadata": {},
   "outputs": [],
   "source": [
    "score_cols = [f\"score_turn_{i}\" for i in range(1, 7)]\n",
    "possible_scores = list(score_name_dict.keys())\n",
    "for score in possible_scores:\n",
    "    recombined_df[score] = recombined_df[score_cols].isin([score]).any(axis=\"columns\")"
   ]
  },
  {
   "cell_type": "code",
   "execution_count": 20,
   "metadata": {},
   "outputs": [],
   "source": [
    "drop_cols = [\"faction\", \"game_name\"]\n",
    "drop_cols.extend([f\"score_turn_{i}\" for i in range(1, 7)])\n",
    "dummy_cols = [\"player_num\", \"faction\"]\n",
    "dummy_cols.extend([f\"score_turn_{i}\" for i in range(1, 7)])\n",
    "dummy_frames = [pd.get_dummies(recombined_df[col], prefix=col, drop_first=True) for col in dummy_cols]\n",
    "predict_list = dummy_frames + [recombined_df.drop(columns=drop_cols)]\n",
    "predict_df = pd.concat(predict_list, axis=\"columns\")"
   ]
  },
  {
   "cell_type": "code",
   "execution_count": 21,
   "metadata": {},
   "outputs": [
    {
     "data": {
      "text/plain": [
       "True"
      ]
     },
     "execution_count": 21,
     "metadata": {},
     "output_type": "execute_result"
    }
   ],
   "source": [
    "len(predict_df) == len(recombined_df)"
   ]
  },
  {
   "cell_type": "code",
   "execution_count": 22,
   "metadata": {},
   "outputs": [
    {
     "data": {
      "text/plain": [
       "Index(['player_num_2', 'player_num_3', 'player_num_4', 'faction_auren',\n",
       "       'faction_chaosmagicians', 'faction_cultists', 'faction_darklings',\n",
       "       'faction_dwarves', 'faction_engineers', 'faction_fakirs',\n",
       "       'faction_giants', 'faction_halflings', 'faction_mermaids',\n",
       "       'faction_nomads', 'faction_swarmlings', 'faction_witches',\n",
       "       'score_turn_1_SCORE2', 'score_turn_1_SCORE3', 'score_turn_1_SCORE4',\n",
       "       'score_turn_1_SCORE5', 'score_turn_1_SCORE6', 'score_turn_1_SCORE7',\n",
       "       'score_turn_1_SCORE8', 'score_turn_1_SCORE9', 'score_turn_2_SCORE2',\n",
       "       'score_turn_2_SCORE3', 'score_turn_2_SCORE4', 'score_turn_2_SCORE5',\n",
       "       'score_turn_2_SCORE6', 'score_turn_2_SCORE7', 'score_turn_2_SCORE8',\n",
       "       'score_turn_2_SCORE9', 'score_turn_3_SCORE2', 'score_turn_3_SCORE3',\n",
       "       'score_turn_3_SCORE4', 'score_turn_3_SCORE5', 'score_turn_3_SCORE6',\n",
       "       'score_turn_3_SCORE7', 'score_turn_3_SCORE8', 'score_turn_3_SCORE9',\n",
       "       'score_turn_4_SCORE2', 'score_turn_4_SCORE3', 'score_turn_4_SCORE4',\n",
       "       'score_turn_4_SCORE5', 'score_turn_4_SCORE6', 'score_turn_4_SCORE7',\n",
       "       'score_turn_4_SCORE8', 'score_turn_4_SCORE9', 'score_turn_5_SCORE2',\n",
       "       'score_turn_5_SCORE3', 'score_turn_5_SCORE4', 'score_turn_5_SCORE5',\n",
       "       'score_turn_5_SCORE6', 'score_turn_5_SCORE7', 'score_turn_5_SCORE8',\n",
       "       'score_turn_5_SCORE9', 'score_turn_6_SCORE3', 'score_turn_6_SCORE4',\n",
       "       'score_turn_6_SCORE5', 'score_turn_6_SCORE6', 'score_turn_6_SCORE7',\n",
       "       'score_turn_6_SCORE8', 'score_turn_6_SCORE9', 'vp_margin', 'player_num',\n",
       "       'BON1', 'BON2', 'BON3', 'BON4', 'BON5', 'BON6', 'BON7', 'BON8', 'BON9',\n",
       "       'BON10', 'SCORE1', 'SCORE2', 'SCORE3', 'SCORE4', 'SCORE5', 'SCORE6',\n",
       "       'SCORE7', 'SCORE8', 'SCORE9'],\n",
       "      dtype='object')"
      ]
     },
     "execution_count": 22,
     "metadata": {},
     "output_type": "execute_result"
    }
   ],
   "source": [
    "predict_df.columns"
   ]
  },
  {
   "cell_type": "markdown",
   "metadata": {},
   "source": [
    "Ok, on top of that I'm going to want some interaction terms, because what we really want to know is how being a particular faction modifies the value of certain scoring tiles or bonus tiles."
   ]
  },
  {
   "cell_type": "code",
   "execution_count": 23,
   "metadata": {},
   "outputs": [],
   "source": [
    "faction_cols = [col for col in predict_df.columns if col.startswith(\"faction_\")]\n",
    "non_interact_cols = [\"vp_margin\", \"player_num\"]\n",
    "non_interact_cols.extend(faction_cols)\n",
    "interact_cols = [col for col in predict_df.columns if col not in non_interact_cols]"
   ]
  },
  {
   "cell_type": "markdown",
   "metadata": {},
   "source": [
    "Ok, that many interactions is going to get huge, so actually let's do some simpler modelling to start. Just to get a flavour of things"
   ]
  },
  {
   "cell_type": "code",
   "execution_count": 24,
   "metadata": {},
   "outputs": [],
   "source": [
    "y = predict_df[\"vp_margin\"]\n",
    "x_cols = [\"player_num\"] + faction_cols\n",
    "X = sm.add_constant(predict_df[x_cols])"
   ]
  },
  {
   "cell_type": "code",
   "execution_count": 25,
   "metadata": {},
   "outputs": [
    {
     "data": {
      "text/html": [
       "<table class=\"simpletable\">\n",
       "<caption>OLS Regression Results</caption>\n",
       "<tr>\n",
       "  <th>Dep. Variable:</th>        <td>vp_margin</td>    <th>  R-squared:         </th>  <td>   0.032</td>  \n",
       "</tr>\n",
       "<tr>\n",
       "  <th>Model:</th>                   <td>OLS</td>       <th>  Adj. R-squared:    </th>  <td>   0.032</td>  \n",
       "</tr>\n",
       "<tr>\n",
       "  <th>Method:</th>             <td>Least Squares</td>  <th>  F-statistic:       </th>  <td>   464.2</td>  \n",
       "</tr>\n",
       "<tr>\n",
       "  <th>Date:</th>             <td>Sat, 28 Mar 2020</td> <th>  Prob (F-statistic):</th>   <td>  0.00</td>   \n",
       "</tr>\n",
       "<tr>\n",
       "  <th>Time:</th>                 <td>16:10:28</td>     <th>  Log-Likelihood:    </th> <td>-8.4639e+05</td>\n",
       "</tr>\n",
       "<tr>\n",
       "  <th>No. Observations:</th>      <td>198960</td>      <th>  AIC:               </th>  <td>1.693e+06</td> \n",
       "</tr>\n",
       "<tr>\n",
       "  <th>Df Residuals:</th>          <td>198945</td>      <th>  BIC:               </th>  <td>1.693e+06</td> \n",
       "</tr>\n",
       "<tr>\n",
       "  <th>Df Model:</th>              <td>    14</td>      <th>                     </th>      <td> </td>     \n",
       "</tr>\n",
       "<tr>\n",
       "  <th>Covariance Type:</th>      <td>nonrobust</td>    <th>                     </th>      <td> </td>     \n",
       "</tr>\n",
       "</table>\n",
       "<table class=\"simpletable\">\n",
       "<tr>\n",
       "             <td></td>               <th>coef</th>     <th>std err</th>      <th>t</th>      <th>P>|t|</th>  <th>[0.025</th>    <th>0.975]</th>  \n",
       "</tr>\n",
       "<tr>\n",
       "  <th>const</th>                  <td>   -3.7683</td> <td>    0.220</td> <td>  -17.166</td> <td> 0.000</td> <td>   -4.199</td> <td>   -3.338</td>\n",
       "</tr>\n",
       "<tr>\n",
       "  <th>player_num</th>             <td>   -0.3301</td> <td>    0.035</td> <td>   -9.372</td> <td> 0.000</td> <td>   -0.399</td> <td>   -0.261</td>\n",
       "</tr>\n",
       "<tr>\n",
       "  <th>faction_auren</th>          <td>   -0.2274</td> <td>    0.315</td> <td>   -0.723</td> <td> 0.470</td> <td>   -0.844</td> <td>    0.389</td>\n",
       "</tr>\n",
       "<tr>\n",
       "  <th>faction_chaosmagicians</th> <td>    4.0712</td> <td>    0.233</td> <td>   17.444</td> <td> 0.000</td> <td>    3.614</td> <td>    4.529</td>\n",
       "</tr>\n",
       "<tr>\n",
       "  <th>faction_cultists</th>       <td>    6.7553</td> <td>    0.257</td> <td>   26.303</td> <td> 0.000</td> <td>    6.252</td> <td>    7.259</td>\n",
       "</tr>\n",
       "<tr>\n",
       "  <th>faction_darklings</th>      <td>    9.7877</td> <td>    0.225</td> <td>   43.527</td> <td> 0.000</td> <td>    9.347</td> <td>   10.228</td>\n",
       "</tr>\n",
       "<tr>\n",
       "  <th>faction_dwarves</th>        <td>    3.3857</td> <td>    0.284</td> <td>   11.904</td> <td> 0.000</td> <td>    2.828</td> <td>    3.943</td>\n",
       "</tr>\n",
       "<tr>\n",
       "  <th>faction_engineers</th>      <td>    6.3924</td> <td>    0.240</td> <td>   26.622</td> <td> 0.000</td> <td>    5.922</td> <td>    6.863</td>\n",
       "</tr>\n",
       "<tr>\n",
       "  <th>faction_fakirs</th>         <td>   -4.2379</td> <td>    0.396</td> <td>  -10.692</td> <td> 0.000</td> <td>   -5.015</td> <td>   -3.461</td>\n",
       "</tr>\n",
       "<tr>\n",
       "  <th>faction_giants</th>         <td>   -1.0285</td> <td>    0.298</td> <td>   -3.446</td> <td> 0.001</td> <td>   -1.613</td> <td>   -0.443</td>\n",
       "</tr>\n",
       "<tr>\n",
       "  <th>faction_halflings</th>      <td>    2.8698</td> <td>    0.251</td> <td>   11.445</td> <td> 0.000</td> <td>    2.378</td> <td>    3.361</td>\n",
       "</tr>\n",
       "<tr>\n",
       "  <th>faction_mermaids</th>       <td>    4.2740</td> <td>    0.239</td> <td>   17.872</td> <td> 0.000</td> <td>    3.805</td> <td>    4.743</td>\n",
       "</tr>\n",
       "<tr>\n",
       "  <th>faction_nomads</th>         <td>    3.1887</td> <td>    0.234</td> <td>   13.650</td> <td> 0.000</td> <td>    2.731</td> <td>    3.647</td>\n",
       "</tr>\n",
       "<tr>\n",
       "  <th>faction_swarmlings</th>     <td>    2.6398</td> <td>    0.249</td> <td>   10.585</td> <td> 0.000</td> <td>    2.151</td> <td>    3.129</td>\n",
       "</tr>\n",
       "<tr>\n",
       "  <th>faction_witches</th>        <td>    4.4320</td> <td>    0.240</td> <td>   18.481</td> <td> 0.000</td> <td>    3.962</td> <td>    4.902</td>\n",
       "</tr>\n",
       "</table>\n",
       "<table class=\"simpletable\">\n",
       "<tr>\n",
       "  <th>Omnibus:</th>       <td>1026.977</td> <th>  Durbin-Watson:     </th> <td>   2.495</td> \n",
       "</tr>\n",
       "<tr>\n",
       "  <th>Prob(Omnibus):</th>  <td> 0.000</td>  <th>  Jarque-Bera (JB):  </th> <td>1251.219</td> \n",
       "</tr>\n",
       "<tr>\n",
       "  <th>Skew:</th>           <td>-0.107</td>  <th>  Prob(JB):          </th> <td>2.00e-272</td>\n",
       "</tr>\n",
       "<tr>\n",
       "  <th>Kurtosis:</th>       <td> 3.325</td>  <th>  Cond. No.          </th> <td>    59.4</td> \n",
       "</tr>\n",
       "</table><br/><br/>Warnings:<br/>[1] Standard Errors assume that the covariance matrix of the errors is correctly specified."
      ],
      "text/plain": [
       "<class 'statsmodels.iolib.summary.Summary'>\n",
       "\"\"\"\n",
       "                            OLS Regression Results                            \n",
       "==============================================================================\n",
       "Dep. Variable:              vp_margin   R-squared:                       0.032\n",
       "Model:                            OLS   Adj. R-squared:                  0.032\n",
       "Method:                 Least Squares   F-statistic:                     464.2\n",
       "Date:                Sat, 28 Mar 2020   Prob (F-statistic):               0.00\n",
       "Time:                        16:10:28   Log-Likelihood:            -8.4639e+05\n",
       "No. Observations:              198960   AIC:                         1.693e+06\n",
       "Df Residuals:                  198945   BIC:                         1.693e+06\n",
       "Df Model:                          14                                         \n",
       "Covariance Type:            nonrobust                                         \n",
       "==========================================================================================\n",
       "                             coef    std err          t      P>|t|      [0.025      0.975]\n",
       "------------------------------------------------------------------------------------------\n",
       "const                     -3.7683      0.220    -17.166      0.000      -4.199      -3.338\n",
       "player_num                -0.3301      0.035     -9.372      0.000      -0.399      -0.261\n",
       "faction_auren             -0.2274      0.315     -0.723      0.470      -0.844       0.389\n",
       "faction_chaosmagicians     4.0712      0.233     17.444      0.000       3.614       4.529\n",
       "faction_cultists           6.7553      0.257     26.303      0.000       6.252       7.259\n",
       "faction_darklings          9.7877      0.225     43.527      0.000       9.347      10.228\n",
       "faction_dwarves            3.3857      0.284     11.904      0.000       2.828       3.943\n",
       "faction_engineers          6.3924      0.240     26.622      0.000       5.922       6.863\n",
       "faction_fakirs            -4.2379      0.396    -10.692      0.000      -5.015      -3.461\n",
       "faction_giants            -1.0285      0.298     -3.446      0.001      -1.613      -0.443\n",
       "faction_halflings          2.8698      0.251     11.445      0.000       2.378       3.361\n",
       "faction_mermaids           4.2740      0.239     17.872      0.000       3.805       4.743\n",
       "faction_nomads             3.1887      0.234     13.650      0.000       2.731       3.647\n",
       "faction_swarmlings         2.6398      0.249     10.585      0.000       2.151       3.129\n",
       "faction_witches            4.4320      0.240     18.481      0.000       3.962       4.902\n",
       "==============================================================================\n",
       "Omnibus:                     1026.977   Durbin-Watson:                   2.495\n",
       "Prob(Omnibus):                  0.000   Jarque-Bera (JB):             1251.219\n",
       "Skew:                          -0.107   Prob(JB):                    2.00e-272\n",
       "Kurtosis:                       3.325   Cond. No.                         59.4\n",
       "==============================================================================\n",
       "\n",
       "Warnings:\n",
       "[1] Standard Errors assume that the covariance matrix of the errors is correctly specified.\n",
       "\"\"\""
      ]
     },
     "execution_count": 25,
     "metadata": {},
     "output_type": "execute_result"
    }
   ],
   "source": [
    "simple_model = sm.OLS(y, X).fit()\n",
    "simple_model.summary()"
   ]
  },
  {
   "cell_type": "markdown",
   "metadata": {},
   "source": [
    "Ok, quick interpretation. Looks like going later in the game gives you a slight disadvantage (the -0.33 coefficient). There is definitely variability within the factions. Some of this might be related to stronger players choosing particular factions, but it looks like on average if you see a random game you should bet on the darklings. Worst faction appears to be the fakirs."
   ]
  },
  {
   "cell_type": "markdown",
   "metadata": {},
   "source": [
    "OK. I'm going to push this up and get some feedback. Assuming these results look good I'll refactor some of the code into modules and start trying to build a model to answer the actual question (what faction should you pick given a set of bonus and score cards?)"
   ]
  },
  {
   "cell_type": "code",
   "execution_count": null,
   "metadata": {},
   "outputs": [],
   "source": []
  }
 ],
 "metadata": {
  "kernelspec": {
   "display_name": "Python 3",
   "language": "python",
   "name": "python3"
  },
  "language_info": {
   "codemirror_mode": {
    "name": "ipython",
    "version": 3
   },
   "file_extension": ".py",
   "mimetype": "text/x-python",
   "name": "python",
   "nbconvert_exporter": "python",
   "pygments_lexer": "ipython3",
   "version": "3.7.6"
  }
 },
 "nbformat": 4,
 "nbformat_minor": 4
}
