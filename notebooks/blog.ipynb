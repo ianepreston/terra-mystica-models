{
 "cells": [
  {
   "cell_type": "markdown",
   "metadata": {},
   "source": [
    "# Optimal faction choice in Terra Mystica\n",
    "\n",
    "## The important bits:\n",
    "\n",
    "WebApp can be accessed [here](https://tmmodel.azurewebsites.net/)\n",
    "\n",
    "Code is [here](https://github.com/ianepreston/terra-mystica-models)\n",
    "\n",
    "## Introduction\n",
    "\n",
    "[Terra Mystica](https://boardgamegeek.com/boardgame/120677/terra-mystica) is a strategic board game. Players pick from one of fourteen possible factions and then take turns controlling and developing territory to get victory points. In additional to the physical board version, there is a popular online implementation hosted [here](https://terra.snellman.net/).\n",
    "\n",
    "The game starts by randomly drawing score and bonus tiles, after which players can select their factions. Each faction has distinct abilities that can be enhanced or diminished by the score and bonus tiles. The idea behind this project is to make a model that will recommend a faction based on which score and bonus tiles have been drawn. Snellman has made [data on every game that's been played on the platform](https://terra.snellman.net/data/events/) available, which allowed me to develop a statistical model and then serve up recommendations based on it. This post will describe the process I followed to generate the final product."
   ]
  },
  {
   "cell_type": "markdown",
   "metadata": {},
   "source": [
    "## Setting up for the project\n",
    "\n",
    "I used python for this project, and to create the initial file and folder structure I used the  [cookie cutter data science](https://drivendata.github.io/cookiecutter-data-science/) cookie cutter template with a couple modifications. At the time I started the project I actually based it off their [Azure pipelines branch](https://github.com/drivendata/cookiecutter-data-science/tree/azure-pipelines) since it had some nice updated features, although depending when you're reading this that might have been merged into the main branch. This gave me a directory for package code, notebooks, reference material, a Makefile, documentation, data and other artifacts. I also added pre-commit hooks that would run my code through [black](https://black.readthedocs.io/en/stable/) and lint it with [flake8](https://flake8.pycqa.org/en/latest/) before I could commit anything."
   ]
  },
  {
   "cell_type": "markdown",
   "metadata": {},
   "source": [
    "## Getting the data\n",
    "\n",
    "Like any good data project, the first thing I needed to do was get data. As mentioned in the intro, each month's worth of games is saved as a JSON file on the Snellman page. I used [requests](https://requests.readthedocs.io/en/master/) and [Beautiful Soup](https://www.crummy.com/software/BeautifulSoup/bs4/doc/) to scrape and then download all the JSON files listed at https://terra.snellman.net/data/events/. The full code is available [here](https://github.com/ianepreston/terra-mystica-models/blob/master/terra_mystica_models/data/download_dataset.py). Note that by default the function only downloads JSON up to the month that was available when I started the project. I pinned that by default for reproducibility, but a more productionized implementation would need to be able to download new games and retrain the model on them as they came out."
   ]
  },
  {
   "cell_type": "code",
   "execution_count": null,
   "metadata": {},
   "outputs": [],
   "source": []
  }
 ],
 "metadata": {
  "kernelspec": {
   "display_name": "Python 3",
   "language": "python",
   "name": "python3"
  },
  "language_info": {
   "codemirror_mode": {
    "name": "ipython",
    "version": 3
   },
   "file_extension": ".py",
   "mimetype": "text/x-python",
   "name": "python",
   "nbconvert_exporter": "python",
   "pygments_lexer": "ipython3",
   "version": "3.8.2"
  }
 },
 "nbformat": 4,
 "nbformat_minor": 4
}
