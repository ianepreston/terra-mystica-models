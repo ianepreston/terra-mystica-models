{
 "cells": [
  {
   "cell_type": "code",
   "execution_count": null,
   "metadata": {},
   "outputs": [],
   "source": [
    "%load_ext autoreload\n",
    "%autoreload 2"
   ]
  },
  {
   "cell_type": "code",
   "execution_count": null,
   "metadata": {},
   "outputs": [],
   "source": [
    "from pathlib import Path\n",
    "import sys"
   ]
  },
  {
   "cell_type": "code",
   "execution_count": null,
   "metadata": {},
   "outputs": [],
   "source": [
    "web_path = Path(\".\").resolve().parent / \"webapp\"\n",
    "sys.path.append(str(web_path))"
   ]
  },
  {
   "cell_type": "code",
   "execution_count": 4,
   "metadata": {},
   "outputs": [],
   "source": [
    "import app"
   ]
  },
  {
   "cell_type": "code",
   "execution_count": 5,
   "metadata": {},
   "outputs": [
    {
     "data": {
      "text/html": [
       "<style  type=\"text/css\" >\n",
       "    #T_aa1ade1f_985a_11ea_a8a7_0015836be2aarow0_col0 {\n",
       "            background-color:  #fde725;\n",
       "            color:  #000000;\n",
       "        }    #T_aa1ade1f_985a_11ea_a8a7_0015836be2aarow1_col0 {\n",
       "            background-color:  #8ed645;\n",
       "            color:  #000000;\n",
       "        }    #T_aa1ade1f_985a_11ea_a8a7_0015836be2aarow2_col0 {\n",
       "            background-color:  #20a386;\n",
       "            color:  #000000;\n",
       "        }    #T_aa1ade1f_985a_11ea_a8a7_0015836be2aarow3_col0 {\n",
       "            background-color:  #1e9c89;\n",
       "            color:  #000000;\n",
       "        }    #T_aa1ade1f_985a_11ea_a8a7_0015836be2aarow4_col0 {\n",
       "            background-color:  #1f958b;\n",
       "            color:  #000000;\n",
       "        }    #T_aa1ade1f_985a_11ea_a8a7_0015836be2aarow5_col0 {\n",
       "            background-color:  #24868e;\n",
       "            color:  #000000;\n",
       "        }    #T_aa1ade1f_985a_11ea_a8a7_0015836be2aarow6_col0 {\n",
       "            background-color:  #24868e;\n",
       "            color:  #000000;\n",
       "        }    #T_aa1ade1f_985a_11ea_a8a7_0015836be2aarow7_col0 {\n",
       "            background-color:  #25848e;\n",
       "            color:  #000000;\n",
       "        }    #T_aa1ade1f_985a_11ea_a8a7_0015836be2aarow8_col0 {\n",
       "            background-color:  #2b758e;\n",
       "            color:  #f1f1f1;\n",
       "        }    #T_aa1ade1f_985a_11ea_a8a7_0015836be2aarow9_col0 {\n",
       "            background-color:  #2c718e;\n",
       "            color:  #f1f1f1;\n",
       "        }    #T_aa1ade1f_985a_11ea_a8a7_0015836be2aarow10_col0 {\n",
       "            background-color:  #31668e;\n",
       "            color:  #f1f1f1;\n",
       "        }    #T_aa1ade1f_985a_11ea_a8a7_0015836be2aarow11_col0 {\n",
       "            background-color:  #414487;\n",
       "            color:  #f1f1f1;\n",
       "        }    #T_aa1ade1f_985a_11ea_a8a7_0015836be2aarow12_col0 {\n",
       "            background-color:  #453581;\n",
       "            color:  #f1f1f1;\n",
       "        }    #T_aa1ade1f_985a_11ea_a8a7_0015836be2aarow13_col0 {\n",
       "            background-color:  #440154;\n",
       "            color:  #f1f1f1;\n",
       "        }</style><table id=\"T_aa1ade1f_985a_11ea_a8a7_0015836be2aa\" ><thead>    <tr>        <th class=\"blank level0\" ></th>        <th class=\"col_heading level0 col0\" >Predicted Margin</th>    </tr></thead><tbody>\n",
       "                <tr>\n",
       "                        <th id=\"T_aa1ade1f_985a_11ea_a8a7_0015836be2aalevel0_row0\" class=\"row_heading level0 row0\" >darklings</th>\n",
       "                        <td id=\"T_aa1ade1f_985a_11ea_a8a7_0015836be2aarow0_col0\" class=\"data row0 col0\" >6.95</td>\n",
       "            </tr>\n",
       "            <tr>\n",
       "                        <th id=\"T_aa1ade1f_985a_11ea_a8a7_0015836be2aalevel0_row1\" class=\"row_heading level0 row1\" >cultists</th>\n",
       "                        <td id=\"T_aa1ade1f_985a_11ea_a8a7_0015836be2aarow1_col0\" class=\"data row1 col0\" >3.98</td>\n",
       "            </tr>\n",
       "            <tr>\n",
       "                        <th id=\"T_aa1ade1f_985a_11ea_a8a7_0015836be2aalevel0_row2\" class=\"row_heading level0 row2\" >engineers</th>\n",
       "                        <td id=\"T_aa1ade1f_985a_11ea_a8a7_0015836be2aarow2_col0\" class=\"data row2 col0\" >-0.43</td>\n",
       "            </tr>\n",
       "            <tr>\n",
       "                        <th id=\"T_aa1ade1f_985a_11ea_a8a7_0015836be2aalevel0_row3\" class=\"row_heading level0 row3\" >chaosmagicians</th>\n",
       "                        <td id=\"T_aa1ade1f_985a_11ea_a8a7_0015836be2aarow3_col0\" class=\"data row3 col0\" >-1.01</td>\n",
       "            </tr>\n",
       "            <tr>\n",
       "                        <th id=\"T_aa1ade1f_985a_11ea_a8a7_0015836be2aalevel0_row4\" class=\"row_heading level0 row4\" >mermaids</th>\n",
       "                        <td id=\"T_aa1ade1f_985a_11ea_a8a7_0015836be2aarow4_col0\" class=\"data row4 col0\" >-1.43</td>\n",
       "            </tr>\n",
       "            <tr>\n",
       "                        <th id=\"T_aa1ade1f_985a_11ea_a8a7_0015836be2aalevel0_row5\" class=\"row_heading level0 row5\" >dwarves</th>\n",
       "                        <td id=\"T_aa1ade1f_985a_11ea_a8a7_0015836be2aarow5_col0\" class=\"data row5 col0\" >-2.57</td>\n",
       "            </tr>\n",
       "            <tr>\n",
       "                        <th id=\"T_aa1ade1f_985a_11ea_a8a7_0015836be2aalevel0_row6\" class=\"row_heading level0 row6\" >witches</th>\n",
       "                        <td id=\"T_aa1ade1f_985a_11ea_a8a7_0015836be2aarow6_col0\" class=\"data row6 col0\" >-2.60</td>\n",
       "            </tr>\n",
       "            <tr>\n",
       "                        <th id=\"T_aa1ade1f_985a_11ea_a8a7_0015836be2aalevel0_row7\" class=\"row_heading level0 row7\" >nomads</th>\n",
       "                        <td id=\"T_aa1ade1f_985a_11ea_a8a7_0015836be2aarow7_col0\" class=\"data row7 col0\" >-2.70</td>\n",
       "            </tr>\n",
       "            <tr>\n",
       "                        <th id=\"T_aa1ade1f_985a_11ea_a8a7_0015836be2aalevel0_row8\" class=\"row_heading level0 row8\" >alchemists</th>\n",
       "                        <td id=\"T_aa1ade1f_985a_11ea_a8a7_0015836be2aarow8_col0\" class=\"data row8 col0\" >-3.78</td>\n",
       "            </tr>\n",
       "            <tr>\n",
       "                        <th id=\"T_aa1ade1f_985a_11ea_a8a7_0015836be2aalevel0_row9\" class=\"row_heading level0 row9\" >halflings</th>\n",
       "                        <td id=\"T_aa1ade1f_985a_11ea_a8a7_0015836be2aarow9_col0\" class=\"data row9 col0\" >-4.05</td>\n",
       "            </tr>\n",
       "            <tr>\n",
       "                        <th id=\"T_aa1ade1f_985a_11ea_a8a7_0015836be2aalevel0_row10\" class=\"row_heading level0 row10\" >swarmlings</th>\n",
       "                        <td id=\"T_aa1ade1f_985a_11ea_a8a7_0015836be2aarow10_col0\" class=\"data row10 col0\" >-4.89</td>\n",
       "            </tr>\n",
       "            <tr>\n",
       "                        <th id=\"T_aa1ade1f_985a_11ea_a8a7_0015836be2aalevel0_row11\" class=\"row_heading level0 row11\" >giants</th>\n",
       "                        <td id=\"T_aa1ade1f_985a_11ea_a8a7_0015836be2aarow11_col0\" class=\"data row11 col0\" >-7.11</td>\n",
       "            </tr>\n",
       "            <tr>\n",
       "                        <th id=\"T_aa1ade1f_985a_11ea_a8a7_0015836be2aalevel0_row12\" class=\"row_heading level0 row12\" >auren</th>\n",
       "                        <td id=\"T_aa1ade1f_985a_11ea_a8a7_0015836be2aarow12_col0\" class=\"data row12 col0\" >-7.91</td>\n",
       "            </tr>\n",
       "            <tr>\n",
       "                        <th id=\"T_aa1ade1f_985a_11ea_a8a7_0015836be2aalevel0_row13\" class=\"row_heading level0 row13\" >fakirs</th>\n",
       "                        <td id=\"T_aa1ade1f_985a_11ea_a8a7_0015836be2aarow13_col0\" class=\"data row13 col0\" >-10.63</td>\n",
       "            </tr>\n",
       "    </tbody></table>"
      ],
      "text/plain": [
       "<pandas.io.formats.style.Styler at 0x2b2f5ee4fa0>"
      ]
     },
     "execution_count": 5,
     "metadata": {},
     "output_type": "execute_result"
    }
   ],
   "source": [
    "app.generate_scenario_df(\"SCORE2\", \"SCORE3\", \"SCORE4\", \"SCORE5\", \"SCORE6\", \"SCORE7\", [\"BON1\", \"BON2\", \"BON3\", \"BON4\", \"BON5\", \"BON6\", \"BON7\"])"
   ]
  }
 ],
 "metadata": {
  "kernelspec": {
   "display_name": "Python 3",
   "language": "python",
   "name": "python3"
  },
  "language_info": {
   "codemirror_mode": {
    "name": "ipython",
    "version": 3
   },
   "file_extension": ".py",
   "mimetype": "text/x-python",
   "name": "python",
   "nbconvert_exporter": "python",
   "pygments_lexer": "ipython3",
   "version": "3.8.2"
  }
 },
 "nbformat": 4,
 "nbformat_minor": 4
}
