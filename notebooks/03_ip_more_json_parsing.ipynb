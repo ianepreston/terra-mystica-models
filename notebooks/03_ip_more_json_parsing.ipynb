{
 "cells": [
  {
   "cell_type": "code",
   "execution_count": 1,
   "metadata": {},
   "outputs": [],
   "source": [
    "%load_ext autoreload\n",
    "%autoreload 2"
   ]
  },
  {
   "cell_type": "code",
   "execution_count": 2,
   "metadata": {},
   "outputs": [],
   "source": [
    "import json\n",
    "import re\n",
    "import pandas as pd\n",
    "from pathlib import Path\n",
    "from terra_mystica_models.data import make_dataset"
   ]
  },
  {
   "cell_type": "code",
   "execution_count": 3,
   "metadata": {},
   "outputs": [],
   "source": [
    "json_dir = Path(\".\").resolve().parent / \"data\" / \"raw\""
   ]
  },
  {
   "cell_type": "code",
   "execution_count": 4,
   "metadata": {},
   "outputs": [],
   "source": [
    "eg_json = json_dir / \"2014-01.json\"\n",
    "with open(eg_json) as f:\n",
    "    data = json.load(f)"
   ]
  },
  {
   "cell_type": "markdown",
   "metadata": {},
   "source": [
    "Regarding your bare minimum only use games played n the base original map 126fe960806d587c78546b30f1a90853b1ada468 (edited)\n",
    "\n",
    "You'll want to avoid games that have fire-and-ice-factions fire-and-ice-factions/ice fire-and-ice-factions/variable_v5 fire-and-ice-factions/volcano fire-and-ice-final-scoring\n",
    "\n",
    "these are the expansion factions + expansion scoring\n",
    "\n",
    "they are played online and are interesting, but for now if we are staring simple, then ignore them\n",
    "\n",
    "I have no idea what nofaction is, just ignore any games with it.\n",
    "\n",
    "fire-and-ice-factions/ice are icemaidens and yetis\n",
    "\n",
    "fire-and-ice-factions/volcano are dragonlords and acolytes\n",
    "\n",
    "fire-and-ice-factions/variable_v5 are shapeshifters and riverwalkers\n",
    "\n",
    "SCORE 9 is an expansion scoring tile that has been added to the \"base\" game because it's really good. See here: https://tuesdaydd.slack.com/archives/D0EFM6XST/p1582510066003500\n",
    "\n",
    "Becasue online games are timed (otherwise they'd never finish), players can actively be dropped from games. It happens lots in casual games, less so in ranked games, virtually never in high ranked games.\n",
    "\n",
    "As such excluding any games that have dropped players is actually a good way of \"curating\" results from better players. (edited)"
   ]
  },
  {
   "cell_type": "markdown",
   "metadata": {},
   "source": [
    "Ok, I think I have most of what I need. I still need to figure out play order though so I can build models depending on whether you have first, second choice etc."
   ]
  },
  {
   "cell_type": "code",
   "execution_count": 5,
   "metadata": {},
   "outputs": [],
   "source": [
    "eg_game = data[10]"
   ]
  },
  {
   "cell_type": "code",
   "execution_count": 6,
   "metadata": {},
   "outputs": [
    {
     "data": {
      "text/plain": [
       "[{'player': 'Duilen', 'faction': 'witches'},\n",
       " {'player': 'Lewdog', 'faction': 'mermaids'}]"
      ]
     },
     "execution_count": 6,
     "metadata": {},
     "output_type": "execute_result"
    }
   ],
   "source": [
    "eg_game[\"factions\"]"
   ]
  },
  {
   "cell_type": "code",
   "execution_count": 7,
   "metadata": {},
   "outputs": [
    {
     "data": {
      "text/plain": [
       "{'turn': {'5': {'1': 1}, '3': {'1': 1}}, 'round': {'all': 2, '5': 1, '3': 1}}"
      ]
     },
     "execution_count": 7,
     "metadata": {},
     "output_type": "execute_result"
    }
   ],
   "source": [
    "eg_game[\"events\"][\"faction\"][\"witches\"][\"order:1\"]"
   ]
  },
  {
   "cell_type": "code",
   "execution_count": 8,
   "metadata": {},
   "outputs": [
    {
     "data": {
      "text/plain": [
       "{'turn': {'6': {'1': 1}, '1': {'1': 1}, '4': {'1': 1}, '2': {'1': 1}},\n",
       " 'round': {'6': 1, 'all': 4, '1': 1, '4': 1, '2': 1}}"
      ]
     },
     "execution_count": 8,
     "metadata": {},
     "output_type": "execute_result"
    }
   ],
   "source": [
    "eg_game[\"events\"][\"faction\"][\"witches\"][\"order:2\"]"
   ]
  },
  {
   "cell_type": "markdown",
   "metadata": {},
   "source": [
    "This is turn order for in the game, but there's nothing for turn 0 where I assume faction selection and initial placement happens"
   ]
  },
  {
   "cell_type": "markdown",
   "metadata": {},
   "source": [
    "From discussion with Kyle order of play in round 1 should be equal to order of faction selection, so I'll go with that."
   ]
  },
  {
   "cell_type": "markdown",
   "metadata": {},
   "source": [
    "# Assemble the elements"
   ]
  },
  {
   "cell_type": "code",
   "execution_count": 9,
   "metadata": {},
   "outputs": [],
   "source": [
    "tmg = make_dataset.TerraMysticaGame(eg_game)"
   ]
  },
  {
   "cell_type": "code",
   "execution_count": 10,
   "metadata": {},
   "outputs": [
    {
     "data": {
      "text/plain": [
       "'2p4'"
      ]
     },
     "execution_count": 10,
     "metadata": {},
     "output_type": "execute_result"
    }
   ],
   "source": [
    "tmg.game_name"
   ]
  },
  {
   "cell_type": "code",
   "execution_count": 11,
   "metadata": {},
   "outputs": [
    {
     "data": {
      "text/plain": [
       "datetime.datetime(2014, 1, 16, 22, 28, 53)"
      ]
     },
     "execution_count": 11,
     "metadata": {},
     "output_type": "execute_result"
    }
   ],
   "source": [
    "tmg.game_date"
   ]
  },
  {
   "cell_type": "code",
   "execution_count": 12,
   "metadata": {},
   "outputs": [
    {
     "data": {
      "text/plain": [
       "'126fe960806d587c78546b30f1a90853b1ada468'"
      ]
     },
     "execution_count": 12,
     "metadata": {},
     "output_type": "execute_result"
    }
   ],
   "source": [
    "tmg.base_map"
   ]
  },
  {
   "cell_type": "code",
   "execution_count": 13,
   "metadata": {},
   "outputs": [
    {
     "data": {
      "text/plain": [
       "{'witches': 'Duilen', 'mermaids': 'Lewdog'}"
      ]
     },
     "execution_count": 13,
     "metadata": {},
     "output_type": "execute_result"
    }
   ],
   "source": [
    "tmg.players"
   ]
  },
  {
   "cell_type": "code",
   "execution_count": 14,
   "metadata": {},
   "outputs": [
    {
     "data": {
      "text/plain": [
       "['witches', 'mermaids']"
      ]
     },
     "execution_count": 14,
     "metadata": {},
     "output_type": "execute_result"
    }
   ],
   "source": [
    "tmg.factions"
   ]
  },
  {
   "cell_type": "code",
   "execution_count": 15,
   "metadata": {},
   "outputs": [
    {
     "data": {
      "text/plain": [
       "{'mermaids': 1, 'witches': 2}"
      ]
     },
     "execution_count": 15,
     "metadata": {},
     "output_type": "execute_result"
    }
   ],
   "source": [
    "tmg.faction_selection_order"
   ]
  },
  {
   "cell_type": "code",
   "execution_count": 16,
   "metadata": {},
   "outputs": [
    {
     "data": {
      "text/plain": [
       "{'SCORE5': 5, 'SCORE4': 2, 'SCORE7': 6, 'SCORE3': 4, 'SCORE8': 3, 'SCORE2': 1}"
      ]
     },
     "execution_count": 16,
     "metadata": {},
     "output_type": "execute_result"
    }
   ],
   "source": [
    "tmg.scoring_tile_order"
   ]
  },
  {
   "cell_type": "code",
   "execution_count": 17,
   "metadata": {},
   "outputs": [
    {
     "data": {
      "text/plain": [
       "['BON9', 'BON4', 'BON3', 'BON5', 'BON6']"
      ]
     },
     "execution_count": 17,
     "metadata": {},
     "output_type": "execute_result"
    }
   ],
   "source": [
    "tmg.bonus_tiles"
   ]
  },
  {
   "cell_type": "code",
   "execution_count": 18,
   "metadata": {},
   "outputs": [
    {
     "data": {
      "text/plain": [
       "{'witches': 117, 'mermaids': 114}"
      ]
     },
     "execution_count": 18,
     "metadata": {},
     "output_type": "execute_result"
    }
   ],
   "source": [
    "tmg.victory_points"
   ]
  },
  {
   "cell_type": "code",
   "execution_count": 19,
   "metadata": {},
   "outputs": [
    {
     "data": {
      "text/plain": [
       "True"
      ]
     },
     "execution_count": 19,
     "metadata": {},
     "output_type": "execute_result"
    }
   ],
   "source": [
    "tmg._check_player_count()"
   ]
  },
  {
   "cell_type": "code",
   "execution_count": 20,
   "metadata": {},
   "outputs": [
    {
     "data": {
      "text/plain": [
       "True"
      ]
     },
     "execution_count": 20,
     "metadata": {},
     "output_type": "execute_result"
    }
   ],
   "source": [
    "tmg._check_bonus_tile_count()"
   ]
  },
  {
   "cell_type": "code",
   "execution_count": 21,
   "metadata": {},
   "outputs": [
    {
     "data": {
      "text/plain": [
       "True"
      ]
     },
     "execution_count": 21,
     "metadata": {},
     "output_type": "execute_result"
    }
   ],
   "source": [
    "tmg._is_played_on_original_map()"
   ]
  },
  {
   "cell_type": "markdown",
   "metadata": {},
   "source": [
    "Still to add:\n",
    "More validation. As described above there are certain game options and factions I want to restrict from my analysis so I need to have checkers for that. I also want to know if any players dropped from a game so I can potentially filter on that\n",
    "\n",
    "After that I can actually use this class to turn all these games into some datasets"
   ]
  },
  {
   "cell_type": "code",
   "execution_count": null,
   "metadata": {},
   "outputs": [],
   "source": []
  }
 ],
 "metadata": {
  "kernelspec": {
   "display_name": "Python 3",
   "language": "python",
   "name": "python3"
  },
  "language_info": {
   "codemirror_mode": {
    "name": "ipython",
    "version": 3
   },
   "file_extension": ".py",
   "mimetype": "text/x-python",
   "name": "python",
   "nbconvert_exporter": "python",
   "pygments_lexer": "ipython3",
   "version": "3.7.6"
  }
 },
 "nbformat": 4,
 "nbformat_minor": 4
}
