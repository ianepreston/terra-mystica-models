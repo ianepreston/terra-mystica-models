{
 "cells": [
  {
   "cell_type": "markdown",
   "metadata": {},
   "source": [
    "Last round of parsing I filtered the games in advance of loading them into a dataframe. I also didn't think to add a way to link players of particular factions in particular games. This rebuild of the parser is intended to fix both of those things"
   ]
  },
  {
   "cell_type": "code",
   "execution_count": 1,
   "metadata": {},
   "outputs": [],
   "source": [
    "%load_ext autoreload\n",
    "%autoreload 2"
   ]
  },
  {
   "cell_type": "code",
   "execution_count": 2,
   "metadata": {},
   "outputs": [],
   "source": [
    "import json\n",
    "import itertools\n",
    "import re\n",
    "import pandas as pd\n",
    "from pathlib import Path\n",
    "from terra_mystica_models.data import make_dataset"
   ]
  },
  {
   "cell_type": "code",
   "execution_count": 3,
   "metadata": {},
   "outputs": [],
   "source": [
    "json_dir = Path(\".\").resolve().parent / \"data\" / \"raw\""
   ]
  },
  {
   "cell_type": "code",
   "execution_count": 4,
   "metadata": {},
   "outputs": [],
   "source": [
    "eg_json = json_dir / \"2014-01.json\"\n",
    "with open(eg_json) as f:\n",
    "    data = json.load(f)"
   ]
  },
  {
   "cell_type": "code",
   "execution_count": 5,
   "metadata": {},
   "outputs": [],
   "source": [
    "eg_game = data[10]"
   ]
  },
  {
   "cell_type": "code",
   "execution_count": 6,
   "metadata": {},
   "outputs": [],
   "source": [
    "tmg = make_dataset.TerraMysticaGame(eg_game)"
   ]
  },
  {
   "cell_type": "code",
   "execution_count": 7,
   "metadata": {},
   "outputs": [
    {
     "data": {
      "text/html": [
       "<div>\n",
       "<style scoped>\n",
       "    .dataframe tbody tr th:only-of-type {\n",
       "        vertical-align: middle;\n",
       "    }\n",
       "\n",
       "    .dataframe tbody tr th {\n",
       "        vertical-align: top;\n",
       "    }\n",
       "\n",
       "    .dataframe thead th {\n",
       "        text-align: right;\n",
       "    }\n",
       "</style>\n",
       "<table border=\"1\" class=\"dataframe\">\n",
       "  <thead>\n",
       "    <tr style=\"text-align: right;\">\n",
       "      <th></th>\n",
       "      <th>date</th>\n",
       "      <th>map</th>\n",
       "      <th>number_of_players</th>\n",
       "      <th>player_count_valid</th>\n",
       "      <th>original_map</th>\n",
       "      <th>has_nofaction_players</th>\n",
       "      <th>has_expansion_factions</th>\n",
       "      <th>has_dropped_faction</th>\n",
       "      <th>score_turn_5</th>\n",
       "      <th>score_turn_2</th>\n",
       "      <th>...</th>\n",
       "      <th>BON5</th>\n",
       "      <th>BON4</th>\n",
       "      <th>player_2_user</th>\n",
       "      <th>player_1_user</th>\n",
       "      <th>player_1_faction</th>\n",
       "      <th>player_2_faction</th>\n",
       "      <th>player_2_vp</th>\n",
       "      <th>player_1_vp</th>\n",
       "      <th>player_2_vp_margin</th>\n",
       "      <th>player_1_vp_margin</th>\n",
       "    </tr>\n",
       "  </thead>\n",
       "  <tbody>\n",
       "    <tr>\n",
       "      <th>2p4</th>\n",
       "      <td>2014-01-16 22:28:53</td>\n",
       "      <td>126fe960806d587c78546b30f1a90853b1ada468</td>\n",
       "      <td>2</td>\n",
       "      <td>True</td>\n",
       "      <td>True</td>\n",
       "      <td>False</td>\n",
       "      <td>False</td>\n",
       "      <td>False</td>\n",
       "      <td>4 FIRE -&gt; 4 PW | D &gt;&gt; 2</td>\n",
       "      <td>2 FIRE -&gt; 1 W | SA/SH &gt;&gt; 5</td>\n",
       "      <td>...</td>\n",
       "      <td>True</td>\n",
       "      <td>True</td>\n",
       "      <td>Duilen</td>\n",
       "      <td>Lewdog</td>\n",
       "      <td>mermaids</td>\n",
       "      <td>witches</td>\n",
       "      <td>117</td>\n",
       "      <td>114</td>\n",
       "      <td>3</td>\n",
       "      <td>0</td>\n",
       "    </tr>\n",
       "  </tbody>\n",
       "</table>\n",
       "<p>1 rows × 27 columns</p>\n",
       "</div>"
      ],
      "text/plain": [
       "                   date                                       map  \\\n",
       "2p4 2014-01-16 22:28:53  126fe960806d587c78546b30f1a90853b1ada468   \n",
       "\n",
       "    number_of_players player_count_valid original_map has_nofaction_players  \\\n",
       "2p4                 2               True         True                 False   \n",
       "\n",
       "    has_expansion_factions has_dropped_faction             score_turn_5  \\\n",
       "2p4                  False               False  4 FIRE -> 4 PW | D >> 2   \n",
       "\n",
       "                   score_turn_2  ...  BON5  BON4 player_2_user player_1_user  \\\n",
       "2p4  2 FIRE -> 1 W | SA/SH >> 5  ...  True  True        Duilen        Lewdog   \n",
       "\n",
       "    player_1_faction player_2_faction player_2_vp player_1_vp  \\\n",
       "2p4         mermaids          witches         117         114   \n",
       "\n",
       "    player_2_vp_margin player_1_vp_margin  \n",
       "2p4                  3                  0  \n",
       "\n",
       "[1 rows x 27 columns]"
      ]
     },
     "execution_count": 7,
     "metadata": {},
     "output_type": "execute_result"
    }
   ],
   "source": [
    "tmg.dataframe_row"
   ]
  },
  {
   "cell_type": "markdown",
   "metadata": {},
   "source": [
    "I was running this while I figured out why some games were failing after I changed how restrictive I was parsing games\n",
    "Now I've got an actual runner in my program so I don't need this"
   ]
  },
  {
   "cell_type": "code",
   "execution_count": 8,
   "metadata": {},
   "outputs": [],
   "source": [
    "def bad_game_finder():\n",
    "    for game_dict in make_dataset._games_iterator():\n",
    "        if not game_dict[\"game\"]._has_nofaction_player():\n",
    "            try:\n",
    "                df = game_dict[\"game\"].dataframe_row\n",
    "            except:\n",
    "                print(f\"{game_dict['file']} {game_dict['game'].game_name}\")\n",
    "                return game_dict\n",
    "# bad_game = bad_game_finder()"
   ]
  },
  {
   "cell_type": "code",
   "execution_count": null,
   "metadata": {},
   "outputs": [],
   "source": []
  }
 ],
 "metadata": {
  "kernelspec": {
   "display_name": "Python 3",
   "language": "python",
   "name": "python3"
  },
  "language_info": {
   "codemirror_mode": {
    "name": "ipython",
    "version": 3
   },
   "file_extension": ".py",
   "mimetype": "text/x-python",
   "name": "python",
   "nbconvert_exporter": "python",
   "pygments_lexer": "ipython3",
   "version": "3.7.6"
  }
 },
 "nbformat": 4,
 "nbformat_minor": 4
}
