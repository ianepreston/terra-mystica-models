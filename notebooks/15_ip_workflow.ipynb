{
 "cells": [
  {
   "cell_type": "code",
   "execution_count": 1,
   "metadata": {},
   "outputs": [],
   "source": [
    "%load_ext autoreload\n",
    "%autoreload 2"
   ]
  },
  {
   "cell_type": "code",
   "execution_count": 2,
   "metadata": {},
   "outputs": [
    {
     "name": "stderr",
     "output_type": "stream",
     "text": [
      "Loading postgres module without psycopg2 installed. Will crash at runtime if postgres functionality is used.\n",
      "Loading S3 module without the python package boto3. Will crash at runtime if S3 functionality is used.\n"
     ]
    },
    {
     "name": "stdout",
     "output_type": "stream",
     "text": [
      "Welcome to d6tflow!\n"
     ]
    }
   ],
   "source": [
    "import d6tflow"
   ]
  },
  {
   "cell_type": "code",
   "execution_count": 3,
   "metadata": {},
   "outputs": [],
   "source": [
    "from terra_mystica_models.models.analysis import TaskScoreTurnModelAnalysis, TaskFactionModelAnalysis"
   ]
  },
  {
   "cell_type": "code",
   "execution_count": 4,
   "metadata": {},
   "outputs": [
    {
     "name": "stdout",
     "output_type": "stream",
     "text": [
      "\n",
      "└─--[TaskFactionModelAnalysis-{'_fraction_scenarios': '0.01'} (\u001b[94mPENDING\u001b[0m)]\n",
      "   └─--[TaskFactionLevelModels-{} (\u001b[94mPENDING\u001b[0m)]\n",
      "      └─--[TaskPlayerLevelData-{} (\u001b[94mPENDING\u001b[0m)]\n",
      "         └─--[TaskModelGamesData-{} (\u001b[94mPENDING\u001b[0m)]\n",
      "            └─--[TaskCleanData-{} (\u001b[94mPENDING\u001b[0m)]\n",
      "               └─--[TaskGetData-{} (\u001b[92mCOMPLETE\u001b[0m)]\n"
     ]
    }
   ],
   "source": [
    "d6tflow.preview(TaskFactionModelAnalysis())"
   ]
  },
  {
   "cell_type": "code",
   "execution_count": 5,
   "metadata": {},
   "outputs": [
    {
     "name": "stdout",
     "output_type": "stream",
     "text": [
      "\n",
      "└─--[TaskScoreTurnModelAnalysis-{'_fraction_scenarios': '0.01'} (\u001b[94mPENDING\u001b[0m)]\n",
      "   └─--[TaskScoreTurnModel-{} (\u001b[94mPENDING\u001b[0m)]\n",
      "      └─--[TaskPlayerLevelData-{} (\u001b[94mPENDING\u001b[0m)]\n",
      "         └─--[TaskModelGamesData-{} (\u001b[94mPENDING\u001b[0m)]\n",
      "            └─--[TaskCleanData-{} (\u001b[94mPENDING\u001b[0m)]\n",
      "               └─--[TaskGetData-{} (\u001b[92mCOMPLETE\u001b[0m)]\n"
     ]
    }
   ],
   "source": [
    "d6tflow.preview(TaskScoreTurnModelAnalysis())"
   ]
  },
  {
   "cell_type": "code",
   "execution_count": 6,
   "metadata": {},
   "outputs": [
    {
     "name": "stderr",
     "output_type": "stream",
     "text": [
      "INFO: Informed scheduler that task   TaskFactionModelAnalysis_0_01_79d7bc8f44   has status   PENDING\n",
      "INFO: Informed scheduler that task   TaskFactionLevelModels__99914b932b   has status   PENDING\n",
      "INFO: Informed scheduler that task   TaskPlayerLevelData__99914b932b   has status   PENDING\n",
      "INFO: Informed scheduler that task   TaskModelGamesData__99914b932b   has status   PENDING\n",
      "INFO: Informed scheduler that task   TaskCleanData__99914b932b   has status   PENDING\n",
      "INFO: Informed scheduler that task   TaskGetData__99914b932b   has status   DONE\n",
      "INFO: Done scheduling tasks\n",
      "INFO: Running Worker with 1 processes\n",
      "INFO: [pid 2620] Worker Worker(salt=095881754, workers=1, host=iWindows, username=Ian, pid=2620) running   TaskCleanData()\n",
      "INFO: [pid 2620] Worker Worker(salt=095881754, workers=1, host=iWindows, username=Ian, pid=2620) done      TaskCleanData()\n",
      "INFO: Informed scheduler that task   TaskCleanData__99914b932b   has status   DONE\n",
      "INFO: [pid 2620] Worker Worker(salt=095881754, workers=1, host=iWindows, username=Ian, pid=2620) running   TaskModelGamesData()\n",
      "INFO: [pid 2620] Worker Worker(salt=095881754, workers=1, host=iWindows, username=Ian, pid=2620) done      TaskModelGamesData()\n",
      "INFO: Informed scheduler that task   TaskModelGamesData__99914b932b   has status   DONE\n",
      "INFO: [pid 2620] Worker Worker(salt=095881754, workers=1, host=iWindows, username=Ian, pid=2620) running   TaskPlayerLevelData()\n",
      "INFO: [pid 2620] Worker Worker(salt=095881754, workers=1, host=iWindows, username=Ian, pid=2620) done      TaskPlayerLevelData()\n",
      "INFO: Informed scheduler that task   TaskPlayerLevelData__99914b932b   has status   DONE\n",
      "INFO: [pid 2620] Worker Worker(salt=095881754, workers=1, host=iWindows, username=Ian, pid=2620) running   TaskFactionLevelModels()\n",
      "INFO: [pid 2620] Worker Worker(salt=095881754, workers=1, host=iWindows, username=Ian, pid=2620) done      TaskFactionLevelModels()\n",
      "INFO: Informed scheduler that task   TaskFactionLevelModels__99914b932b   has status   DONE\n",
      "INFO: [pid 2620] Worker Worker(salt=095881754, workers=1, host=iWindows, username=Ian, pid=2620) running   TaskFactionModelAnalysis(_fraction_scenarios=0.01)\n",
      "INFO: [pid 2620] Worker Worker(salt=095881754, workers=1, host=iWindows, username=Ian, pid=2620) done      TaskFactionModelAnalysis(_fraction_scenarios=0.01)\n",
      "INFO: Informed scheduler that task   TaskFactionModelAnalysis_0_01_79d7bc8f44   has status   DONE\n",
      "INFO: Worker Worker(salt=095881754, workers=1, host=iWindows, username=Ian, pid=2620) was stopped. Shutting down Keep-Alive thread\n",
      "INFO: \n",
      "===== Luigi Execution Summary =====\n",
      "\n",
      "Scheduled 6 tasks of which:\n",
      "* 1 complete ones were encountered:\n",
      "    - 1 TaskGetData()\n",
      "* 5 ran successfully:\n",
      "    - 1 TaskCleanData()\n",
      "    - 1 TaskFactionLevelModels()\n",
      "    - 1 TaskFactionModelAnalysis(_fraction_scenarios=0.01)\n",
      "    - 1 TaskModelGamesData()\n",
      "    - 1 TaskPlayerLevelData()\n",
      "\n",
      "This progress looks :) because there were no failed tasks or missing dependencies\n",
      "\n",
      "===== Luigi Execution Summary =====\n",
      "\n"
     ]
    },
    {
     "data": {
      "text/plain": [
       "True"
      ]
     },
     "execution_count": 6,
     "metadata": {},
     "output_type": "execute_result"
    }
   ],
   "source": [
    "d6tflow.run(TaskFactionModelAnalysis()) # single task"
   ]
  },
  {
   "cell_type": "code",
   "execution_count": 7,
   "metadata": {},
   "outputs": [
    {
     "name": "stderr",
     "output_type": "stream",
     "text": [
      "INFO: Informed scheduler that task   TaskScoreTurnModelAnalysis_0_01_79d7bc8f44   has status   PENDING\n",
      "INFO: Informed scheduler that task   TaskScoreTurnModel__99914b932b   has status   PENDING\n",
      "INFO: Informed scheduler that task   TaskPlayerLevelData__99914b932b   has status   DONE\n",
      "INFO: Done scheduling tasks\n",
      "INFO: Running Worker with 1 processes\n",
      "INFO: [pid 2620] Worker Worker(salt=582624278, workers=1, host=iWindows, username=Ian, pid=2620) running   TaskScoreTurnModel()\n",
      "INFO: [pid 2620] Worker Worker(salt=582624278, workers=1, host=iWindows, username=Ian, pid=2620) done      TaskScoreTurnModel()\n",
      "INFO: Informed scheduler that task   TaskScoreTurnModel__99914b932b   has status   DONE\n",
      "INFO: [pid 2620] Worker Worker(salt=582624278, workers=1, host=iWindows, username=Ian, pid=2620) running   TaskScoreTurnModelAnalysis(_fraction_scenarios=0.01)\n",
      "INFO: [pid 2620] Worker Worker(salt=582624278, workers=1, host=iWindows, username=Ian, pid=2620) done      TaskScoreTurnModelAnalysis(_fraction_scenarios=0.01)\n",
      "INFO: Informed scheduler that task   TaskScoreTurnModelAnalysis_0_01_79d7bc8f44   has status   DONE\n",
      "INFO: Worker Worker(salt=582624278, workers=1, host=iWindows, username=Ian, pid=2620) was stopped. Shutting down Keep-Alive thread\n",
      "INFO: \n",
      "===== Luigi Execution Summary =====\n",
      "\n",
      "Scheduled 3 tasks of which:\n",
      "* 1 complete ones were encountered:\n",
      "    - 1 TaskPlayerLevelData()\n",
      "* 2 ran successfully:\n",
      "    - 1 TaskScoreTurnModel()\n",
      "    - 1 TaskScoreTurnModelAnalysis(_fraction_scenarios=0.01)\n",
      "\n",
      "This progress looks :) because there were no failed tasks or missing dependencies\n",
      "\n",
      "===== Luigi Execution Summary =====\n",
      "\n"
     ]
    },
    {
     "data": {
      "text/plain": [
       "True"
      ]
     },
     "execution_count": 7,
     "metadata": {},
     "output_type": "execute_result"
    }
   ],
   "source": [
    "d6tflow.run(TaskScoreTurnModelAnalysis()) # single task"
   ]
  },
  {
   "cell_type": "code",
   "execution_count": 8,
   "metadata": {},
   "outputs": [
    {
     "data": {
      "text/html": [
       "<div>\n",
       "<style scoped>\n",
       "    .dataframe tbody tr th:only-of-type {\n",
       "        vertical-align: middle;\n",
       "    }\n",
       "\n",
       "    .dataframe tbody tr th {\n",
       "        vertical-align: top;\n",
       "    }\n",
       "\n",
       "    .dataframe thead th {\n",
       "        text-align: right;\n",
       "    }\n",
       "</style>\n",
       "<table border=\"1\" class=\"dataframe\">\n",
       "  <thead>\n",
       "    <tr style=\"text-align: right;\">\n",
       "      <th></th>\n",
       "      <th>score_turn_1</th>\n",
       "      <th>score_turn_2</th>\n",
       "      <th>score_turn_3</th>\n",
       "      <th>score_turn_4</th>\n",
       "      <th>score_turn_5</th>\n",
       "      <th>score_turn_6</th>\n",
       "      <th>BON1</th>\n",
       "      <th>BON2</th>\n",
       "      <th>BON3</th>\n",
       "      <th>BON4</th>\n",
       "      <th>...</th>\n",
       "      <th>darklings</th>\n",
       "      <th>dwarves</th>\n",
       "      <th>engineers</th>\n",
       "      <th>fakirs</th>\n",
       "      <th>giants</th>\n",
       "      <th>halflings</th>\n",
       "      <th>mermaids</th>\n",
       "      <th>nomads</th>\n",
       "      <th>swarmlings</th>\n",
       "      <th>witches</th>\n",
       "    </tr>\n",
       "  </thead>\n",
       "  <tbody>\n",
       "    <tr>\n",
       "      <th>0</th>\n",
       "      <td>SCORE1</td>\n",
       "      <td>SCORE2</td>\n",
       "      <td>SCORE3</td>\n",
       "      <td>SCORE4</td>\n",
       "      <td>SCORE9</td>\n",
       "      <td>SCORE8</td>\n",
       "      <td>1</td>\n",
       "      <td>1.0</td>\n",
       "      <td>0.0</td>\n",
       "      <td>1.0</td>\n",
       "      <td>...</td>\n",
       "      <td>3.172042</td>\n",
       "      <td>5.544004</td>\n",
       "      <td>7.104770</td>\n",
       "      <td>-14.149541</td>\n",
       "      <td>-8.607835</td>\n",
       "      <td>-8.125367</td>\n",
       "      <td>0.602770</td>\n",
       "      <td>-4.551079</td>\n",
       "      <td>-6.352256</td>\n",
       "      <td>-5.673129</td>\n",
       "    </tr>\n",
       "    <tr>\n",
       "      <th>1</th>\n",
       "      <td>SCORE1</td>\n",
       "      <td>SCORE2</td>\n",
       "      <td>SCORE3</td>\n",
       "      <td>SCORE5</td>\n",
       "      <td>SCORE6</td>\n",
       "      <td>SCORE8</td>\n",
       "      <td>1</td>\n",
       "      <td>1.0</td>\n",
       "      <td>0.0</td>\n",
       "      <td>1.0</td>\n",
       "      <td>...</td>\n",
       "      <td>4.883789</td>\n",
       "      <td>2.463939</td>\n",
       "      <td>6.006678</td>\n",
       "      <td>-15.978911</td>\n",
       "      <td>-5.174235</td>\n",
       "      <td>-6.011807</td>\n",
       "      <td>1.567171</td>\n",
       "      <td>-2.483932</td>\n",
       "      <td>-7.674485</td>\n",
       "      <td>-6.451949</td>\n",
       "    </tr>\n",
       "    <tr>\n",
       "      <th>2</th>\n",
       "      <td>SCORE1</td>\n",
       "      <td>SCORE2</td>\n",
       "      <td>SCORE3</td>\n",
       "      <td>SCORE7</td>\n",
       "      <td>SCORE9</td>\n",
       "      <td>SCORE8</td>\n",
       "      <td>1</td>\n",
       "      <td>1.0</td>\n",
       "      <td>0.0</td>\n",
       "      <td>1.0</td>\n",
       "      <td>...</td>\n",
       "      <td>3.055746</td>\n",
       "      <td>5.644496</td>\n",
       "      <td>6.714881</td>\n",
       "      <td>-14.804371</td>\n",
       "      <td>-8.679608</td>\n",
       "      <td>-6.417211</td>\n",
       "      <td>-0.467677</td>\n",
       "      <td>-4.366169</td>\n",
       "      <td>-5.739443</td>\n",
       "      <td>-3.066883</td>\n",
       "    </tr>\n",
       "    <tr>\n",
       "      <th>3</th>\n",
       "      <td>SCORE1</td>\n",
       "      <td>SCORE2</td>\n",
       "      <td>SCORE4</td>\n",
       "      <td>SCORE6</td>\n",
       "      <td>SCORE5</td>\n",
       "      <td>SCORE8</td>\n",
       "      <td>1</td>\n",
       "      <td>1.0</td>\n",
       "      <td>0.0</td>\n",
       "      <td>1.0</td>\n",
       "      <td>...</td>\n",
       "      <td>5.305888</td>\n",
       "      <td>3.431975</td>\n",
       "      <td>3.834395</td>\n",
       "      <td>-15.197428</td>\n",
       "      <td>-8.993667</td>\n",
       "      <td>-6.974069</td>\n",
       "      <td>0.716389</td>\n",
       "      <td>-2.029315</td>\n",
       "      <td>-2.515324</td>\n",
       "      <td>-7.193281</td>\n",
       "    </tr>\n",
       "    <tr>\n",
       "      <th>4</th>\n",
       "      <td>SCORE1</td>\n",
       "      <td>SCORE2</td>\n",
       "      <td>SCORE5</td>\n",
       "      <td>SCORE4</td>\n",
       "      <td>SCORE3</td>\n",
       "      <td>SCORE6</td>\n",
       "      <td>1</td>\n",
       "      <td>1.0</td>\n",
       "      <td>0.0</td>\n",
       "      <td>1.0</td>\n",
       "      <td>...</td>\n",
       "      <td>4.437302</td>\n",
       "      <td>6.446017</td>\n",
       "      <td>4.687804</td>\n",
       "      <td>-11.745819</td>\n",
       "      <td>-7.560184</td>\n",
       "      <td>-6.966039</td>\n",
       "      <td>0.692982</td>\n",
       "      <td>-3.848511</td>\n",
       "      <td>-3.779297</td>\n",
       "      <td>-7.703361</td>\n",
       "    </tr>\n",
       "  </tbody>\n",
       "</table>\n",
       "<p>5 rows × 30 columns</p>\n",
       "</div>"
      ],
      "text/plain": [
       "  score_turn_1 score_turn_2 score_turn_3 score_turn_4 score_turn_5  \\\n",
       "0       SCORE1       SCORE2       SCORE3       SCORE4       SCORE9   \n",
       "1       SCORE1       SCORE2       SCORE3       SCORE5       SCORE6   \n",
       "2       SCORE1       SCORE2       SCORE3       SCORE7       SCORE9   \n",
       "3       SCORE1       SCORE2       SCORE4       SCORE6       SCORE5   \n",
       "4       SCORE1       SCORE2       SCORE5       SCORE4       SCORE3   \n",
       "\n",
       "  score_turn_6  BON1  BON2  BON3  BON4  ...  darklings   dwarves  engineers  \\\n",
       "0       SCORE8     1   1.0   0.0   1.0  ...   3.172042  5.544004   7.104770   \n",
       "1       SCORE8     1   1.0   0.0   1.0  ...   4.883789  2.463939   6.006678   \n",
       "2       SCORE8     1   1.0   0.0   1.0  ...   3.055746  5.644496   6.714881   \n",
       "3       SCORE8     1   1.0   0.0   1.0  ...   5.305888  3.431975   3.834395   \n",
       "4       SCORE6     1   1.0   0.0   1.0  ...   4.437302  6.446017   4.687804   \n",
       "\n",
       "      fakirs    giants  halflings  mermaids    nomads  swarmlings   witches  \n",
       "0 -14.149541 -8.607835  -8.125367  0.602770 -4.551079   -6.352256 -5.673129  \n",
       "1 -15.978911 -5.174235  -6.011807  1.567171 -2.483932   -7.674485 -6.451949  \n",
       "2 -14.804371 -8.679608  -6.417211 -0.467677 -4.366169   -5.739443 -3.066883  \n",
       "3 -15.197428 -8.993667  -6.974069  0.716389 -2.029315   -2.515324 -7.193281  \n",
       "4 -11.745819 -7.560184  -6.966039  0.692982 -3.848511   -3.779297 -7.703361  \n",
       "\n",
       "[5 rows x 30 columns]"
      ]
     },
     "execution_count": 8,
     "metadata": {},
     "output_type": "execute_result"
    }
   ],
   "source": [
    "TaskScoreTurnModelAnalysis().output().load().head()"
   ]
  },
  {
   "cell_type": "code",
   "execution_count": null,
   "metadata": {},
   "outputs": [],
   "source": []
  }
 ],
 "metadata": {
  "kernelspec": {
   "display_name": "Python 3",
   "language": "python",
   "name": "python3"
  },
  "language_info": {
   "codemirror_mode": {
    "name": "ipython",
    "version": 3
   },
   "file_extension": ".py",
   "mimetype": "text/x-python",
   "name": "python",
   "nbconvert_exporter": "python",
   "pygments_lexer": "ipython3",
   "version": "3.8.2"
  }
 },
 "nbformat": 4,
 "nbformat_minor": 4
}
